{
 "cells": [
  {
   "cell_type": "code",
   "execution_count": 2,
   "id": "2d7b947b",
   "metadata": {
    "pycharm": {
     "name": "#%%\n"
    }
   },
   "outputs": [],
   "source": [
    "# Load required library for project\n",
    "import pandas as pd\n",
    "import numpy as np\n",
    "import matplotlib.pyplot as plt\n",
    "import seaborn as sns\n",
    "from sklearn import preprocessing\n",
    "from sklearn.preprocessing import StandardScaler\n",
    "from sklearn.model_selection import train_test_split\n",
    "from sklearn.ensemble import RandomForestClassifier\n",
    "from sklearn import metrics\n",
    "from datetime import datetime\n",
    "import sqlite3\n",
    "from sklearn.utils import resample\n"
   ]
  },
  {
   "cell_type": "code",
   "execution_count": 3,
   "id": "5060e30d",
   "metadata": {
    "pycharm": {
     "name": "#%%\n"
    }
   },
   "outputs": [],
   "source": [
    "# Read sqlite query results into a pandas DataFrame\n",
    "df = pd.read_csv('ML_US_Wildfire.csv')"
   ]
  },
  {
   "cell_type": "code",
   "execution_count": 4,
   "id": "4b7d2440",
   "metadata": {
    "pycharm": {
     "name": "#%%\n"
    }
   },
   "outputs": [
    {
     "data": {
      "text/html": [
       "<div>\n",
       "<style scoped>\n",
       "    .dataframe tbody tr th:only-of-type {\n",
       "        vertical-align: middle;\n",
       "    }\n",
       "\n",
       "    .dataframe tbody tr th {\n",
       "        vertical-align: top;\n",
       "    }\n",
       "\n",
       "    .dataframe thead th {\n",
       "        text-align: right;\n",
       "    }\n",
       "</style>\n",
       "<table border=\"1\" class=\"dataframe\">\n",
       "  <thead>\n",
       "    <tr style=\"text-align: right;\">\n",
       "      <th></th>\n",
       "      <th>FIRE_SIZE</th>\n",
       "      <th>LATITUDE</th>\n",
       "      <th>LONGITUDE</th>\n",
       "      <th>NWCG_GENERAL_CAUSE</th>\n",
       "      <th>STATE</th>\n",
       "      <th>day</th>\n",
       "      <th>month</th>\n",
       "      <th>prcp</th>\n",
       "      <th>pres</th>\n",
       "      <th>tavg</th>\n",
       "      <th>tmax</th>\n",
       "      <th>tmin</th>\n",
       "      <th>wspd</th>\n",
       "    </tr>\n",
       "  </thead>\n",
       "  <tbody>\n",
       "    <tr>\n",
       "      <th>0</th>\n",
       "      <td>0.1</td>\n",
       "      <td>44.043333</td>\n",
       "      <td>-121.386111</td>\n",
       "      <td>Recreation and ceremony</td>\n",
       "      <td>OR</td>\n",
       "      <td>5</td>\n",
       "      <td>3</td>\n",
       "      <td>0.0</td>\n",
       "      <td>1025.9</td>\n",
       "      <td>5.8</td>\n",
       "      <td>16.7</td>\n",
       "      <td>-3.3</td>\n",
       "      <td>8.2</td>\n",
       "    </tr>\n",
       "    <tr>\n",
       "      <th>1</th>\n",
       "      <td>3.0</td>\n",
       "      <td>35.900000</td>\n",
       "      <td>-81.683333</td>\n",
       "      <td>Debris and open burning</td>\n",
       "      <td>NC</td>\n",
       "      <td>9</td>\n",
       "      <td>5</td>\n",
       "      <td>0.0</td>\n",
       "      <td>1014.7</td>\n",
       "      <td>18.9</td>\n",
       "      <td>27.8</td>\n",
       "      <td>9.4</td>\n",
       "      <td>6.1</td>\n",
       "    </tr>\n",
       "    <tr>\n",
       "      <th>2</th>\n",
       "      <td>0.1</td>\n",
       "      <td>44.410000</td>\n",
       "      <td>-121.315556</td>\n",
       "      <td>Debris and open burning</td>\n",
       "      <td>OR</td>\n",
       "      <td>2</td>\n",
       "      <td>3</td>\n",
       "      <td>0.0</td>\n",
       "      <td>1016.4</td>\n",
       "      <td>5.0</td>\n",
       "      <td>12.2</td>\n",
       "      <td>-2.2</td>\n",
       "      <td>7.6</td>\n",
       "    </tr>\n",
       "    <tr>\n",
       "      <th>3</th>\n",
       "      <td>0.1</td>\n",
       "      <td>44.012778</td>\n",
       "      <td>-103.382500</td>\n",
       "      <td>Recreation and ceremony</td>\n",
       "      <td>SD</td>\n",
       "      <td>2</td>\n",
       "      <td>1</td>\n",
       "      <td>0.0</td>\n",
       "      <td>1029.5</td>\n",
       "      <td>-12.8</td>\n",
       "      <td>-8.3</td>\n",
       "      <td>-17.8</td>\n",
       "      <td>8.6</td>\n",
       "    </tr>\n",
       "    <tr>\n",
       "      <th>4</th>\n",
       "      <td>0.1</td>\n",
       "      <td>38.700278</td>\n",
       "      <td>-119.840556</td>\n",
       "      <td>Debris and open burning</td>\n",
       "      <td>CA</td>\n",
       "      <td>6</td>\n",
       "      <td>5</td>\n",
       "      <td>0.0</td>\n",
       "      <td>1011.6</td>\n",
       "      <td>4.1</td>\n",
       "      <td>7.2</td>\n",
       "      <td>1.1</td>\n",
       "      <td>15.1</td>\n",
       "    </tr>\n",
       "  </tbody>\n",
       "</table>\n",
       "</div>"
      ],
      "text/plain": [
       "   FIRE_SIZE   LATITUDE   LONGITUDE       NWCG_GENERAL_CAUSE STATE  day  \\\n",
       "0        0.1  44.043333 -121.386111  Recreation and ceremony    OR    5   \n",
       "1        3.0  35.900000  -81.683333  Debris and open burning    NC    9   \n",
       "2        0.1  44.410000 -121.315556  Debris and open burning    OR    2   \n",
       "3        0.1  44.012778 -103.382500  Recreation and ceremony    SD    2   \n",
       "4        0.1  38.700278 -119.840556  Debris and open burning    CA    6   \n",
       "\n",
       "   month  prcp    pres  tavg  tmax  tmin  wspd  \n",
       "0      3   0.0  1025.9   5.8  16.7  -3.3   8.2  \n",
       "1      5   0.0  1014.7  18.9  27.8   9.4   6.1  \n",
       "2      3   0.0  1016.4   5.0  12.2  -2.2   7.6  \n",
       "3      1   0.0  1029.5 -12.8  -8.3 -17.8   8.6  \n",
       "4      5   0.0  1011.6   4.1   7.2   1.1  15.1  "
      ]
     },
     "execution_count": 4,
     "metadata": {},
     "output_type": "execute_result"
    }
   ],
   "source": [
    "df.head()"
   ]
  },
  {
   "cell_type": "code",
   "execution_count": 5,
   "id": "c4f147f1",
   "metadata": {
    "pycharm": {
     "name": "#%%\n"
    }
   },
   "outputs": [
    {
     "name": "stdout",
     "output_type": "stream",
     "text": [
      "min        0.000200\n",
      "max       99.900000\n",
      "median     0.720000\n",
      "mean       3.957436\n",
      "Name: FIRE_SIZE, dtype: float64\n"
     ]
    },
    {
     "data": {
      "image/png": "[encoded data removed]",
      "text/plain": [
       "<Figure size 432x288 with 1 Axes>"
      ]
     },
     "metadata": {},
     "output_type": "display_data"
    }
   ],
   "source": [
    "#### clear outlier\n",
    "df.boxplot(column=['FIRE_SIZE'])\n",
    "Q1 = df['FIRE_SIZE'].quantile(0.25)\n",
    "Q3 = df['FIRE_SIZE'].quantile(0.75)\n",
    "print(df['FIRE_SIZE'].agg(['min', 'max', np.median,'mean']))\n",
    "IQR = Q3 - Q1\n",
    "filter = (df['FIRE_SIZE'] >= Q1 - 1.5 * IQR) & (df['FIRE_SIZE'] <= Q3 + 1.5 *IQR)\n",
    "df1=df.loc[filter]"
   ]
  },
  {
   "cell_type": "code",
   "execution_count": 6,
   "id": "0870a086",
   "metadata": {
    "pycharm": {
     "name": "#%%\n"
    }
   },
   "outputs": [
    {
     "data": {
      "text/plain": [
       "(321577, 13)"
      ]
     },
     "execution_count": 6,
     "metadata": {},
     "output_type": "execute_result"
    }
   ],
   "source": [
    "df_new = df\n",
    "df_new.shape"
   ]
  },
  {
   "cell_type": "markdown",
   "id": "db1dde8e",
   "metadata": {
    "pycharm": {
     "name": "#%% md\n"
    }
   },
   "source": [
    "## 8.  Downsampling and Upsampling"
   ]
  },
  {
   "cell_type": "code",
   "execution_count": 7,
   "id": "7afd87f4",
   "metadata": {
    "pycharm": {
     "name": "#%%\n"
    }
   },
   "outputs": [
    {
     "data": {
      "text/plain": [
       "(275000, 13)"
      ]
     },
     "execution_count": 7,
     "metadata": {},
     "output_type": "execute_result"
    }
   ],
   "source": [
    "Arson = df_new[df_new[\"NWCG_GENERAL_CAUSE\"] == \"Arson/incendiarism\"]\n",
    "Debris  = df_new[df_new[\"NWCG_GENERAL_CAUSE\"] == \"Debris and open burning\"]\n",
    "Equipment = df_new[df_new[\"NWCG_GENERAL_CAUSE\"] == \"Equipment and vehicle use\"]\n",
    "Firearms = df_new[df_new[\"NWCG_GENERAL_CAUSE\"] == \"Firearms and explosives use\"]\n",
    "Fireworks = df_new[df_new[\"NWCG_GENERAL_CAUSE\"] == \"Fireworks\"]\n",
    "Misuse = df_new[df_new[\"NWCG_GENERAL_CAUSE\"] == \"Misuse of fire by a minor\"]\n",
    "Natural = df_new[df_new[\"NWCG_GENERAL_CAUSE\"] == \"Natural\"]\n",
    "Power = df_new[df_new[\"NWCG_GENERAL_CAUSE\"] == \"Power generation/transmission/distribution\"]\n",
    "Railroad = df_new[df_new[\"NWCG_GENERAL_CAUSE\"] == \"Railroad operations and maintenance\"]\n",
    "Recreation = df_new[df_new[\"NWCG_GENERAL_CAUSE\"] == \"Recreation and ceremony\"]\n",
    "Smoking = df_new[df_new[\"NWCG_GENERAL_CAUSE\"] == \"Smoking\"]\n",
    "\n",
    "def up_down_sample(df_new):\n",
    "    result = resample(df_new,\n",
    "             replace=True,\n",
    "             n_samples=25000,\n",
    "             random_state=42)\n",
    "    return result\n",
    "\n",
    "Arson = up_down_sample(Arson)\n",
    "Debris = up_down_sample(Debris)\n",
    "Equipment = up_down_sample(Equipment)\n",
    "Firearms = up_down_sample(Firearms)\n",
    "Fireworks = up_down_sample(Fireworks)\n",
    "Misuse = up_down_sample(Misuse)\n",
    "Natural = up_down_sample(Natural)\n",
    "Power = up_down_sample(Power)\n",
    "Railroad = up_down_sample(Railroad)\n",
    "Recreation = up_down_sample(Recreation)\n",
    "Smoking = up_down_sample(Smoking)\n",
    "\n",
    "resample_dataset = pd.concat([Arson, Debris, Equipment, Firearms, \n",
    "                              Fireworks, Misuse, Natural, Power, Railroad, Recreation, Smoking])\n",
    "resample_dataset.shape"
   ]
  },
  {
   "cell_type": "code",
   "execution_count": 8,
   "id": "894ccffe",
   "metadata": {
    "pycharm": {
     "name": "#%%\n"
    }
   },
   "outputs": [
    {
     "data": {
      "text/html": [
       "<div>\n",
       "<style scoped>\n",
       "    .dataframe tbody tr th:only-of-type {\n",
       "        vertical-align: middle;\n",
       "    }\n",
       "\n",
       "    .dataframe tbody tr th {\n",
       "        vertical-align: top;\n",
       "    }\n",
       "\n",
       "    .dataframe thead th {\n",
       "        text-align: right;\n",
       "    }\n",
       "</style>\n",
       "<table border=\"1\" class=\"dataframe\">\n",
       "  <thead>\n",
       "    <tr style=\"text-align: right;\">\n",
       "      <th></th>\n",
       "      <th>FIRE_SIZE</th>\n",
       "      <th>LATITUDE</th>\n",
       "      <th>LONGITUDE</th>\n",
       "      <th>NWCG_GENERAL_CAUSE</th>\n",
       "      <th>STATE</th>\n",
       "      <th>day</th>\n",
       "      <th>month</th>\n",
       "      <th>prcp</th>\n",
       "      <th>pres</th>\n",
       "      <th>tavg</th>\n",
       "      <th>tmax</th>\n",
       "      <th>tmin</th>\n",
       "      <th>wspd</th>\n",
       "    </tr>\n",
       "  </thead>\n",
       "  <tbody>\n",
       "    <tr>\n",
       "      <th>296254</th>\n",
       "      <td>0.10</td>\n",
       "      <td>41.060400</td>\n",
       "      <td>-74.021600</td>\n",
       "      <td>Arson/incendiarism</td>\n",
       "      <td>NY</td>\n",
       "      <td>18</td>\n",
       "      <td>10</td>\n",
       "      <td>0.0</td>\n",
       "      <td>1025.2</td>\n",
       "      <td>14.7</td>\n",
       "      <td>24.4</td>\n",
       "      <td>6.1</td>\n",
       "      <td>2.6</td>\n",
       "    </tr>\n",
       "    <tr>\n",
       "      <th>81645</th>\n",
       "      <td>23.00</td>\n",
       "      <td>38.258140</td>\n",
       "      <td>-81.319275</td>\n",
       "      <td>Arson/incendiarism</td>\n",
       "      <td>WV</td>\n",
       "      <td>25</td>\n",
       "      <td>11</td>\n",
       "      <td>0.0</td>\n",
       "      <td>1024.7</td>\n",
       "      <td>9.4</td>\n",
       "      <td>21.7</td>\n",
       "      <td>-1.1</td>\n",
       "      <td>1.8</td>\n",
       "    </tr>\n",
       "    <tr>\n",
       "      <th>6290</th>\n",
       "      <td>7.00</td>\n",
       "      <td>33.100000</td>\n",
       "      <td>-79.775000</td>\n",
       "      <td>Arson/incendiarism</td>\n",
       "      <td>SC</td>\n",
       "      <td>13</td>\n",
       "      <td>3</td>\n",
       "      <td>0.0</td>\n",
       "      <td>1030.0</td>\n",
       "      <td>15.8</td>\n",
       "      <td>23.3</td>\n",
       "      <td>8.9</td>\n",
       "      <td>15.1</td>\n",
       "    </tr>\n",
       "    <tr>\n",
       "      <th>175178</th>\n",
       "      <td>4.90</td>\n",
       "      <td>32.286300</td>\n",
       "      <td>-81.184300</td>\n",
       "      <td>Arson/incendiarism</td>\n",
       "      <td>GA</td>\n",
       "      <td>17</td>\n",
       "      <td>2</td>\n",
       "      <td>0.8</td>\n",
       "      <td>1027.3</td>\n",
       "      <td>13.3</td>\n",
       "      <td>17.2</td>\n",
       "      <td>9.4</td>\n",
       "      <td>16.9</td>\n",
       "    </tr>\n",
       "    <tr>\n",
       "      <th>282836</th>\n",
       "      <td>0.72</td>\n",
       "      <td>35.202627</td>\n",
       "      <td>-82.222359</td>\n",
       "      <td>Arson/incendiarism</td>\n",
       "      <td>NC</td>\n",
       "      <td>20</td>\n",
       "      <td>11</td>\n",
       "      <td>0.0</td>\n",
       "      <td>1019.8</td>\n",
       "      <td>2.9</td>\n",
       "      <td>7.2</td>\n",
       "      <td>-1.0</td>\n",
       "      <td>27.4</td>\n",
       "    </tr>\n",
       "  </tbody>\n",
       "</table>\n",
       "</div>"
      ],
      "text/plain": [
       "        FIRE_SIZE   LATITUDE  LONGITUDE  NWCG_GENERAL_CAUSE STATE  day  month  \\\n",
       "296254       0.10  41.060400 -74.021600  Arson/incendiarism    NY   18     10   \n",
       "81645       23.00  38.258140 -81.319275  Arson/incendiarism    WV   25     11   \n",
       "6290         7.00  33.100000 -79.775000  Arson/incendiarism    SC   13      3   \n",
       "175178       4.90  32.286300 -81.184300  Arson/incendiarism    GA   17      2   \n",
       "282836       0.72  35.202627 -82.222359  Arson/incendiarism    NC   20     11   \n",
       "\n",
       "        prcp    pres  tavg  tmax  tmin  wspd  \n",
       "296254   0.0  1025.2  14.7  24.4   6.1   2.6  \n",
       "81645    0.0  1024.7   9.4  21.7  -1.1   1.8  \n",
       "6290     0.0  1030.0  15.8  23.3   8.9  15.1  \n",
       "175178   0.8  1027.3  13.3  17.2   9.4  16.9  \n",
       "282836   0.0  1019.8   2.9   7.2  -1.0  27.4  "
      ]
     },
     "execution_count": 8,
     "metadata": {},
     "output_type": "execute_result"
    }
   ],
   "source": [
    "resample_dataset.head()"
   ]
  },
  {
   "cell_type": "markdown",
   "id": "b08a848d",
   "metadata": {
    "pycharm": {
     "name": "#%% md\n"
    }
   },
   "source": [
    "## 9.  Random Forest"
   ]
  },
  {
   "cell_type": "code",
   "execution_count": 9,
   "id": "5c5d7e37",
   "metadata": {
    "pycharm": {
     "name": "#%%\n"
    }
   },
   "outputs": [],
   "source": [
    "####LabelEncoder\n",
    "le = preprocessing.LabelEncoder()\n",
    "resample_dataset['target']= le.fit_transform(resample_dataset['NWCG_GENERAL_CAUSE'])\n",
    "#X=resample_dataset[['LATITUDE','LONGITUDE', 'DISCOVERY_DOY']].copy().reset_index(drop=True)\n",
    "X=resample_dataset[['LATITUDE','LONGITUDE', 'FIRE_SIZE', 'day', 'month', 'prcp', 'pres', 'tavg', 'tmax', 'tmin', 'wspd']].copy().reset_index(drop=True)\n",
    "X=X.values\n",
    "#y=resample_dataset[['target', 'FIRE_SIZE']].values\n",
    "y=resample_dataset[['target']].values"
   ]
  },
  {
   "cell_type": "code",
   "execution_count": null,
   "outputs": [],
   "source": [
    "resample_dataset.head()"
   ],
   "metadata": {
    "collapsed": false,
    "pycharm": {
     "name": "#%%\n"
    }
   }
  },
  {
   "cell_type": "code",
   "execution_count": null,
   "outputs": [],
   "source": [
    "df = resample_dataset.drop(columns=['STATE'])"
   ],
   "metadata": {
    "collapsed": false,
    "pycharm": {
     "name": "#%%\n"
    }
   }
  },
  {
   "cell_type": "code",
   "execution_count": null,
   "outputs": [],
   "source": [
    "df.head()"
   ],
   "metadata": {
    "collapsed": false,
    "pycharm": {
     "name": "#%%\n"
    }
   }
  },
  {
   "cell_type": "code",
   "execution_count": null,
   "outputs": [],
   "source": [
    "df.to_csv('us_ml_rstudio.csv', index=False)"
   ],
   "metadata": {
    "collapsed": false,
    "pycharm": {
     "name": "#%%\n"
    }
   }
  },
  {
   "cell_type": "code",
   "execution_count": null,
   "outputs": [],
   "source": [
    "X_train,X_test,y_train,y_test=train_test_split(X,y,test_size=0.2)\n",
    "#scaler = StandardScaler()\n",
    "#scaler.fit(X_train)\n",
    "#X_train=scaler.transform(X_train)\n",
    "#X_test=scaler.transform(X_test)"
   ],
   "metadata": {
    "collapsed": false,
    "pycharm": {
     "name": "#%%\n"
    }
   }
  },
  {
   "cell_type": "code",
   "execution_count": 15,
   "id": "86b81b9e",
   "metadata": {},
   "outputs": [],
   "source": [
    "df = resample_dataset.drop(columns=['STATE'])"
   ]
  },
  {
   "cell_type": "code",
   "execution_count": 16,
   "id": "d8d4913d",
   "metadata": {},
   "outputs": [
    {
     "data": {
      "text/html": [
       "<div>\n",
       "<style scoped>\n",
       "    .dataframe tbody tr th:only-of-type {\n",
       "        vertical-align: middle;\n",
       "    }\n",
       "\n",
       "    .dataframe tbody tr th {\n",
       "        vertical-align: top;\n",
       "    }\n",
       "\n",
       "    .dataframe thead th {\n",
       "        text-align: right;\n",
       "    }\n",
       "</style>\n",
       "<table border=\"1\" class=\"dataframe\">\n",
       "  <thead>\n",
       "    <tr style=\"text-align: right;\">\n",
       "      <th></th>\n",
       "      <th>FIRE_SIZE</th>\n",
       "      <th>LATITUDE</th>\n",
       "      <th>LONGITUDE</th>\n",
       "      <th>NWCG_GENERAL_CAUSE</th>\n",
       "      <th>day</th>\n",
       "      <th>month</th>\n",
       "      <th>prcp</th>\n",
       "      <th>pres</th>\n",
       "      <th>tavg</th>\n",
       "      <th>tmax</th>\n",
       "      <th>tmin</th>\n",
       "      <th>wspd</th>\n",
       "      <th>target</th>\n",
       "    </tr>\n",
       "  </thead>\n",
       "  <tbody>\n",
       "    <tr>\n",
       "      <th>296254</th>\n",
       "      <td>0.10</td>\n",
       "      <td>41.060400</td>\n",
       "      <td>-74.021600</td>\n",
       "      <td>Arson/incendiarism</td>\n",
       "      <td>18</td>\n",
       "      <td>10</td>\n",
       "      <td>0.0</td>\n",
       "      <td>1025.2</td>\n",
       "      <td>14.7</td>\n",
       "      <td>24.4</td>\n",
       "      <td>6.1</td>\n",
       "      <td>2.6</td>\n",
       "      <td>0</td>\n",
       "    </tr>\n",
       "    <tr>\n",
       "      <th>81645</th>\n",
       "      <td>23.00</td>\n",
       "      <td>38.258140</td>\n",
       "      <td>-81.319275</td>\n",
       "      <td>Arson/incendiarism</td>\n",
       "      <td>25</td>\n",
       "      <td>11</td>\n",
       "      <td>0.0</td>\n",
       "      <td>1024.7</td>\n",
       "      <td>9.4</td>\n",
       "      <td>21.7</td>\n",
       "      <td>-1.1</td>\n",
       "      <td>1.8</td>\n",
       "      <td>0</td>\n",
       "    </tr>\n",
       "    <tr>\n",
       "      <th>6290</th>\n",
       "      <td>7.00</td>\n",
       "      <td>33.100000</td>\n",
       "      <td>-79.775000</td>\n",
       "      <td>Arson/incendiarism</td>\n",
       "      <td>13</td>\n",
       "      <td>3</td>\n",
       "      <td>0.0</td>\n",
       "      <td>1030.0</td>\n",
       "      <td>15.8</td>\n",
       "      <td>23.3</td>\n",
       "      <td>8.9</td>\n",
       "      <td>15.1</td>\n",
       "      <td>0</td>\n",
       "    </tr>\n",
       "    <tr>\n",
       "      <th>175178</th>\n",
       "      <td>4.90</td>\n",
       "      <td>32.286300</td>\n",
       "      <td>-81.184300</td>\n",
       "      <td>Arson/incendiarism</td>\n",
       "      <td>17</td>\n",
       "      <td>2</td>\n",
       "      <td>0.8</td>\n",
       "      <td>1027.3</td>\n",
       "      <td>13.3</td>\n",
       "      <td>17.2</td>\n",
       "      <td>9.4</td>\n",
       "      <td>16.9</td>\n",
       "      <td>0</td>\n",
       "    </tr>\n",
       "    <tr>\n",
       "      <th>282836</th>\n",
       "      <td>0.72</td>\n",
       "      <td>35.202627</td>\n",
       "      <td>-82.222359</td>\n",
       "      <td>Arson/incendiarism</td>\n",
       "      <td>20</td>\n",
       "      <td>11</td>\n",
       "      <td>0.0</td>\n",
       "      <td>1019.8</td>\n",
       "      <td>2.9</td>\n",
       "      <td>7.2</td>\n",
       "      <td>-1.0</td>\n",
       "      <td>27.4</td>\n",
       "      <td>0</td>\n",
       "    </tr>\n",
       "  </tbody>\n",
       "</table>\n",
       "</div>"
      ],
      "text/plain": [
       "        FIRE_SIZE   LATITUDE  LONGITUDE  NWCG_GENERAL_CAUSE  day  month  prcp  \\\n",
       "296254       0.10  41.060400 -74.021600  Arson/incendiarism   18     10   0.0   \n",
       "81645       23.00  38.258140 -81.319275  Arson/incendiarism   25     11   0.0   \n",
       "6290         7.00  33.100000 -79.775000  Arson/incendiarism   13      3   0.0   \n",
       "175178       4.90  32.286300 -81.184300  Arson/incendiarism   17      2   0.8   \n",
       "282836       0.72  35.202627 -82.222359  Arson/incendiarism   20     11   0.0   \n",
       "\n",
       "          pres  tavg  tmax  tmin  wspd  target  \n",
       "296254  1025.2  14.7  24.4   6.1   2.6       0  \n",
       "81645   1024.7   9.4  21.7  -1.1   1.8       0  \n",
       "6290    1030.0  15.8  23.3   8.9  15.1       0  \n",
       "175178  1027.3  13.3  17.2   9.4  16.9       0  \n",
       "282836  1019.8   2.9   7.2  -1.0  27.4       0  "
      ]
     },
     "execution_count": 16,
     "metadata": {},
     "output_type": "execute_result"
    }
   ],
   "source": [
    "df.head()"
   ]
  },
  {
   "cell_type": "code",
   "execution_count": 17,
   "id": "4cf642e3",
   "metadata": {},
   "outputs": [],
   "source": [
    "df.to_csv('us_ml_rstudio.csv', index=False)"
   ]
  },
  {
   "cell_type": "code",
   "execution_count": 77,
   "id": "9dcbad95",
   "metadata": {
    "pycharm": {
     "name": "#%%\n"
    }
   },
   "outputs": [],
   "source": [
    "X_train,X_test,y_train,y_test=train_test_split(X,y,test_size=0.2)\n",
    "#scaler = StandardScaler()\n",
    "#scaler.fit(X_train)\n",
    "#X_train=scaler.transform(X_train)\n",
    "#X_test=scaler.transform(X_test)"
   ]
  },
  {
   "cell_type": "markdown",
   "id": "faaca68f",
   "metadata": {
    "pycharm": {
     "name": "#%% md\n"
    }
   },
   "source": [
    "## 10. Saving Model"
   ]
  },
  {
   "cell_type": "code",
   "execution_count": null,
   "id": "839e33aa",
   "metadata": {
    "pycharm": {
     "name": "#%%\n"
    }
   },
   "outputs": [],
   "source": [
    "%%time\n",
    "from sklearn.ensemble import RandomForestRegressor\n",
    "####LabelEncoder\n",
    "le = preprocessing.LabelEncoder()\n",
    "resample_dataset['target']= le.fit_transform(resample_dataset['NWCG_GENERAL_CAUSE'])\n",
    "X=resample_dataset[['LATITUDE','LONGITUDE',  'day', 'month']].copy().reset_index(drop=True)\n",
    "X=X.values\n",
    "#y=resample_dataset[['target', 'FIRE_SIZE']].values\n",
    "y=resample_dataset[['target', 'FIRE_SIZE']].values\n",
    "\n",
    "X_train,X_test,y_train,y_test=train_test_split(X,y,test_size=0.2)\n",
    "\n",
    "rf = RandomForestRegressor(n_estimators= 278, min_samples_split= 2, min_samples_leaf= 2, max_depth= 13)\n",
    "rf.fit(X_train, y_train)\n",
    "\n",
    "print(\"\\nModel Report\")\n",
    "rf.score(X_test, y_test)\n",
    "\n",
    "#import joblib\n",
    "#joblib_file = \"random_forest.pkl\"  \n",
    "#joblib.dump(rf, joblib_file)"
   ]
  },
  {
   "cell_type": "code",
   "execution_count": null,
   "id": "7ba7b6ee",
   "metadata": {
    "pycharm": {
     "name": "#%%\n"
    }
   },
   "outputs": [],
   "source": [
    "import joblib\n",
    "joblib_file = \"random_forest.pkl\"  \n",
    "joblib.dump(rf, joblib_file)"
   ]
  },
  {
   "cell_type": "code",
   "execution_count": 80,
   "id": "12fa2dbb",
   "metadata": {
    "pycharm": {
     "name": "#%%\n"
    }
   },
   "outputs": [
    {
     "name": "stderr",
     "output_type": "stream",
     "text": [
      "<timed exec>:2: DataConversionWarning: A column-vector y was passed when a 1d array was expected. Please change the shape of y to (n_samples,), for example using ravel().\n"
     ]
    },
    {
     "name": "stdout",
     "output_type": "stream",
     "text": [
      "\n",
      "Model Report 1\n",
      "Train Accuracy: 0.9889\n",
      "Test Accuracy: 0.784\n",
      "CPU times: user 22min 20s, sys: 2min 2s, total: 24min 23s\n",
      "Wall time: 28min 31s\n"
     ]
    }
   ],
   "source": [
    "%%time\n",
    "rf = RandomForestClassifier(n_estimators= 2000, min_samples_split= 5, min_samples_leaf= 2, max_depth= 30)\n",
    "rf.fit(X_train, y_train)\n",
    "print(\"\\nModel Report 1\")\n",
    "print(\"Train Accuracy: %.4g\" % metrics.accuracy_score(y_train, rf.predict(X_train)))\n",
    "print(\"Test Accuracy: %.4g\" % metrics.accuracy_score(y_test, rf.predict(X_test)))"
   ]
  },
  {
   "cell_type": "markdown",
   "id": "4e2df8d0",
   "metadata": {
    "pycharm": {
     "name": "#%% md\n"
    }
   },
   "source": [
    "## Naive Bayes\n",
    "\n",
    "Naive Bayes is a simple, interpretable model type. We will utilize this model as a baseline to compare more complex models against. The underlying principle of Naive Bayes is Bayes theorem, which does rely on the assumption of independence of predictors. Specifically, the kind of Naive Bayes model that is used is Gaussian. This is because it's a simple baseline, but the predictors will need to be transformed so they follow a normal distribution."
   ]
  },
  {
   "cell_type": "code",
   "execution_count": null,
   "id": "621fcad2",
   "metadata": {
    "pycharm": {
     "name": "#%%\n"
    }
   },
   "outputs": [],
   "source": [
    "X_train,X_test,y_train,y_test=train_test_split(X,y,test_size=0.2)"
   ]
  },
  {
   "cell_type": "code",
   "execution_count": null,
   "id": "5a41803c",
   "metadata": {
    "pycharm": {
     "name": "#%%\n"
    }
   },
   "outputs": [],
   "source": [
    "fig, ax = plt.subplots(2, 2, figsize=(7, 5), constrained_layout=True)\n",
    "\n",
    "data = X_train\n",
    "\n",
    "ax[0,0].hist(data[:, 0], bins =100, density=True, color = '#0000FE')\n",
    "ax[0,0].set_title('Fire Size')\n",
    "ax[0,1].hist(data[:, 1], bins =100, density=True, color = '#0000FE')\n",
    "ax[0,1].set_title('Latitude')\n",
    "ax[1,0].hist(data[:, 2], bins =100, density=True, color = '#0000FE')\n",
    "ax[1,0].set_title('Longitude')\n",
    "ax[1,1].hist(data[:, 3], bins =100, density=True, color = '#0000FE')\n",
    "ax[1,1].set_title('Duration')\n",
    "plt.show()"
   ]
  },
  {
   "cell_type": "markdown",
   "id": "15224db6",
   "metadata": {
    "pycharm": {
     "name": "#%% md\n"
    }
   },
   "source": [
    "These density plots highlight that the distributions will need to be transformed before the model is applied. To do that a quantile transformer is used."
   ]
  },
  {
   "cell_type": "code",
   "execution_count": null,
   "id": "72091c51",
   "metadata": {
    "pycharm": {
     "name": "#%%\n"
    }
   },
   "outputs": [],
   "source": [
    "scaler = QuantileTransformer(\n",
    "    n_quantiles=500, output_distribution=\"normal\")\n",
    "scaler.fit(X_train)\n",
    "X_train1 =scaler.transform(X_train)\n",
    "X_test1 =scaler.transform(X_test)"
   ]
  },
  {
   "cell_type": "code",
   "execution_count": null,
   "id": "94479186",
   "metadata": {
    "pycharm": {
     "name": "#%%\n"
    }
   },
   "outputs": [],
   "source": [
    "fig, ax = plt.subplots(2, 2, figsize=(7, 5), constrained_layout=True)\n",
    "\n",
    "data = X_train1\n",
    "\n",
    "ax[0,0].hist(data[:, 0], bins =100, density=True, color = '#00008B')\n",
    "ax[0,0].set_title('Fire Size')\n",
    "ax[0,1].hist(data[:, 1], bins =100, density=True, color = '#00008B')\n",
    "ax[0,1].set_title('Latitude')\n",
    "ax[1,0].hist(data[:, 2], bins =100, density=True, color = '#00008B')\n",
    "ax[1,0].set_title('Longitude')\n",
    "ax[1,1].hist(data[:, 3], bins =100, density=True, color = '#00008B')\n",
    "ax[1,1].set_title('Duration')\n",
    "plt.show()"
   ]
  },
  {
   "cell_type": "markdown",
   "id": "0542a581",
   "metadata": {
    "pycharm": {
     "name": "#%% md\n"
    }
   },
   "source": [
    "Now that the data is as normal as it will be, the model can be applied and tested against the test data."
   ]
  },
  {
   "cell_type": "code",
   "execution_count": null,
   "id": "ef2d445f",
   "metadata": {
    "pycharm": {
     "name": "#%%\n"
    }
   },
   "outputs": [],
   "source": [
    "nbm = GaussianNB()\n",
    "nbm.fit(X_train2, y_train)\n",
    "nbm.score(X_test2, y_test)"
   ]
  },
  {
   "cell_type": "markdown",
   "id": "65fba74d",
   "metadata": {
    "pycharm": {
     "name": "#%% md\n"
    }
   },
   "source": [
    "The accurary is around 44%, which is considerably low. However, it will be used as the benchmark for the other models explored in this report."
   ]
  },
  {
   "cell_type": "code",
   "execution_count": null,
   "id": "e08fde7c",
   "metadata": {
    "pycharm": {
     "name": "#%%\n"
    }
   },
   "outputs": [],
   "source": [
    "\n",
    "# Load required library for project\n",
    "import pandas as pd\n",
    "import numpy as np\n",
    "import matplotlib.pyplot as plt\n",
    "import seaborn as sns\n",
    "from sklearn import preprocessing\n",
    "from sklearn.neighbors import KNeighborsClassifier\n",
    "from sklearn.preprocessing import StandardScaler\n",
    "from sklearn.model_selection import train_test_split\n",
    "from sklearn.metrics import classification_report, confusion_matrix\n",
    "from sklearn.ensemble import RandomForestClassifier\n",
    "from sklearn import metrics\n",
    "from collections import Counter\n",
    "from imblearn.over_sampling import SMOTE\n",
    "from imblearn.under_sampling import RandomUnderSampler\n",
    "from imblearn.pipeline import Pipeline\n",
    "from pprint import pprint\n",
    "from sklearn.model_selection import RandomizedSearchCV\n",
    "import pickle\n",
    "import itertools\n",
    "from datetime import datetime\n",
    "import sqlite3\n",
    "import folium\n",
    "from folium import Choropleth, Circle, Marker\n",
    "from folium.plugins import HeatMap, MarkerCluster\n",
    "import math\n",
    "from sklearn.utils import resample\n",
    "import tensorflow as tf\n",
    "from sklearn.metrics import accuracy_score, precision_score, recall_score\n",
    "from sklearn.tree import DecisionTreeClassifier # Import Decision Tree Classifier"
   ]
  },
  {
   "cell_type": "code",
   "execution_count": null,
   "id": "c7368933",
   "metadata": {
    "pycharm": {
     "name": "#%%\n"
    }
   },
   "outputs": [],
   "source": [
    "df=pd.read_csv('ML_US_Wildfire.csv')\n",
    "df"
   ]
  },
  {
   "cell_type": "code",
   "execution_count": null,
   "id": "68be82b5",
   "metadata": {
    "pycharm": {
     "name": "#%%\n"
    }
   },
   "outputs": [],
   "source": [
    "corr = df.corr()\n",
    "fig=sns.heatmap(corr,annot=True,cmap='RdYlGn',linewidths=0.2,annot_kws={'size':15})\n",
    "fig=plt.gcf()\n",
    "fig.set_size_inches(18,15)\n",
    "plt.xticks(fontsize=14)\n",
    "plt.yticks(fontsize=14)\n",
    "plt.show()"
   ]
  },
  {
   "cell_type": "code",
   "execution_count": null,
   "id": "8010b265",
   "metadata": {
    "pycharm": {
     "name": "#%%\n"
    }
   },
   "outputs": [],
   "source": [
    "df.boxplot(column=['FIRE_SIZE'])"
   ]
  },
  {
   "cell_type": "code",
   "execution_count": null,
   "id": "0d3303a0",
   "metadata": {
    "pycharm": {
     "name": "#%%\n"
    }
   },
   "outputs": [],
   "source": [
    "#### clear outlier\n",
    "df.boxplot(column=['FIRE_SIZE'])\n",
    "Q1 = df['FIRE_SIZE'].quantile(0.25)\n",
    "Q3 = df['FIRE_SIZE'].quantile(0.75)\n",
    "print(df['FIRE_SIZE'].agg(['min', 'max', np.median,'mean']))\n",
    "IQR = Q3 - Q1\n",
    "filter = (df['FIRE_SIZE'] >= Q1 - 1.5 * IQR) & (df['FIRE_SIZE'] <= Q3 + 1.5 *IQR)\n",
    "df1=df.loc[filter]\n",
    "\n",
    "df1.boxplot(column=['FIRE_SIZE'])"
   ]
  },
  {
   "cell_type": "code",
   "execution_count": null,
   "id": "9dd39bb5",
   "metadata": {
    "pycharm": {
     "name": "#%%\n"
    }
   },
   "outputs": [],
   "source": [
    "####LabelEncoder\n",
    "le = preprocessing.LabelEncoder()\n",
    "df_new['target']= le.fit_transform(df_new['NWCG_GENERAL_CAUSE'])\n",
    "X=df_new[['FIRE_SIZE','LATITUDE','LONGITUDE','day','month','prcp','pres','tavg','tmax', 'tmin', 'wspd']].copy().reset_index(drop=True)\n",
    "X=X.values\n",
    "y=df_new['target'].values"
   ]
  },
  {
   "cell_type": "code",
   "execution_count": null,
   "id": "89def38c",
   "metadata": {
    "pycharm": {
     "name": "#%%\n"
    }
   },
   "outputs": [],
   "source": [
    "####Clean Data\n",
    "filter_1=(df1['NWCG_GENERAL_CAUSE']!='Missing data/not specified/undetermined')& (df1['NWCG_GENERAL_CAUSE']!='Other causes')\n",
    "df_new=df1[filter_1]\n",
    "df_new.columns"
   ]
  },
  {
   "cell_type": "code",
   "execution_count": null,
   "id": "b95151ff",
   "metadata": {
    "pycharm": {
     "name": "#%%\n"
    }
   },
   "outputs": [],
   "source": [
    "df_new['NWCG_GENERAL_CAUSE'].value_counts()"
   ]
  },
  {
   "cell_type": "code",
   "execution_count": null,
   "id": "87c124e0",
   "metadata": {
    "pycharm": {
     "name": "#%%\n"
    }
   },
   "outputs": [],
   "source": [
    "Arson = df_new[df_new[\"NWCG_GENERAL_CAUSE\"] == \"Arson/incendiarism\"]\n",
    "Debris  = df_new[df_new[\"NWCG_GENERAL_CAUSE\"] == \"Debris and open burning\"]\n",
    "Equipment = df_new[df_new[\"NWCG_GENERAL_CAUSE\"] == \"Equipment and vehicle use\"]\n",
    "Firearms = df_new[df_new[\"NWCG_GENERAL_CAUSE\"] == \"Firearms and explosives use\"]\n",
    "Fireworks = df_new[df_new[\"NWCG_GENERAL_CAUSE\"] == \"Fireworks\"]\n",
    "Misuse = df_new[df_new[\"NWCG_GENERAL_CAUSE\"] == \"Misuse of fire by a minor\"]\n",
    "Natural = df_new[df_new[\"NWCG_GENERAL_CAUSE\"] == \"Natural\"]\n",
    "Power = df_new[df_new[\"NWCG_GENERAL_CAUSE\"] == \"Power generation/transmission/distribution\"]\n",
    "Railroad = df_new[df_new[\"NWCG_GENERAL_CAUSE\"] == \"Railroad operations and maintenance\"]\n",
    "Recreation = df_new[df_new[\"NWCG_GENERAL_CAUSE\"] == \"Recreation and ceremony\"]\n",
    "Smoking = df_new[df_new[\"NWCG_GENERAL_CAUSE\"] == \"Smoking\"]\n",
    "\n",
    "def up_down_sample(df_new):\n",
    "    result = resample(df_new,\n",
    "             replace=True,\n",
    "             n_samples=25000,\n",
    "             random_state=42)\n",
    "    return result\n",
    "\n",
    "Arson = up_down_sample(Arson)\n",
    "Debris = up_down_sample(Debris)\n",
    "Equipment = up_down_sample(Equipment)\n",
    "Firearms = up_down_sample(Firearms)\n",
    "Fireworks = up_down_sample(Fireworks)\n",
    "Misuse = up_down_sample(Misuse)\n",
    "Natural = up_down_sample(Natural)\n",
    "Power = up_down_sample(Power)\n",
    "Railroad = up_down_sample(Railroad)\n",
    "Recreation = up_down_sample(Recreation)\n",
    "Smoking = up_down_sample(Smoking)\n",
    "\n",
    "resample_dataset = pd.concat([Arson, Debris, Equipment, Firearms, \n",
    "                              Fireworks, Misuse, Natural, Power, Railroad, Recreation, Smoking])\n",
    "resample_dataset"
   ]
  },
  {
   "cell_type": "code",
   "execution_count": null,
   "id": "01a9f373",
   "metadata": {
    "pycharm": {
     "name": "#%%\n"
    }
   },
   "outputs": [],
   "source": [
    "####LabelEncoder\n",
    "le = preprocessing.LabelEncoder()\n",
    "resample_dataset['target']= le.fit_transform(resample_dataset['NWCG_GENERAL_CAUSE'])\n",
    "X=resample_dataset[['FIRE_SIZE','LATITUDE','LONGITUDE','day','month','prcp','pres','tavg','tmax', 'tmin', 'wspd']].copy().reset_index(drop=True)\n",
    "X=X.values\n",
    "y=resample_dataset['target'].values"
   ]
  },
  {
   "cell_type": "code",
   "execution_count": null,
   "id": "72112da5",
   "metadata": {
    "pycharm": {
     "name": "#%%\n"
    }
   },
   "outputs": [],
   "source": [
    "pd.concat([resample_dataset['NWCG_GENERAL_CAUSE'],resample_dataset['target']]).unique()"
   ]
  },
  {
   "cell_type": "code",
   "execution_count": null,
   "id": "651f6d8c",
   "metadata": {
    "pycharm": {
     "name": "#%%\n"
    }
   },
   "outputs": [],
   "source": [
    "resample_dataset['NWCG_GENERAL_CAUSE'].value_counts()"
   ]
  },
  {
   "cell_type": "code",
   "execution_count": null,
   "id": "b854aca9",
   "metadata": {
    "pycharm": {
     "name": "#%%\n"
    }
   },
   "outputs": [],
   "source": [
    "####KNN\n",
    "X_train,X_test,y_train,y_test=train_test_split(X,y,test_size=0.2)\n",
    "#scaler = StandardScaler()\n",
    "#scaler.fit(X_train)\n",
    "#X_train=scaler.transform(X_train)\n",
    "#X_test=scaler.transform(X_test)\n",
    "#j=[]\n",
    "#train=[]"
   ]
  },
  {
   "cell_type": "code",
   "execution_count": null,
   "id": "8373a8f8",
   "metadata": {
    "pycharm": {
     "name": "#%%\n"
    }
   },
   "outputs": [],
   "source": [
    "classifier=KNeighborsClassifier(n_neighbors=25)\n",
    "classifier.fit(X_train,y_train)\n",
    "y_pred=classifier.predict(X_test)\n",
    "x=classifier.score(X_train, y_train)\n",
    "print(\"Train set accuracy = \" + str(x))\n",
    "print(\"Test set accuracy = \" + str(classifier.\n",
    "                                   score(X_test, y_test)))\n",
    "print(classification_report(y_test,y_pred))"
   ]
  },
  {
   "cell_type": "code",
   "execution_count": null,
   "id": "ed2d4b78",
   "metadata": {
    "pycharm": {
     "name": "#%%\n"
    }
   },
   "outputs": [],
   "source": [
    "le = preprocessing.LabelEncoder()\n",
    "resample_dataset['target']= le.fit_transform(resample_dataset['NWCG_GENERAL_CAUSE'])\n",
    "X=resample_dataset[['LATITUDE','LONGITUDE',  'day', 'month']].copy().reset_index(drop=True)\n",
    "X=X.values\n",
    "#y=resample_dataset[['target', 'FIRE_SIZE']].values\n",
    "y=resample_dataset[['target', 'FIRE_SIZE']].values\n",
    "\n",
    "X_train,X_test,y_train,y_test=train_test_split(X,y,test_size=0.2)"
   ]
  },
  {
   "cell_type": "code",
   "execution_count": null,
   "id": "fd22caa2",
   "metadata": {
    "pycharm": {
     "name": "#%%\n"
    }
   },
   "outputs": [],
   "source": [
    "from sklearn.neighbors import KNeighborsRegressor\n",
    "classifier=KNeighborsRegressor(n_neighbors=1)\n",
    "classifier.fit(X_train,y_train)\n"
   ]
  },
  {
   "cell_type": "code",
   "execution_count": null,
   "id": "c62a854d",
   "metadata": {
    "pycharm": {
     "name": "#%%\n"
    }
   },
   "outputs": [],
   "source": [
    "y_pred=classifier.predict(X_test)\n",
    "x=classifier.score(X_train, y_train)\n",
    "print(\"Train set accuracy = \" + str(x))\n",
    "print(\"Test set accuracy = \" + str(classifier.\n",
    "                                   score(X_test, y_test)))"
   ]
  },
  {
   "cell_type": "code",
   "execution_count": null,
   "id": "7ea61f20",
   "metadata": {
    "pycharm": {
     "name": "#%%\n"
    }
   },
   "outputs": [],
   "source": [
    "import joblib\n",
    "joblib_file = \"knn.pkl\"  \n",
    "joblib.dump(classifier, joblib_file)"
   ]
  },
  {
   "cell_type": "code",
   "execution_count": null,
   "id": "f6bcd50b",
   "metadata": {
    "pycharm": {
     "name": "#%%\n"
    }
   },
   "outputs": [],
   "source": [
    "## Random Forest\n",
    "rf = RandomForestClassifier(n_estimators= 600, min_samples_split= 5, min_samples_leaf= 5, max_depth= 20)\n",
    "rf.fit(X_train, y_train)\n",
    "print(\"\\nModel Report\")\n",
    "print(\"Train Accuracy : %.4g\" % metrics.accuracy_score(y_train, rf.predict(X_train)))\n",
    "print(\"Test Accuracy : %.4g\" % metrics.accuracy_score(y_test, rf.predict(X_test)))"
   ]
  },
  {
   "cell_type": "code",
   "execution_count": null,
   "id": "4e30a594",
   "metadata": {
    "pycharm": {
     "name": "#%%\n"
    }
   },
   "outputs": [],
   "source": [
    "\n",
    "# Number of trees in random forest\n",
    "n_estimators = [int(x) for x in np.linspace(start = 500, stop = 700, num = 5)]\n",
    "# Maximum number of levels in tree\n",
    "max_depth = [int(x) for x in np.linspace(10, 20, num = 5)]\n",
    "# Number of features to consider at every split\n",
    "max_features = ['auto', 'sqrt']\n",
    "# Minimum number of samples required to split a node\n",
    "min_samples_split = [2, 5, 8, 10]\n",
    "# Minimum number of samples required at each leaf node\n",
    "min_samples_leaf = [2, 4, 6, 8, 10]\n",
    "# Create the random grid\n",
    "random_grid = {'n_estimators': n_estimators,\n",
    "               'max_depth': max_depth,\n",
    "               'min_samples_split': min_samples_split,\n",
    "               'min_samples_leaf': min_samples_leaf, \n",
    "              'max_features':max_features}\n",
    "pprint(random_grid)\n",
    "# Use the random grid to search for best hyperparameters\n",
    "# First create the base model to tune\n",
    "rf = RandomForestClassifier()\n",
    "# Random search of parameters, using 3 fold cross validation, \n",
    "# search across 100 different combinations, and use all available cores\n",
    "rf_random = RandomizedSearchCV(estimator = rf, param_distributions = random_grid, n_iter = 100, cv = 3, verbose=2, random_state=42, n_jobs = 7)\n",
    "# Fit the random search model\n",
    "rf_random.fit(X_train, y_train)\n",
    "\n",
    "best = rf_random.best_params_\n",
    "print(best)\n",
    "\n",
    "a=rf_random.cv_results_\n",
    "a=pd.DataFrame(a)\n",
    "a.to_pickle('my_df.pickle')\n",
    "b=pd.read_pickle('my_df.pickle')\n",
    "b.to_csv('randomcv_results_wf_RF_no_re.csv', index=False)\n"
   ]
  },
  {
   "cell_type": "code",
   "execution_count": null,
   "id": "8c964c62",
   "metadata": {
    "pycharm": {
     "name": "#%%\n"
    }
   },
   "outputs": [],
   "source": [
    "'''\n",
    "rf = RandomForestClassifier(n_estimators= 1500, min_samples_split= 5, min_samples_leaf= 2, max_depth= 20, max_features= 'auto')\n",
    "\n",
    "Model Report\n",
    "Train Accuracy : 0.9374\n",
    "Test Accuracy : 0.7592\n",
    "'''\n",
    "'''\n",
    "rf = RandomForestClassifier(n_estimators= 1500, min_samples_split= 7, min_samples_leaf= 7, max_depth= 20, max_features= 'auto')\n",
    "Model Report\n",
    "Train Accuracy : 0.8327\n",
    "Test Accuracy : 0.6846\n",
    "\n",
    "\n",
    "rf = RandomForestClassifier(n_estimators= 1500, min_samples_split= 7, min_samples_leaf= 5, max_depth= 18, max_features= 'auto')\n",
    "Model Report\n",
    "Train Accuracy : 0.8225\n",
    "Test Accuracy : 0.6779\n",
    "\n",
    "rf = RandomForestClassifier(n_estimators= 1500, min_samples_split= 7, min_samples_leaf= 7, max_depth= 17, max_features= 'auto')\n",
    "Model Report\n",
    "Train Accuracy : 0.7563\n",
    "Test Accuracy : 0.6353\n",
    "\n",
    "rf = RandomForestClassifier(n_estimators= 1000, min_samples_split= 7, min_samples_leaf= 7, max_depth= 17, max_features= 'auto')\n",
    "Model Report\n",
    "Train Accuracy : 0.7562\n",
    "Test Accuracy : 0.6353\n",
    "\n",
    "RandomForestClassifier(n_estimators= 500, min_samples_split= 7, min_samples_leaf= 7, max_depth= 17, max_features= 'auto')\n",
    "Model Report\n",
    "Train Accuracy : 0.7559\n",
    "Test Accuracy : 0.6361\n",
    "\n",
    "RandomForestClassifier(n_estimators= 500, min_samples_split= 7, min_samples_leaf= 2, max_depth= 17, max_features= 'auto')\n",
    "Model Report\n",
    "Train Accuracy : 0.8291\n",
    "Test Accuracy : 0.6845\n",
    "'''\n"
   ]
  },
  {
   "cell_type": "code",
   "execution_count": null,
   "id": "c6239afc",
   "metadata": {
    "pycharm": {
     "name": "#%%\n"
    }
   },
   "outputs": [],
   "source": [
    "b.to_csv('randomcv_results_wf_RF_no_re.csv', index=False)"
   ]
  },
  {
   "cell_type": "code",
   "execution_count": null,
   "id": "f3366d84",
   "metadata": {
    "pycharm": {
     "name": "#%%\n"
    }
   },
   "outputs": [],
   "source": [
    "scaler = StandardScaler()\n",
    "X_train_scaled = scaler.fit_transform(X_train)\n",
    "X_test_scaled = scaler.transform(X_test)\n",
    "\n"
   ]
  },
  {
   "cell_type": "code",
   "execution_count": null,
   "id": "39c88a37",
   "metadata": {
    "pycharm": {
     "name": "#%%\n"
    }
   },
   "outputs": [],
   "source": [
    "le = preprocessing.LabelEncoder()\n",
    "resample_dataset['target']= le.fit_transform(resample_dataset['NWCG_GENERAL_CAUSE'])\n",
    "X=resample_dataset[['LATITUDE','LONGITUDE',  'day', 'month']].copy().reset_index(drop=True)\n",
    "X=X.values\n",
    "#y=resample_dataset[['target', 'FIRE_SIZE']].values\n",
    "y=resample_dataset[['target', 'FIRE_SIZE']].values\n",
    "\n",
    "X_train,X_test,y_train,y_test=train_test_split(X,y,test_size=0.2)\n",
    "\n",
    "from sklearn.preprocessing import StandardScaler\n",
    "sc = StandardScaler()\n",
    "X_train = sc.fit_transform(X_train)\n",
    "X_test = sc.transform(X_test)\n"
   ]
  },
  {
   "cell_type": "code",
   "execution_count": null,
   "id": "3c387a4f",
   "metadata": {
    "pycharm": {
     "name": "#%%\n"
    }
   },
   "outputs": [],
   "source": [
    "model = tf.keras.Sequential([\n",
    "    tf.keras.layers.Dense(128, activation='relu'),\n",
    "    tf.keras.layers.Dense(128, activation='relu'),\n",
    "    tf.keras.layers.Dense(64, activation='relu'),\n",
    "    tf.keras.layers.Dense(64, activation='relu'),\n",
    "    tf.keras.layers.Dense(64, activation='relu'),\n",
    "    tf.keras.layers.Dense(11, activation='softmax')\n",
    "])\n",
    "\n",
    "model.compile(optimizer='adam',\n",
    "              loss=tf.keras.losses.SparseCategoricalCrossentropy(from_logits=True),\n",
    "              metrics=['accuracy'])\n"
   ]
  },
  {
   "cell_type": "code",
   "execution_count": null,
   "id": "cf52316e",
   "metadata": {
    "pycharm": {
     "name": "#%%\n"
    }
   },
   "outputs": [],
   "source": [
    "\n",
    "# Number of epochs\n",
    "NUM_EPOCHS = 50\n",
    "\n",
    "# Early stopping set after 5 epochs\n",
    "stop_early = tf.keras.callbacks.EarlyStopping(monitor='val_loss', patience=5)\n",
    "\n",
    "# Train model\n",
    "#model.fit(X_train_scaled, y_train, epochs=NUM_EPOCHS, validation_split=0.2, callbacks=[stop_early], verbose=1)\n",
    "model.fit(X_train, y_train, epochs=NUM_EPOCHS, validation_split=0.2, callbacks=[stop_early], verbose=1)"
   ]
  },
  {
   "cell_type": "code",
   "execution_count": null,
   "id": "8172c8fe",
   "metadata": {
    "pycharm": {
     "name": "#%%\n"
    }
   },
   "outputs": [],
   "source": [
    "le = preprocessing.LabelEncoder()\n",
    "resample_dataset['target']= le.fit_transform(resample_dataset['NWCG_GENERAL_CAUSE'])\n",
    "X=resample_dataset[['LATITUDE','LONGITUDE',  'day', 'month']].copy().reset_index(drop=True)\n",
    "X=X.values\n",
    "#y=resample_dataset[['target', 'FIRE_SIZE']].values\n",
    "y=resample_dataset[['target', 'FIRE_SIZE']].values\n",
    "\n",
    "X_train,X_test,y_train,y_test=train_test_split(X,y,test_size=0.2)\n"
   ]
  },
  {
   "cell_type": "code",
   "execution_count": null,
   "id": "2be8ca8c",
   "metadata": {
    "pycharm": {
     "name": "#%%\n"
    }
   },
   "outputs": [],
   "source": [
    "from sklearn.tree import DecisionTreeRegressor\n",
    "clf = DecisionTreeRegressor(min_samples_leaf=10, max_features=None, max_depth=40,min_samples_split=10)\n",
    "\n",
    "# Train Decision Tree Classifer\n",
    "clf = clf.fit(X_train,y_train)\n",
    "\n",
    "\n",
    "print(\"\\nModel Report\")\n",
    "clf.score(X_test, y_test)"
   ]
  },
  {
   "cell_type": "code",
   "execution_count": null,
   "id": "ceda6400",
   "metadata": {
    "pycharm": {
     "name": "#%%\n"
    }
   },
   "outputs": [],
   "source": [
    "import joblib\n",
    "joblib_file = \"decision_tree.pkl\"  \n",
    "joblib.dump(clf, joblib_file)"
   ]
  },
  {
   "cell_type": "code",
   "execution_count": null,
   "id": "7e97f114",
   "metadata": {
    "pycharm": {
     "name": "#%%\n"
    }
   },
   "outputs": [],
   "source": [
    "parameters={\"max_depth\" : [5,10,15,20],\n",
    "           \"min_samples_leaf\":[3,5,7],\n",
    "           \"max_features\":[\"auto\",\"log2\",\"sqrt\",None],\n",
    "           \"min_samples_split\":[3,5,7] }"
   ]
  },
  {
   "cell_type": "code",
   "execution_count": null,
   "id": "db52f1ae",
   "metadata": {
    "pycharm": {
     "name": "#%%\n"
    }
   },
   "outputs": [],
   "source": [
    "pprint(parameters)\n",
    "# Use the random grid to search for best hyperparameters\n",
    "# First create the base model to tune\n",
    "clf = DecisionTreeClassifier()\n",
    "# Random search of parameters, using 3 fold cross validation, \n",
    "# search across 100 different combinations, and use all available cores\n",
    "rf_random = RandomizedSearchCV(estimator = clf, param_distributions = parameters, n_iter = 100, cv = 3, verbose=2, random_state=42, n_jobs = 7)\n",
    "# Fit the random search model\n",
    "rf_random.fit(X_train, y_train)\n",
    "\n",
    "best = rf_random.best_params_\n",
    "print(best)\n",
    "\n",
    "a=rf_random.cv_results_\n",
    "a=pd.DataFrame(a)\n",
    "a.to_pickle('my_df.pickle')\n",
    "b=pd.read_pickle('my_df.pickle')\n",
    "b.to_csv('randomcv_clf_wf_RF_no_re.csv', index=False)"
   ]
  },
  {
   "cell_type": "code",
   "execution_count": null,
   "id": "444f8925",
   "metadata": {
    "pycharm": {
     "name": "#%%\n"
    }
   },
   "outputs": [],
   "source": [
    "clf = DecisionTreeClassifier(min_samples_leaf=3, max_features=None, max_depth=20,min_samples_split=3)\n",
    "\n",
    "# Train Decision Tree Classifer\n",
    "clf = clf.fit(X_train,y_train)\n",
    "\n",
    "#Predict the response for test dataset\n",
    "y_pred = clf.predict(X_test)\n",
    "y_pred_train = clf.predict(X_train)\n",
    "\n",
    "# Model Accuracy, how often is the classifier correct?\n",
    "print(\"Test Accuracy:\",metrics.accuracy_score(y_train, y_pred_train))\n",
    "print(\"Test Accuracy:\",metrics.accuracy_score(y_test, y_pred))"
   ]
  },
  {
   "cell_type": "code",
   "execution_count": null,
   "id": "97848b04",
   "metadata": {
    "pycharm": {
     "name": "#%%\n"
    }
   },
   "outputs": [],
   "source": [
    "le = preprocessing.LabelEncoder()\n",
    "resample_dataset['target']= le.fit_transform(resample_dataset['NWCG_GENERAL_CAUSE'])\n",
    "X=resample_dataset[['LATITUDE','LONGITUDE',  'day', 'month']].copy().reset_index(drop=True)\n",
    "X=X.values\n",
    "#y=resample_dataset[['target', 'FIRE_SIZE']].values\n",
    "y=resample_dataset[['target', 'FIRE_SIZE']].values\n",
    "\n",
    "X_train,X_test,y_train,y_test=train_test_split(X,y,test_size=0.2)\n"
   ]
  },
  {
   "cell_type": "code",
   "execution_count": null,
   "id": "a99fc07a",
   "metadata": {
    "pycharm": {
     "name": "#%%\n"
    }
   },
   "outputs": [],
   "source": [
    "import xgboost as xgb\n",
    "from sklearn.metrics import accuracy_score\n",
    "from hyperopt import STATUS_OK, Trials, fmin, hp, tpe\n",
    "import hyperopt\n",
    "from xgboost.sklearn import XGBClassifier"
   ]
  },
  {
   "cell_type": "code",
   "execution_count": null,
   "id": "c6390f6e",
   "metadata": {
    "pycharm": {
     "name": "#%%\n"
    }
   },
   "outputs": [],
   "source": [
    "from sklearn.multioutput import MultiOutputRegressor\n",
    "multioutputregressor = MultiOutputRegressor(xgb.XGBRegressor(objective='reg:linear')).fit(X_train, y_train)"
   ]
  },
  {
   "cell_type": "code",
   "execution_count": null,
   "id": "25ada648",
   "metadata": {
    "pycharm": {
     "name": "#%%\n"
    }
   },
   "outputs": [],
   "source": [
    "multioutputregressor.score(X_test, y_test)"
   ]
  },
  {
   "cell_type": "code",
   "execution_count": null,
   "id": "42a2885d",
   "metadata": {
    "pycharm": {
     "name": "#%%\n"
    }
   },
   "outputs": [],
   "source": [
    "import joblib\n",
    "joblib_file = \"xgboost.pkl\"  \n",
    "joblib.dump(clf, joblib_file)"
   ]
  },
  {
   "cell_type": "code",
   "execution_count": null,
   "id": "8e8677fd",
   "metadata": {
    "pycharm": {
     "name": "#%%\n"
    }
   },
   "outputs": [],
   "source": [
    "x_cfl3=XGBClassifier()\n",
    "x_cfl3.fit(X_train, y_train)\n",
    "print(\"For XGboost:\")\n",
    "print(\"Train set accuracy = \" + str(x_cfl3.score(X_train, y_train)))\n",
    "print(\"Test set accuracy = \" + str(x_cfl3.score(X_test, y_test)))"
   ]
  },
  {
   "cell_type": "code",
   "execution_count": null,
   "id": "069b4c56",
   "metadata": {
    "pycharm": {
     "name": "#%%\n"
    }
   },
   "outputs": [],
   "source": [
    "x_cfl3=XGBClassifier(n_estimators=700, subsample=1.0, colsample_by_tree=1.0, max_depth=20,learning_rate=0.2,gamma=2)\n",
    "x_cfl3.fit(X_train, y_train)\n",
    "print(\"For XGboost:\")\n",
    "print(\"Train set accuracy = \" + str(x_cfl3.score(X_train, y_train)))\n",
    "print(\"Test set accuracy = \" + str(x_cfl3.score(X_test, y_test)))"
   ]
  },
  {
   "cell_type": "code",
   "execution_count": null,
   "id": "882583ff",
   "metadata": {
    "pycharm": {
     "name": "#%%\n"
    }
   },
   "outputs": [],
   "source": [
    "#RandomCV\n",
    "x_cfl=XGBClassifier(num_class=11,n_jobs = 7)\n",
    "prams={\n",
    "'learning_rate':[0.1,0.2,0.5],\n",
    "'n_estimators':[400,500,700],\n",
    "'max_depth':[5,10,15,20],\n",
    "'colsample_bytree':[0.5,0.8,1],\n",
    "'subsample':[0.2,0.5,0.8,1],\n",
    "'gamma':[1,2,5]\n",
    "}\n",
    "random_cfl=RandomizedSearchCV(x_cfl,param_distributions=prams)\n",
    "random_cfl.fit(X_train, y_train)\n",
    "c=random_cfl.cv_results_\n",
    "c=pd.DataFrame(c)\n",
    "c.to_pickle('my_df.pickle')\n",
    "d=pd.read_pickle('my_df.pickle')\n",
    "d.to_csv('xg_randomcv_results.csv', index=False)\n"
   ]
  },
  {
   "cell_type": "code",
   "execution_count": null,
   "id": "a70ab6be",
   "metadata": {
    "pycharm": {
     "name": "#%%\n"
    }
   },
   "outputs": [],
   "source": [
    "x_cfl3=XGBClassifier(n_estimators=400, subsample=0.8, colsample_by_tree=1.0, max_depth=20,learning_rate=0.2,gamma=1)\n",
    "x_cfl3.fit(X_train, y_train)\n",
    "print(\"For XGboost:\")\n",
    "print(\"Train set accuracy = \" + str(x_cfl3.score(X_train, y_train)))\n",
    "print(\"Test set accuracy = \" + str(x_cfl3.score(X_test, y_test)))"
   ]
  }
 ],
 "metadata": {
  "kernelspec": {
   "display_name": "Python 3 (ipykernel)",
   "language": "python",
   "name": "python3"
  },
  "language_info": {
   "codemirror_mode": {
    "name": "ipython",
    "version": 3
   },
   "file_extension": ".py",
   "mimetype": "text/x-python",
   "name": "python",
   "nbconvert_exporter": "python",
   "pygments_lexer": "ipython3",
   "version": "3.9.7"
  }
 },
 "nbformat": 4,
 "nbformat_minor": 5
}