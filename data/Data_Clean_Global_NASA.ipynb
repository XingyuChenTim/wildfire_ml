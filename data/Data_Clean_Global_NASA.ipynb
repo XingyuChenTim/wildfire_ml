{
 "cells": [
  {
   "cell_type": "code",
   "execution_count": 33,
   "metadata": {
    "pycharm": {
     "name": "#%%\n"
    }
   },
   "outputs": [],
   "source": [
    "import pandas as pd"
   ]
  },
  {
   "cell_type": "code",
   "execution_count": 34,
   "metadata": {
    "pycharm": {
     "name": "#%%\n"
    }
   },
   "outputs": [],
   "source": [
    "df = pd.read_csv(\"Global_Wildfire_NASA.csv\")"
   ]
  },
  {
   "cell_type": "code",
   "execution_count": 35,
   "metadata": {
    "pycharm": {
     "name": "#%%\n"
    }
   },
   "outputs": [
    {
     "data": {
      "text/html": [
       "<div>\n",
       "<style scoped>\n",
       "    .dataframe tbody tr th:only-of-type {\n",
       "        vertical-align: middle;\n",
       "    }\n",
       "\n",
       "    .dataframe tbody tr th {\n",
       "        vertical-align: top;\n",
       "    }\n",
       "\n",
       "    .dataframe thead th {\n",
       "        text-align: right;\n",
       "    }\n",
       "</style>\n",
       "<table border=\"1\" class=\"dataframe\">\n",
       "  <thead>\n",
       "    <tr style=\"text-align: right;\">\n",
       "      <th></th>\n",
       "      <th>acq_time</th>\n",
       "      <th>bright_t31</th>\n",
       "      <th>brightness</th>\n",
       "      <th>day</th>\n",
       "      <th>frp</th>\n",
       "      <th>latitude</th>\n",
       "      <th>longitude</th>\n",
       "      <th>month</th>\n",
       "      <th>prcp</th>\n",
       "      <th>pres</th>\n",
       "      <th>scan</th>\n",
       "      <th>tavg</th>\n",
       "      <th>tmax</th>\n",
       "      <th>tmin</th>\n",
       "      <th>track</th>\n",
       "      <th>wdir</th>\n",
       "      <th>wspd</th>\n",
       "      <th>year</th>\n",
       "    </tr>\n",
       "  </thead>\n",
       "  <tbody>\n",
       "    <tr>\n",
       "      <th>count</th>\n",
       "      <td>133579.000000</td>\n",
       "      <td>133579.000000</td>\n",
       "      <td>133579.0</td>\n",
       "      <td>133579.000000</td>\n",
       "      <td>133579.000000</td>\n",
       "      <td>133579.000000</td>\n",
       "      <td>133579.000000</td>\n",
       "      <td>133579.000000</td>\n",
       "      <td>133579.000000</td>\n",
       "      <td>133579.000000</td>\n",
       "      <td>133579.000000</td>\n",
       "      <td>133579.000000</td>\n",
       "      <td>133579.000000</td>\n",
       "      <td>133579.000000</td>\n",
       "      <td>133579.000000</td>\n",
       "      <td>133579.000000</td>\n",
       "      <td>133579.000000</td>\n",
       "      <td>133579.000000</td>\n",
       "    </tr>\n",
       "    <tr>\n",
       "      <th>mean</th>\n",
       "      <td>1282.663952</td>\n",
       "      <td>305.274250</td>\n",
       "      <td>367.0</td>\n",
       "      <td>15.786426</td>\n",
       "      <td>30.251828</td>\n",
       "      <td>10.100782</td>\n",
       "      <td>0.754057</td>\n",
       "      <td>6.917158</td>\n",
       "      <td>0.268908</td>\n",
       "      <td>1013.796763</td>\n",
       "      <td>0.428313</td>\n",
       "      <td>23.147241</td>\n",
       "      <td>30.656677</td>\n",
       "      <td>15.940750</td>\n",
       "      <td>0.558371</td>\n",
       "      <td>167.386648</td>\n",
       "      <td>10.698301</td>\n",
       "      <td>2021.176368</td>\n",
       "    </tr>\n",
       "    <tr>\n",
       "      <th>std</th>\n",
       "      <td>557.988456</td>\n",
       "      <td>14.000056</td>\n",
       "      <td>0.0</td>\n",
       "      <td>8.819185</td>\n",
       "      <td>50.897352</td>\n",
       "      <td>28.768595</td>\n",
       "      <td>78.580290</td>\n",
       "      <td>2.870429</td>\n",
       "      <td>3.891326</td>\n",
       "      <td>5.625810</td>\n",
       "      <td>0.188994</td>\n",
       "      <td>7.058955</td>\n",
       "      <td>7.295447</td>\n",
       "      <td>7.425094</td>\n",
       "      <td>0.252445</td>\n",
       "      <td>108.853845</td>\n",
       "      <td>5.017116</td>\n",
       "      <td>0.381134</td>\n",
       "    </tr>\n",
       "    <tr>\n",
       "      <th>min</th>\n",
       "      <td>0.000000</td>\n",
       "      <td>238.290000</td>\n",
       "      <td>367.0</td>\n",
       "      <td>1.000000</td>\n",
       "      <td>0.000000</td>\n",
       "      <td>-51.620610</td>\n",
       "      <td>-165.802980</td>\n",
       "      <td>1.000000</td>\n",
       "      <td>0.000000</td>\n",
       "      <td>970.400000</td>\n",
       "      <td>-2.270000</td>\n",
       "      <td>-35.900000</td>\n",
       "      <td>-35.500000</td>\n",
       "      <td>-67.000000</td>\n",
       "      <td>-4.170000</td>\n",
       "      <td>0.000000</td>\n",
       "      <td>0.000000</td>\n",
       "      <td>2021.000000</td>\n",
       "    </tr>\n",
       "    <tr>\n",
       "      <th>25%</th>\n",
       "      <td>902.000000</td>\n",
       "      <td>296.830000</td>\n",
       "      <td>367.0</td>\n",
       "      <td>8.000000</td>\n",
       "      <td>9.450000</td>\n",
       "      <td>-15.424235</td>\n",
       "      <td>-59.945280</td>\n",
       "      <td>5.000000</td>\n",
       "      <td>0.000000</td>\n",
       "      <td>1010.200000</td>\n",
       "      <td>0.360000</td>\n",
       "      <td>19.300000</td>\n",
       "      <td>26.700000</td>\n",
       "      <td>11.400000</td>\n",
       "      <td>0.490000</td>\n",
       "      <td>77.000000</td>\n",
       "      <td>7.200000</td>\n",
       "      <td>2021.000000</td>\n",
       "    </tr>\n",
       "    <tr>\n",
       "      <th>50%</th>\n",
       "      <td>1230.000000</td>\n",
       "      <td>302.500000</td>\n",
       "      <td>367.0</td>\n",
       "      <td>16.000000</td>\n",
       "      <td>14.480000</td>\n",
       "      <td>9.476280</td>\n",
       "      <td>14.765780</td>\n",
       "      <td>8.000000</td>\n",
       "      <td>0.000000</td>\n",
       "      <td>1013.400000</td>\n",
       "      <td>0.420000</td>\n",
       "      <td>24.200000</td>\n",
       "      <td>31.600000</td>\n",
       "      <td>17.200000</td>\n",
       "      <td>0.580000</td>\n",
       "      <td>141.000000</td>\n",
       "      <td>9.800000</td>\n",
       "      <td>2021.000000</td>\n",
       "    </tr>\n",
       "    <tr>\n",
       "      <th>75%</th>\n",
       "      <td>1748.000000</td>\n",
       "      <td>309.570000</td>\n",
       "      <td>367.0</td>\n",
       "      <td>23.000000</td>\n",
       "      <td>26.110000</td>\n",
       "      <td>35.980570</td>\n",
       "      <td>47.769040</td>\n",
       "      <td>9.000000</td>\n",
       "      <td>0.000000</td>\n",
       "      <td>1017.200000</td>\n",
       "      <td>0.510000</td>\n",
       "      <td>27.900000</td>\n",
       "      <td>35.500000</td>\n",
       "      <td>21.500000</td>\n",
       "      <td>0.650000</td>\n",
       "      <td>269.000000</td>\n",
       "      <td>13.100000</td>\n",
       "      <td>2021.000000</td>\n",
       "    </tr>\n",
       "    <tr>\n",
       "      <th>max</th>\n",
       "      <td>2358.000000</td>\n",
       "      <td>375.580000</td>\n",
       "      <td>367.0</td>\n",
       "      <td>31.000000</td>\n",
       "      <td>1592.800000</td>\n",
       "      <td>70.326640</td>\n",
       "      <td>179.452150</td>\n",
       "      <td>12.000000</td>\n",
       "      <td>390.800000</td>\n",
       "      <td>1047.700000</td>\n",
       "      <td>0.800000</td>\n",
       "      <td>43.600000</td>\n",
       "      <td>61.000000</td>\n",
       "      <td>37.100000</td>\n",
       "      <td>0.780000</td>\n",
       "      <td>360.000000</td>\n",
       "      <td>78.400000</td>\n",
       "      <td>2022.000000</td>\n",
       "    </tr>\n",
       "  </tbody>\n",
       "</table>\n",
       "</div>"
      ],
      "text/plain": [
       "            acq_time     bright_t31  brightness            day            frp  \\\n",
       "count  133579.000000  133579.000000    133579.0  133579.000000  133579.000000   \n",
       "mean     1282.663952     305.274250       367.0      15.786426      30.251828   \n",
       "std       557.988456      14.000056         0.0       8.819185      50.897352   \n",
       "min         0.000000     238.290000       367.0       1.000000       0.000000   \n",
       "25%       902.000000     296.830000       367.0       8.000000       9.450000   \n",
       "50%      1230.000000     302.500000       367.0      16.000000      14.480000   \n",
       "75%      1748.000000     309.570000       367.0      23.000000      26.110000   \n",
       "max      2358.000000     375.580000       367.0      31.000000    1592.800000   \n",
       "\n",
       "            latitude      longitude          month           prcp  \\\n",
       "count  133579.000000  133579.000000  133579.000000  133579.000000   \n",
       "mean       10.100782       0.754057       6.917158       0.268908   \n",
       "std        28.768595      78.580290       2.870429       3.891326   \n",
       "min       -51.620610    -165.802980       1.000000       0.000000   \n",
       "25%       -15.424235     -59.945280       5.000000       0.000000   \n",
       "50%         9.476280      14.765780       8.000000       0.000000   \n",
       "75%        35.980570      47.769040       9.000000       0.000000   \n",
       "max        70.326640     179.452150      12.000000     390.800000   \n",
       "\n",
       "                pres           scan           tavg           tmax  \\\n",
       "count  133579.000000  133579.000000  133579.000000  133579.000000   \n",
       "mean     1013.796763       0.428313      23.147241      30.656677   \n",
       "std         5.625810       0.188994       7.058955       7.295447   \n",
       "min       970.400000      -2.270000     -35.900000     -35.500000   \n",
       "25%      1010.200000       0.360000      19.300000      26.700000   \n",
       "50%      1013.400000       0.420000      24.200000      31.600000   \n",
       "75%      1017.200000       0.510000      27.900000      35.500000   \n",
       "max      1047.700000       0.800000      43.600000      61.000000   \n",
       "\n",
       "                tmin          track           wdir           wspd  \\\n",
       "count  133579.000000  133579.000000  133579.000000  133579.000000   \n",
       "mean       15.940750       0.558371     167.386648      10.698301   \n",
       "std         7.425094       0.252445     108.853845       5.017116   \n",
       "min       -67.000000      -4.170000       0.000000       0.000000   \n",
       "25%        11.400000       0.490000      77.000000       7.200000   \n",
       "50%        17.200000       0.580000     141.000000       9.800000   \n",
       "75%        21.500000       0.650000     269.000000      13.100000   \n",
       "max        37.100000       0.780000     360.000000      78.400000   \n",
       "\n",
       "                year  \n",
       "count  133579.000000  \n",
       "mean     2021.176368  \n",
       "std         0.381134  \n",
       "min      2021.000000  \n",
       "25%      2021.000000  \n",
       "50%      2021.000000  \n",
       "75%      2021.000000  \n",
       "max      2022.000000  "
      ]
     },
     "execution_count": 35,
     "metadata": {},
     "output_type": "execute_result"
    }
   ],
   "source": [
    "df.describe()"
   ]
  },
  {
   "cell_type": "code",
   "execution_count": 36,
   "metadata": {
    "scrolled": true,
    "pycharm": {
     "name": "#%%\n"
    }
   },
   "outputs": [
    {
     "name": "stdout",
     "output_type": "stream",
     "text": [
      "<class 'pandas.core.frame.DataFrame'>\n",
      "RangeIndex: 133579 entries, 0 to 133578\n",
      "Data columns (total 20 columns):\n",
      " #   Column      Non-Null Count   Dtype  \n",
      "---  ------      --------------   -----  \n",
      " 0   acq_date    133579 non-null  object \n",
      " 1   acq_time    133579 non-null  int64  \n",
      " 2   bright_t31  133579 non-null  float64\n",
      " 3   brightness  133579 non-null  float64\n",
      " 4   day         133579 non-null  int64  \n",
      " 5   daynight    133579 non-null  object \n",
      " 6   frp         133579 non-null  float64\n",
      " 7   latitude    133579 non-null  float64\n",
      " 8   longitude   133579 non-null  float64\n",
      " 9   month       133579 non-null  int64  \n",
      " 10  prcp        133579 non-null  float64\n",
      " 11  pres        133579 non-null  float64\n",
      " 12  scan        133579 non-null  float64\n",
      " 13  tavg        133579 non-null  float64\n",
      " 14  tmax        133579 non-null  float64\n",
      " 15  tmin        133579 non-null  float64\n",
      " 16  track       133579 non-null  float64\n",
      " 17  wdir        133579 non-null  float64\n",
      " 18  wspd        133579 non-null  float64\n",
      " 19  year        133579 non-null  int64  \n",
      "dtypes: float64(14), int64(4), object(2)\n",
      "memory usage: 20.4+ MB\n"
     ]
    }
   ],
   "source": [
    "df.info()"
   ]
  },
  {
   "cell_type": "code",
   "execution_count": null,
   "metadata": {
    "pycharm": {
     "name": "#%%\n"
    }
   },
   "outputs": [],
   "source": [
    "df = df[df['confidence'] != 'l']\n",
    "df = df[df['confidence'] != 'n']"
   ]
  },
  {
   "cell_type": "code",
   "execution_count": null,
   "metadata": {
    "pycharm": {
     "name": "#%%\n"
    }
   },
   "outputs": [],
   "source": [
    "df.to_csv('Global_Wildfire_NASA.csv', index = False)"
   ]
  },
  {
   "cell_type": "code",
   "execution_count": null,
   "metadata": {
    "pycharm": {
     "name": "#%%\n"
    }
   },
   "outputs": [],
   "source": [
    "from datetime import datetime\n",
    "import matplotlib.pyplot as plt\n",
    "from meteostat import Point, Daily\n",
    "import pandas as pd\n",
    "import numpy as np\n",
    "\n",
    "df = pd.read_csv(\"Global_Wildfire_NASA.csv\")"
   ]
  },
  {
   "cell_type": "code",
   "execution_count": null,
   "metadata": {
    "pycharm": {
     "name": "#%%\n"
    }
   },
   "outputs": [],
   "source": [
    "df.head()"
   ]
  },
  {
   "cell_type": "code",
   "execution_count": null,
   "metadata": {
    "pycharm": {
     "name": "#%%\n"
    }
   },
   "outputs": [],
   "source": [
    "df = df[['latitude','longitude','brightness','scan','track', 'acq_date', 'acq_time', 'bright_t31', 'frp', 'daynight']]"
   ]
  },
  {
   "cell_type": "code",
   "execution_count": null,
   "metadata": {
    "pycharm": {
     "name": "#%%\n"
    }
   },
   "outputs": [],
   "source": [
    "df.head()"
   ]
  },
  {
   "cell_type": "code",
   "execution_count": null,
   "metadata": {
    "pycharm": {
     "name": "#%%\n"
    }
   },
   "outputs": [],
   "source": [
    "df['acq_date'] = pd.to_datetime(df['acq_date'])\n",
    "df['month'] = df['acq_date'].dt.month\n",
    "df['day'] = df['acq_date'].dt.day\n",
    "df['year'] = df['acq_date'].dt.year"
   ]
  },
  {
   "cell_type": "code",
   "execution_count": null,
   "metadata": {
    "pycharm": {
     "name": "#%%\n"
    }
   },
   "outputs": [],
   "source": [
    "df.info()"
   ]
  },
  {
   "cell_type": "code",
   "execution_count": null,
   "metadata": {
    "pycharm": {
     "name": "#%%\n"
    }
   },
   "outputs": [],
   "source": [
    "def getweather(s): \n",
    "    month = s['month']\n",
    "    day = s['day']\n",
    "    year = s['year']\n",
    "    lat = s['latitude']\n",
    "    lon = s['longitude']\n",
    "    \n",
    "    start = end = datetime(year, month, day)\n",
    "    location = Point(lat, lon)\n",
    "    data = Daily(location, start, end)\n",
    "    data = data.fetch()\n",
    "    \n",
    "    if not data.empty :\n",
    "        s['tavg'] = data['tavg'].values[0].tolist()\n",
    "        s['tmin'] = data['tmin'].values[0].tolist()\n",
    "        s['tmax'] = data['tmax'].values[0].tolist()\n",
    "        s['prcp'] = data['prcp'].values[0].tolist()\n",
    "        s['snow'] = data['snow'].values[0].tolist()\n",
    "        s['wdir'] = data['wdir'].values[0].tolist()\n",
    "        s['wspd'] = data['wspd'].values[0].tolist()\n",
    "        s['wpgt'] = data['wpgt'].values[0].tolist()\n",
    "        s['pres'] = data['pres'].values[0].tolist()\n",
    "        s['tsun'] = data['tsun'].values[0].tolist()\n",
    "    return s"
   ]
  },
  {
   "cell_type": "code",
   "execution_count": null,
   "metadata": {
    "pycharm": {
     "name": "#%%\n"
    }
   },
   "outputs": [],
   "source": [
    "#df_test = df.head(10000)\n",
    "df_test = df"
   ]
  },
  {
   "cell_type": "code",
   "execution_count": null,
   "metadata": {
    "pycharm": {
     "name": "#%%\n"
    }
   },
   "outputs": [],
   "source": [
    "%%time\n",
    "import warnings\n",
    "import warnings\n",
    "warnings.filterwarnings(\"ignore\")\n",
    "warnings.simplefilter(action='ignore', category=FutureWarning)\n",
    "from tqdm import tqdm\n",
    "tqdm.pandas()\n",
    "pd.options.mode.chained_assignment = None\n",
    "\n",
    "df_test = df_test.progress_apply(getweather, axis=1)"
   ]
  },
  {
   "cell_type": "code",
   "execution_count": null,
   "metadata": {
    "pycharm": {
     "name": "#%%\n"
    }
   },
   "outputs": [],
   "source": [
    "df_test = df_test[df_test['tavg'].notna()]"
   ]
  },
  {
   "cell_type": "code",
   "execution_count": null,
   "metadata": {
    "pycharm": {
     "name": "#%%\n"
    }
   },
   "outputs": [],
   "source": [
    "df_test.info()"
   ]
  },
  {
   "cell_type": "code",
   "execution_count": null,
   "metadata": {
    "pycharm": {
     "name": "#%%\n"
    }
   },
   "outputs": [],
   "source": [
    "df_test.to_csv('weather_nasa.csv', index = False)"
   ]
  },
  {
   "cell_type": "code",
   "execution_count": null,
   "metadata": {
    "pycharm": {
     "name": "#%%\n"
    }
   },
   "outputs": [],
   "source": [
    "df_test"
   ]
  },
  {
   "cell_type": "code",
   "execution_count": null,
   "metadata": {
    "pycharm": {
     "name": "#%%\n"
    }
   },
   "outputs": [],
   "source": [
    "df_test.drop('tsun', inplace=True, axis=1)"
   ]
  },
  {
   "cell_type": "code",
   "execution_count": null,
   "metadata": {
    "pycharm": {
     "name": "#%%\n"
    }
   },
   "outputs": [],
   "source": [
    "df_test.info()"
   ]
  },
  {
   "cell_type": "code",
   "execution_count": null,
   "metadata": {
    "pycharm": {
     "name": "#%%\n"
    }
   },
   "outputs": [],
   "source": [
    "df_test.drop('wpgt', inplace=True, axis=1)\n",
    "df_test.drop('snow', inplace=True, axis=1)"
   ]
  },
  {
   "cell_type": "code",
   "execution_count": null,
   "metadata": {
    "pycharm": {
     "name": "#%%\n"
    }
   },
   "outputs": [],
   "source": [
    "df_test.info()"
   ]
  },
  {
   "cell_type": "code",
   "execution_count": null,
   "metadata": {
    "pycharm": {
     "name": "#%%\n"
    }
   },
   "outputs": [],
   "source": [
    "tem = df_test.dropna()"
   ]
  },
  {
   "cell_type": "code",
   "execution_count": null,
   "metadata": {
    "pycharm": {
     "name": "#%%\n"
    }
   },
   "outputs": [],
   "source": [
    "tem.info()"
   ]
  },
  {
   "cell_type": "code",
   "execution_count": null,
   "metadata": {
    "pycharm": {
     "name": "#%%\n"
    }
   },
   "outputs": [],
   "source": [
    "tem.to_csv('nasa_ml.csv', index = False)"
   ]
  },
  {
   "cell_type": "code",
   "execution_count": null,
   "outputs": [],
   "source": [
    "df.head()"
   ],
   "metadata": {
    "collapsed": false,
    "pycharm": {
     "name": "#%%\n"
    }
   }
  },
  {
   "cell_type": "code",
   "execution_count": null,
   "outputs": [],
   "source": [
    "df['acq_date'] = pd.to_datetime(df['acq_date'])\n",
    "df['month'] = df['acq_date'].dt.month\n",
    "df['day'] = df['acq_date'].dt.day\n",
    "df['year'] = df['acq_date'].dt.year"
   ],
   "metadata": {
    "collapsed": false,
    "pycharm": {
     "name": "#%%\n"
    }
   }
  },
  {
   "cell_type": "code",
   "execution_count": null,
   "outputs": [],
   "source": [
    "df.info()"
   ],
   "metadata": {
    "collapsed": false,
    "pycharm": {
     "name": "#%%\n"
    }
   }
  },
  {
   "cell_type": "code",
   "execution_count": null,
   "outputs": [],
   "source": [
    "def getweather(s): \n",
    "    month = s['month']\n",
    "    day = s['day']\n",
    "    year = s['year']\n",
    "    lat = s['latitude']\n",
    "    lon = s['longitude']\n",
    "    \n",
    "    start = end = datetime(year, month, day)\n",
    "    location = Point(lat, lon)\n",
    "    data = Daily(location, start, end)\n",
    "    data = data.fetch()\n",
    "    \n",
    "    if not data.empty :\n",
    "        s['tavg'] = data['tavg'].values[0].tolist()\n",
    "        s['tmin'] = data['tmin'].values[0].tolist()\n",
    "        s['tmax'] = data['tmax'].values[0].tolist()\n",
    "        s['prcp'] = data['prcp'].values[0].tolist()\n",
    "        s['snow'] = data['snow'].values[0].tolist()\n",
    "        s['wdir'] = data['wdir'].values[0].tolist()\n",
    "        s['wspd'] = data['wspd'].values[0].tolist()\n",
    "        s['wpgt'] = data['wpgt'].values[0].tolist()\n",
    "        s['pres'] = data['pres'].values[0].tolist()\n",
    "        s['tsun'] = data['tsun'].values[0].tolist()\n",
    "    return s"
   ],
   "metadata": {
    "collapsed": false,
    "pycharm": {
     "name": "#%%\n"
    }
   }
  },
  {
   "cell_type": "code",
   "execution_count": null,
   "outputs": [],
   "source": [
    "#df_test = df.head(10000)\n",
    "df_test = df"
   ],
   "metadata": {
    "collapsed": false,
    "pycharm": {
     "name": "#%%\n"
    }
   }
  },
  {
   "cell_type": "code",
   "execution_count": null,
   "outputs": [],
   "source": [
    "%%time\n",
    "import warnings\n",
    "import warnings\n",
    "warnings.filterwarnings(\"ignore\")\n",
    "warnings.simplefilter(action='ignore', category=FutureWarning)\n",
    "from tqdm import tqdm\n",
    "tqdm.pandas()\n",
    "pd.options.mode.chained_assignment = None\n",
    "\n",
    "df_test = df_test.progress_apply(getweather, axis=1)"
   ],
   "metadata": {
    "collapsed": false,
    "pycharm": {
     "name": "#%%\n"
    }
   }
  },
  {
   "cell_type": "code",
   "execution_count": null,
   "outputs": [],
   "source": [
    "df_test = df_test[df_test['tavg'].notna()]"
   ],
   "metadata": {
    "collapsed": false,
    "pycharm": {
     "name": "#%%\n"
    }
   }
  },
  {
   "cell_type": "code",
   "execution_count": null,
   "outputs": [],
   "source": [
    "df_test.info()"
   ],
   "metadata": {
    "collapsed": false,
    "pycharm": {
     "name": "#%%\n"
    }
   }
  },
  {
   "cell_type": "code",
   "execution_count": null,
   "outputs": [],
   "source": [
    "df_test.to_csv('weather_nasa.csv', index = False)"
   ],
   "metadata": {
    "collapsed": false,
    "pycharm": {
     "name": "#%%\n"
    }
   }
  },
  {
   "cell_type": "code",
   "execution_count": null,
   "outputs": [],
   "source": [
    "df_test"
   ],
   "metadata": {
    "collapsed": false,
    "pycharm": {
     "name": "#%%\n"
    }
   }
  },
  {
   "cell_type": "code",
   "execution_count": null,
   "outputs": [],
   "source": [
    "df_test.drop('tsun', inplace=True, axis=1)"
   ],
   "metadata": {
    "collapsed": false,
    "pycharm": {
     "name": "#%%\n"
    }
   }
  },
  {
   "cell_type": "code",
   "execution_count": null,
   "outputs": [],
   "source": [
    "df_test.info()"
   ],
   "metadata": {
    "collapsed": false,
    "pycharm": {
     "name": "#%%\n"
    }
   }
  },
  {
   "cell_type": "code",
   "execution_count": null,
   "outputs": [],
   "source": [
    "df_test.drop('wpgt', inplace=True, axis=1)\n",
    "df_test.drop('snow', inplace=True, axis=1)"
   ],
   "metadata": {
    "collapsed": false,
    "pycharm": {
     "name": "#%%\n"
    }
   }
  },
  {
   "cell_type": "code",
   "execution_count": null,
   "outputs": [],
   "source": [
    "df_test.info()"
   ],
   "metadata": {
    "collapsed": false,
    "pycharm": {
     "name": "#%%\n"
    }
   }
  },
  {
   "cell_type": "code",
   "execution_count": null,
   "outputs": [],
   "source": [
    "tem = df_test.dropna()"
   ],
   "metadata": {
    "collapsed": false,
    "pycharm": {
     "name": "#%%\n"
    }
   }
  },
  {
   "cell_type": "code",
   "execution_count": null,
   "outputs": [],
   "source": [
    "tem.info()"
   ],
   "metadata": {
    "collapsed": false,
    "pycharm": {
     "name": "#%%\n"
    }
   }
  },
  {
   "cell_type": "code",
   "execution_count": null,
   "outputs": [],
   "source": [
    "tem.to_csv('nasa_ml.csv', index = False)"
   ],
   "metadata": {
    "collapsed": false,
    "pycharm": {
     "name": "#%%\n"
    }
   }
  },
  {
   "cell_type": "code",
   "execution_count": 4,
   "metadata": {
    "pycharm": {
     "name": "#%%\n"
    }
   },
   "outputs": [
    {
     "data": {
      "text/html": [
       "<div>\n",
       "<style scoped>\n",
       "    .dataframe tbody tr th:only-of-type {\n",
       "        vertical-align: middle;\n",
       "    }\n",
       "\n",
       "    .dataframe tbody tr th {\n",
       "        vertical-align: top;\n",
       "    }\n",
       "\n",
       "    .dataframe thead th {\n",
       "        text-align: right;\n",
       "    }\n",
       "</style>\n",
       "<table border=\"1\" class=\"dataframe\">\n",
       "  <thead>\n",
       "    <tr style=\"text-align: right;\">\n",
       "      <th></th>\n",
       "      <th>latitude</th>\n",
       "      <th>longitude</th>\n",
       "      <th>brightness</th>\n",
       "      <th>scan</th>\n",
       "      <th>track</th>\n",
       "      <th>acq_date</th>\n",
       "      <th>acq_time</th>\n",
       "      <th>bright_t31</th>\n",
       "      <th>frp</th>\n",
       "      <th>daynight</th>\n",
       "    </tr>\n",
       "  </thead>\n",
       "  <tbody>\n",
       "    <tr>\n",
       "      <th>0</th>\n",
       "      <td>28.11889</td>\n",
       "      <td>0.30278</td>\n",
       "      <td>367.0</td>\n",
       "      <td>0.50</td>\n",
       "      <td>0.66</td>\n",
       "      <td>2021-04-06</td>\n",
       "      <td>48</td>\n",
       "      <td>295.0</td>\n",
       "      <td>5.3</td>\n",
       "      <td>N</td>\n",
       "    </tr>\n",
       "    <tr>\n",
       "      <th>1</th>\n",
       "      <td>35.80713</td>\n",
       "      <td>-0.26049</td>\n",
       "      <td>367.0</td>\n",
       "      <td>0.62</td>\n",
       "      <td>0.71</td>\n",
       "      <td>2021-04-06</td>\n",
       "      <td>48</td>\n",
       "      <td>284.7</td>\n",
       "      <td>4.1</td>\n",
       "      <td>N</td>\n",
       "    </tr>\n",
       "    <tr>\n",
       "      <th>2</th>\n",
       "      <td>43.44359</td>\n",
       "      <td>4.88034</td>\n",
       "      <td>367.0</td>\n",
       "      <td>0.37</td>\n",
       "      <td>0.58</td>\n",
       "      <td>2021-04-06</td>\n",
       "      <td>48</td>\n",
       "      <td>289.8</td>\n",
       "      <td>5.1</td>\n",
       "      <td>N</td>\n",
       "    </tr>\n",
       "    <tr>\n",
       "      <th>3</th>\n",
       "      <td>43.44629</td>\n",
       "      <td>4.88100</td>\n",
       "      <td>367.0</td>\n",
       "      <td>0.37</td>\n",
       "      <td>0.58</td>\n",
       "      <td>2021-04-06</td>\n",
       "      <td>48</td>\n",
       "      <td>286.9</td>\n",
       "      <td>7.4</td>\n",
       "      <td>N</td>\n",
       "    </tr>\n",
       "    <tr>\n",
       "      <th>4</th>\n",
       "      <td>27.58459</td>\n",
       "      <td>22.40466</td>\n",
       "      <td>367.0</td>\n",
       "      <td>0.35</td>\n",
       "      <td>0.57</td>\n",
       "      <td>2021-04-06</td>\n",
       "      <td>48</td>\n",
       "      <td>288.2</td>\n",
       "      <td>6.8</td>\n",
       "      <td>N</td>\n",
       "    </tr>\n",
       "  </tbody>\n",
       "</table>\n",
       "</div>"
      ],
      "text/plain": [
       "   latitude  longitude  brightness  scan  track    acq_date  acq_time  \\\n",
       "0  28.11889    0.30278       367.0  0.50   0.66  2021-04-06        48   \n",
       "1  35.80713   -0.26049       367.0  0.62   0.71  2021-04-06        48   \n",
       "2  43.44359    4.88034       367.0  0.37   0.58  2021-04-06        48   \n",
       "3  43.44629    4.88100       367.0  0.37   0.58  2021-04-06        48   \n",
       "4  27.58459   22.40466       367.0  0.35   0.57  2021-04-06        48   \n",
       "\n",
       "   bright_t31  frp daynight  \n",
       "0       295.0  5.3        N  \n",
       "1       284.7  4.1        N  \n",
       "2       289.8  5.1        N  \n",
       "3       286.9  7.4        N  \n",
       "4       288.2  6.8        N  "
      ]
     },
     "execution_count": 4,
     "metadata": {},
     "output_type": "execute_result"
    }
   ],
   "source": [
    "df.head()"
   ]
  },
  {
   "cell_type": "code",
   "execution_count": 5,
   "metadata": {
    "pycharm": {
     "name": "#%%\n"
    }
   },
   "outputs": [],
   "source": [
    "df['acq_date'] = pd.to_datetime(df['acq_date'])\n",
    "df['month'] = df['acq_date'].dt.month\n",
    "df['day'] = df['acq_date'].dt.day\n",
    "df['year'] = df['acq_date'].dt.year"
   ]
  },
  {
   "cell_type": "code",
   "execution_count": 6,
   "metadata": {
    "pycharm": {
     "name": "#%%\n"
    }
   },
   "outputs": [
    {
     "name": "stdout",
     "output_type": "stream",
     "text": [
      "<class 'pandas.core.frame.DataFrame'>\n",
      "RangeIndex: 1024490 entries, 0 to 1024489\n",
      "Data columns (total 13 columns):\n",
      " #   Column      Non-Null Count    Dtype         \n",
      "---  ------      --------------    -----         \n",
      " 0   latitude    1024490 non-null  float64       \n",
      " 1   longitude   1024490 non-null  float64       \n",
      " 2   brightness  1024490 non-null  float64       \n",
      " 3   scan        1024490 non-null  float64       \n",
      " 4   track       1024490 non-null  float64       \n",
      " 5   acq_date    1024490 non-null  datetime64[ns]\n",
      " 6   acq_time    1024490 non-null  int64         \n",
      " 7   bright_t31  1024490 non-null  float64       \n",
      " 8   frp         1024490 non-null  float64       \n",
      " 9   daynight    1024490 non-null  object        \n",
      " 10  month       1024490 non-null  int64         \n",
      " 11  day         1024490 non-null  int64         \n",
      " 12  year        1024490 non-null  int64         \n",
      "dtypes: datetime64[ns](1), float64(7), int64(4), object(1)\n",
      "memory usage: 101.6+ MB\n"
     ]
    }
   ],
   "source": [
    "df.info()"
   ]
  },
  {
   "cell_type": "code",
   "execution_count": 7,
   "metadata": {
    "pycharm": {
     "name": "#%%\n"
    }
   },
   "outputs": [],
   "source": [
    "def getweather(s): \n",
    "    month = s['month']\n",
    "    day = s['day']\n",
    "    year = s['year']\n",
    "    lat = s['latitude']\n",
    "    lon = s['longitude']\n",
    "    \n",
    "    start = end = datetime(year, month, day)\n",
    "    location = Point(lat, lon)\n",
    "    data = Daily(location, start, end)\n",
    "    data = data.fetch()\n",
    "    \n",
    "    if not data.empty :\n",
    "        s['tavg'] = data['tavg'].values[0].tolist()\n",
    "        s['tmin'] = data['tmin'].values[0].tolist()\n",
    "        s['tmax'] = data['tmax'].values[0].tolist()\n",
    "        s['prcp'] = data['prcp'].values[0].tolist()\n",
    "        s['snow'] = data['snow'].values[0].tolist()\n",
    "        s['wdir'] = data['wdir'].values[0].tolist()\n",
    "        s['wspd'] = data['wspd'].values[0].tolist()\n",
    "        s['wpgt'] = data['wpgt'].values[0].tolist()\n",
    "        s['pres'] = data['pres'].values[0].tolist()\n",
    "        s['tsun'] = data['tsun'].values[0].tolist()\n",
    "    return s"
   ]
  },
  {
   "cell_type": "code",
   "execution_count": 8,
   "metadata": {
    "pycharm": {
     "name": "#%%\n"
    }
   },
   "outputs": [],
   "source": [
    "#df_test = df.head(10000)\n",
    "df_test = df"
   ]
  },
  {
   "cell_type": "code",
   "execution_count": 11,
   "metadata": {
    "pycharm": {
     "name": "#%%\n"
    }
   },
   "outputs": [
    {
     "name": "stderr",
     "output_type": "stream",
     "text": [
      "100%|██████████| 1024490/1024490 [21:28:07<00:00, 13.26it/s]   "
     ]
    },
    {
     "name": "stdout",
     "output_type": "stream",
     "text": [
      "CPU times: user 14h 19min 20s, sys: 5h 48min 28s, total: 20h 7min 48s\n",
      "Wall time: 21h 28min 7s\n"
     ]
    },
    {
     "name": "stderr",
     "output_type": "stream",
     "text": [
      "\n"
     ]
    }
   ],
   "source": [
    "%%time\n",
    "import warnings\n",
    "import warnings\n",
    "warnings.filterwarnings(\"ignore\")\n",
    "warnings.simplefilter(action='ignore', category=FutureWarning)\n",
    "from tqdm import tqdm\n",
    "tqdm.pandas()\n",
    "pd.options.mode.chained_assignment = None\n",
    "\n",
    "df_test = df_test.progress_apply(getweather, axis=1)"
   ]
  },
  {
   "cell_type": "code",
   "execution_count": 12,
   "metadata": {
    "pycharm": {
     "name": "#%%\n"
    }
   },
   "outputs": [],
   "source": [
    "df_test = df_test[df_test['tavg'].notna()]"
   ]
  },
  {
   "cell_type": "code",
   "execution_count": 13,
   "metadata": {
    "pycharm": {
     "name": "#%%\n"
    }
   },
   "outputs": [
    {
     "name": "stdout",
     "output_type": "stream",
     "text": [
      "<class 'pandas.core.frame.DataFrame'>\n",
      "Int64Index: 136096 entries, 1 to 1024476\n",
      "Data columns (total 23 columns):\n",
      " #   Column      Non-Null Count   Dtype         \n",
      "---  ------      --------------   -----         \n",
      " 0   acq_date    136096 non-null  datetime64[ns]\n",
      " 1   acq_time    136096 non-null  int64         \n",
      " 2   bright_t31  136096 non-null  float64       \n",
      " 3   brightness  136096 non-null  float64       \n",
      " 4   day         136096 non-null  int64         \n",
      " 5   daynight    136096 non-null  object        \n",
      " 6   frp         136096 non-null  float64       \n",
      " 7   latitude    136096 non-null  float64       \n",
      " 8   longitude   136096 non-null  float64       \n",
      " 9   month       136096 non-null  int64         \n",
      " 10  prcp        134078 non-null  float64       \n",
      " 11  pres        135466 non-null  float64       \n",
      " 12  scan        136096 non-null  float64       \n",
      " 13  snow        3520 non-null    float64       \n",
      " 14  tavg        136096 non-null  float64       \n",
      " 15  tmax        136002 non-null  float64       \n",
      " 16  tmin        135990 non-null  float64       \n",
      " 17  track       136096 non-null  float64       \n",
      " 18  tsun        47 non-null      float64       \n",
      " 19  wdir        135392 non-null  float64       \n",
      " 20  wpgt        4153 non-null    float64       \n",
      " 21  wspd        135474 non-null  float64       \n",
      " 22  year        136096 non-null  int64         \n",
      "dtypes: datetime64[ns](1), float64(17), int64(4), object(1)\n",
      "memory usage: 24.9+ MB\n"
     ]
    }
   ],
   "source": [
    "df_test.info()"
   ]
  },
  {
   "cell_type": "code",
   "execution_count": 14,
   "metadata": {
    "pycharm": {
     "name": "#%%\n"
    }
   },
   "outputs": [],
   "source": [
    "df_test.to_csv('weather_nasa.csv', index = False)"
   ]
  },
  {
   "cell_type": "code",
   "execution_count": null,
   "metadata": {
    "pycharm": {
     "name": "#%%\n"
    }
   },
   "outputs": [],
   "source": [
    "df_test"
   ]
  },
  {
   "cell_type": "code",
   "execution_count": 16,
   "metadata": {
    "pycharm": {
     "name": "#%%\n"
    }
   },
   "outputs": [],
   "source": [
    "df_test.drop('tsun', inplace=True, axis=1)"
   ]
  },
  {
   "cell_type": "code",
   "execution_count": 17,
   "metadata": {
    "pycharm": {
     "name": "#%%\n"
    }
   },
   "outputs": [
    {
     "name": "stdout",
     "output_type": "stream",
     "text": [
      "<class 'pandas.core.frame.DataFrame'>\n",
      "Int64Index: 136096 entries, 1 to 1024476\n",
      "Data columns (total 22 columns):\n",
      " #   Column      Non-Null Count   Dtype         \n",
      "---  ------      --------------   -----         \n",
      " 0   acq_date    136096 non-null  datetime64[ns]\n",
      " 1   acq_time    136096 non-null  int64         \n",
      " 2   bright_t31  136096 non-null  float64       \n",
      " 3   brightness  136096 non-null  float64       \n",
      " 4   day         136096 non-null  int64         \n",
      " 5   daynight    136096 non-null  object        \n",
      " 6   frp         136096 non-null  float64       \n",
      " 7   latitude    136096 non-null  float64       \n",
      " 8   longitude   136096 non-null  float64       \n",
      " 9   month       136096 non-null  int64         \n",
      " 10  prcp        134078 non-null  float64       \n",
      " 11  pres        135466 non-null  float64       \n",
      " 12  scan        136096 non-null  float64       \n",
      " 13  snow        3520 non-null    float64       \n",
      " 14  tavg        136096 non-null  float64       \n",
      " 15  tmax        136002 non-null  float64       \n",
      " 16  tmin        135990 non-null  float64       \n",
      " 17  track       136096 non-null  float64       \n",
      " 18  wdir        135392 non-null  float64       \n",
      " 19  wpgt        4153 non-null    float64       \n",
      " 20  wspd        135474 non-null  float64       \n",
      " 21  year        136096 non-null  int64         \n",
      "dtypes: datetime64[ns](1), float64(16), int64(4), object(1)\n",
      "memory usage: 23.9+ MB\n"
     ]
    }
   ],
   "source": [
    "df_test.info()"
   ]
  },
  {
   "cell_type": "code",
   "execution_count": 18,
   "metadata": {
    "pycharm": {
     "name": "#%%\n"
    }
   },
   "outputs": [],
   "source": [
    "df_test.drop('wpgt', inplace=True, axis=1)\n",
    "df_test.drop('snow', inplace=True, axis=1)"
   ]
  },
  {
   "cell_type": "code",
   "execution_count": 28,
   "metadata": {
    "pycharm": {
     "name": "#%%\n"
    }
   },
   "outputs": [
    {
     "name": "stdout",
     "output_type": "stream",
     "text": [
      "<class 'pandas.core.frame.DataFrame'>\n",
      "Int64Index: 136096 entries, 1 to 1024476\n",
      "Data columns (total 20 columns):\n",
      " #   Column      Non-Null Count   Dtype         \n",
      "---  ------      --------------   -----         \n",
      " 0   acq_date    136096 non-null  datetime64[ns]\n",
      " 1   acq_time    136096 non-null  int64         \n",
      " 2   bright_t31  136096 non-null  float64       \n",
      " 3   brightness  136096 non-null  float64       \n",
      " 4   day         136096 non-null  int64         \n",
      " 5   daynight    136096 non-null  object        \n",
      " 6   frp         136096 non-null  float64       \n",
      " 7   latitude    136096 non-null  float64       \n",
      " 8   longitude   136096 non-null  float64       \n",
      " 9   month       136096 non-null  int64         \n",
      " 10  prcp        134078 non-null  float64       \n",
      " 11  pres        135466 non-null  float64       \n",
      " 12  scan        136096 non-null  float64       \n",
      " 13  tavg        136096 non-null  float64       \n",
      " 14  tmax        136002 non-null  float64       \n",
      " 15  tmin        135990 non-null  float64       \n",
      " 16  track       136096 non-null  float64       \n",
      " 17  wdir        135392 non-null  float64       \n",
      " 18  wspd        135474 non-null  float64       \n",
      " 19  year        136096 non-null  int64         \n",
      "dtypes: datetime64[ns](1), float64(14), int64(4), object(1)\n",
      "memory usage: 21.8+ MB\n"
     ]
    }
   ],
   "source": [
    "df_test.info()"
   ]
  },
  {
   "cell_type": "code",
   "execution_count": 29,
   "metadata": {
    "pycharm": {
     "name": "#%%\n"
    }
   },
   "outputs": [],
   "source": [
    "tem = df_test.dropna()"
   ]
  },
  {
   "cell_type": "code",
   "execution_count": 31,
   "metadata": {
    "pycharm": {
     "name": "#%%\n"
    }
   },
   "outputs": [
    {
     "name": "stdout",
     "output_type": "stream",
     "text": [
      "<class 'pandas.core.frame.DataFrame'>\n",
      "Int64Index: 133579 entries, 1 to 1024476\n",
      "Data columns (total 20 columns):\n",
      " #   Column      Non-Null Count   Dtype         \n",
      "---  ------      --------------   -----         \n",
      " 0   acq_date    133579 non-null  datetime64[ns]\n",
      " 1   acq_time    133579 non-null  int64         \n",
      " 2   bright_t31  133579 non-null  float64       \n",
      " 3   brightness  133579 non-null  float64       \n",
      " 4   day         133579 non-null  int64         \n",
      " 5   daynight    133579 non-null  object        \n",
      " 6   frp         133579 non-null  float64       \n",
      " 7   latitude    133579 non-null  float64       \n",
      " 8   longitude   133579 non-null  float64       \n",
      " 9   month       133579 non-null  int64         \n",
      " 10  prcp        133579 non-null  float64       \n",
      " 11  pres        133579 non-null  float64       \n",
      " 12  scan        133579 non-null  float64       \n",
      " 13  tavg        133579 non-null  float64       \n",
      " 14  tmax        133579 non-null  float64       \n",
      " 15  tmin        133579 non-null  float64       \n",
      " 16  track       133579 non-null  float64       \n",
      " 17  wdir        133579 non-null  float64       \n",
      " 18  wspd        133579 non-null  float64       \n",
      " 19  year        133579 non-null  int64         \n",
      "dtypes: datetime64[ns](1), float64(14), int64(4), object(1)\n",
      "memory usage: 21.4+ MB\n"
     ]
    }
   ],
   "source": [
    "tem.info()"
   ]
  },
  {
   "cell_type": "code",
   "execution_count": 32,
   "metadata": {
    "pycharm": {
     "name": "#%%\n"
    }
   },
   "outputs": [],
   "source": [
    "tem.to_csv('nasa_ml.csv', index = False)"
   ]
  }
 ],
 "metadata": {
  "kernelspec": {
   "display_name": "Python 3 (ipykernel)",
   "language": "python",
   "name": "python3"
  },
  "language_info": {
   "codemirror_mode": {
    "name": "ipython",
    "version": 3
   },
   "file_extension": ".py",
   "mimetype": "text/x-python",
   "name": "python",
   "nbconvert_exporter": "python",
   "pygments_lexer": "ipython3",
   "version": "3.9.7"
  }
 },
 "nbformat": 4,
 "nbformat_minor": 1
}