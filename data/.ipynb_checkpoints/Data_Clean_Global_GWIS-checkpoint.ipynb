{
 "cells": [
  {
   "cell_type": "code",
   "execution_count": 10,
   "metadata": {
    "pycharm": {
     "is_executing": true,
     "name": "#%%\n"
    }
   },
   "outputs": [],
   "source": [
    "import pandas as pd"
   ]
  },
  {
   "cell_type": "code",
   "execution_count": 11,
   "metadata": {
    "pycharm": {
     "is_executing": true,
     "name": "#%%\n"
    }
   },
   "outputs": [],
   "source": [
    "df = pd.read_csv(\"Global_Wildfire_GWIS.csv\")"
   ]
  },
  {
   "cell_type": "code",
   "execution_count": 4,
   "metadata": {
    "pycharm": {
     "name": "#%%\n"
    }
   },
   "outputs": [],
   "source": [
    "df['Total_hectares'] = df[['Cropland_BA_hectares', 'Forest_BA_hectares', 'Grass_and_Shrubland_BA_hectares', 'Wetlands_BA_hectares', 'Settlement_BA_hectares', 'Other_BA_hectares']].sum(axis=1) "
   ]
  },
  {
   "cell_type": "code",
   "execution_count": 4,
   "metadata": {
    "pycharm": {
     "name": "#%%\n"
    }
   },
   "outputs": [
    {
     "data": {
      "text/html": [
       "<div>\n",
       "<style scoped>\n",
       "    .dataframe tbody tr th:only-of-type {\n",
       "        vertical-align: middle;\n",
       "    }\n",
       "\n",
       "    .dataframe tbody tr th {\n",
       "        vertical-align: top;\n",
       "    }\n",
       "\n",
       "    .dataframe thead th {\n",
       "        text-align: right;\n",
       "    }\n",
       "</style>\n",
       "<table border=\"1\" class=\"dataframe\">\n",
       "  <thead>\n",
       "    <tr style=\"text-align: right;\">\n",
       "      <th></th>\n",
       "      <th>Year</th>\n",
       "      <th>Month</th>\n",
       "      <th>Cropland_BA_hectares</th>\n",
       "      <th>Forest_BA_hectares</th>\n",
       "      <th>Grass_and_Shrubland_BA_hectares</th>\n",
       "      <th>Wetlands_BA_hectares</th>\n",
       "      <th>Settlement_BA_hectares</th>\n",
       "      <th>Other_BA_hectares</th>\n",
       "      <th>Total_hectares</th>\n",
       "      <th>location_lat</th>\n",
       "      <th>location_long</th>\n",
       "    </tr>\n",
       "  </thead>\n",
       "  <tbody>\n",
       "    <tr>\n",
       "      <th>count</th>\n",
       "      <td>169831.000000</td>\n",
       "      <td>169831.000000</td>\n",
       "      <td>1.698310e+05</td>\n",
       "      <td>1.698310e+05</td>\n",
       "      <td>1.698310e+05</td>\n",
       "      <td>169831.000000</td>\n",
       "      <td>169831.000000</td>\n",
       "      <td>169831.000000</td>\n",
       "      <td>1.698310e+05</td>\n",
       "      <td>169831.000000</td>\n",
       "      <td>169831.000000</td>\n",
       "    </tr>\n",
       "    <tr>\n",
       "      <th>mean</th>\n",
       "      <td>2010.432777</td>\n",
       "      <td>6.379760</td>\n",
       "      <td>6.081674e+03</td>\n",
       "      <td>1.340844e+04</td>\n",
       "      <td>1.467923e+04</td>\n",
       "      <td>755.896079</td>\n",
       "      <td>14.672957</td>\n",
       "      <td>87.778827</td>\n",
       "      <td>3.502769e+04</td>\n",
       "      <td>13.394564</td>\n",
       "      <td>15.943306</td>\n",
       "    </tr>\n",
       "    <tr>\n",
       "      <th>std</th>\n",
       "      <td>5.163171</td>\n",
       "      <td>3.429764</td>\n",
       "      <td>2.840716e+04</td>\n",
       "      <td>8.386410e+04</td>\n",
       "      <td>1.459828e+05</td>\n",
       "      <td>6376.319840</td>\n",
       "      <td>208.034789</td>\n",
       "      <td>3093.758035</td>\n",
       "      <td>1.939744e+05</td>\n",
       "      <td>24.192164</td>\n",
       "      <td>65.660821</td>\n",
       "    </tr>\n",
       "    <tr>\n",
       "      <th>min</th>\n",
       "      <td>2002.000000</td>\n",
       "      <td>1.000000</td>\n",
       "      <td>0.000000e+00</td>\n",
       "      <td>0.000000e+00</td>\n",
       "      <td>0.000000e+00</td>\n",
       "      <td>0.000000</td>\n",
       "      <td>0.000000</td>\n",
       "      <td>0.000000</td>\n",
       "      <td>2.100000e+01</td>\n",
       "      <td>-54.407106</td>\n",
       "      <td>-179.058441</td>\n",
       "    </tr>\n",
       "    <tr>\n",
       "      <th>25%</th>\n",
       "      <td>2006.000000</td>\n",
       "      <td>3.000000</td>\n",
       "      <td>4.300000e+01</td>\n",
       "      <td>0.000000e+00</td>\n",
       "      <td>0.000000e+00</td>\n",
       "      <td>0.000000</td>\n",
       "      <td>0.000000</td>\n",
       "      <td>0.000000</td>\n",
       "      <td>1.930000e+02</td>\n",
       "      <td>-3.132835</td>\n",
       "      <td>-44.158865</td>\n",
       "    </tr>\n",
       "    <tr>\n",
       "      <th>50%</th>\n",
       "      <td>2010.000000</td>\n",
       "      <td>6.000000</td>\n",
       "      <td>3.430000e+02</td>\n",
       "      <td>6.400000e+01</td>\n",
       "      <td>6.400000e+01</td>\n",
       "      <td>0.000000</td>\n",
       "      <td>0.000000</td>\n",
       "      <td>0.000000</td>\n",
       "      <td>1.180000e+03</td>\n",
       "      <td>12.794372</td>\n",
       "      <td>25.959866</td>\n",
       "    </tr>\n",
       "    <tr>\n",
       "      <th>75%</th>\n",
       "      <td>2015.000000</td>\n",
       "      <td>9.000000</td>\n",
       "      <td>2.318000e+03</td>\n",
       "      <td>1.052000e+03</td>\n",
       "      <td>1.224000e+03</td>\n",
       "      <td>43.000000</td>\n",
       "      <td>0.000000</td>\n",
       "      <td>0.000000</td>\n",
       "      <td>8.306000e+03</td>\n",
       "      <td>34.955082</td>\n",
       "      <td>48.243520</td>\n",
       "    </tr>\n",
       "    <tr>\n",
       "      <th>max</th>\n",
       "      <td>2019.000000</td>\n",
       "      <td>12.000000</td>\n",
       "      <td>1.614512e+06</td>\n",
       "      <td>2.896325e+06</td>\n",
       "      <td>1.875434e+07</td>\n",
       "      <td>428652.000000</td>\n",
       "      <td>25566.000000</td>\n",
       "      <td>863121.000000</td>\n",
       "      <td>1.989463e+07</td>\n",
       "      <td>76.000000</td>\n",
       "      <td>179.048970</td>\n",
       "    </tr>\n",
       "  </tbody>\n",
       "</table>\n",
       "</div>"
      ],
      "text/plain": [
       "                Year          Month  Cropland_BA_hectares  Forest_BA_hectares  \\\n",
       "count  169831.000000  169831.000000          1.698310e+05        1.698310e+05   \n",
       "mean     2010.432777       6.379760          6.081674e+03        1.340844e+04   \n",
       "std         5.163171       3.429764          2.840716e+04        8.386410e+04   \n",
       "min      2002.000000       1.000000          0.000000e+00        0.000000e+00   \n",
       "25%      2006.000000       3.000000          4.300000e+01        0.000000e+00   \n",
       "50%      2010.000000       6.000000          3.430000e+02        6.400000e+01   \n",
       "75%      2015.000000       9.000000          2.318000e+03        1.052000e+03   \n",
       "max      2019.000000      12.000000          1.614512e+06        2.896325e+06   \n",
       "\n",
       "       Grass_and_Shrubland_BA_hectares  Wetlands_BA_hectares  \\\n",
       "count                     1.698310e+05         169831.000000   \n",
       "mean                      1.467923e+04            755.896079   \n",
       "std                       1.459828e+05           6376.319840   \n",
       "min                       0.000000e+00              0.000000   \n",
       "25%                       0.000000e+00              0.000000   \n",
       "50%                       6.400000e+01              0.000000   \n",
       "75%                       1.224000e+03             43.000000   \n",
       "max                       1.875434e+07         428652.000000   \n",
       "\n",
       "       Settlement_BA_hectares  Other_BA_hectares  Total_hectares  \\\n",
       "count           169831.000000      169831.000000    1.698310e+05   \n",
       "mean                14.672957          87.778827    3.502769e+04   \n",
       "std                208.034789        3093.758035    1.939744e+05   \n",
       "min                  0.000000           0.000000    2.100000e+01   \n",
       "25%                  0.000000           0.000000    1.930000e+02   \n",
       "50%                  0.000000           0.000000    1.180000e+03   \n",
       "75%                  0.000000           0.000000    8.306000e+03   \n",
       "max              25566.000000      863121.000000    1.989463e+07   \n",
       "\n",
       "        location_lat  location_long  \n",
       "count  169831.000000  169831.000000  \n",
       "mean       13.394564      15.943306  \n",
       "std        24.192164      65.660821  \n",
       "min       -54.407106    -179.058441  \n",
       "25%        -3.132835     -44.158865  \n",
       "50%        12.794372      25.959866  \n",
       "75%        34.955082      48.243520  \n",
       "max        76.000000     179.048970  "
      ]
     },
     "execution_count": 4,
     "metadata": {},
     "output_type": "execute_result"
    }
   ],
   "source": [
    "df.describe()"
   ]
  },
  {
   "cell_type": "code",
   "execution_count": 5,
   "metadata": {
    "pycharm": {
     "name": "#%%\n"
    }
   },
   "outputs": [
    {
     "name": "stdout",
     "output_type": "stream",
     "text": [
      "<class 'pandas.core.frame.DataFrame'>\n",
      "RangeIndex: 169831 entries, 0 to 169830\n",
      "Data columns (total 13 columns):\n",
      " #   Column                           Non-Null Count   Dtype  \n",
      "---  ------                           --------------   -----  \n",
      " 0   Year                             169831 non-null  int64  \n",
      " 1   Month                            169831 non-null  int64  \n",
      " 2   Country                          169831 non-null  object \n",
      " 3   Region                           169831 non-null  object \n",
      " 4   Cropland_BA_hectares             169831 non-null  int64  \n",
      " 5   Forest_BA_hectares               169831 non-null  int64  \n",
      " 6   Grass_and_Shrubland_BA_hectares  169831 non-null  int64  \n",
      " 7   Wetlands_BA_hectares             169831 non-null  int64  \n",
      " 8   Settlement_BA_hectares           169831 non-null  int64  \n",
      " 9   Other_BA_hectares                169831 non-null  int64  \n",
      " 10  Total_hectares                   169831 non-null  int64  \n",
      " 11  location_lat                     169831 non-null  float64\n",
      " 12  location_long                    169831 non-null  float64\n",
      "dtypes: float64(2), int64(9), object(2)\n",
      "memory usage: 16.8+ MB\n"
     ]
    }
   ],
   "source": [
    "df.info()"
   ]
  },
  {
   "cell_type": "code",
   "execution_count": 6,
   "metadata": {
    "pycharm": {
     "name": "#%%\n"
    }
   },
   "outputs": [],
   "source": [
    "df = df[df['Total_hectares'] > 0]"
   ]
  },
  {
   "cell_type": "code",
   "execution_count": 7,
   "metadata": {
    "pycharm": {
     "name": "#%%\n"
    }
   },
   "outputs": [
    {
     "name": "stdout",
     "output_type": "stream",
     "text": [
      "<class 'pandas.core.frame.DataFrame'>\n",
      "Int64Index: 174532 entries, 71 to 737855\n",
      "Data columns (total 13 columns):\n",
      " #   Column                           Non-Null Count   Dtype  \n",
      "---  ------                           --------------   -----  \n",
      " 0   Year                             174532 non-null  int64  \n",
      " 1   Month                            174532 non-null  int64  \n",
      " 2   Country                          174532 non-null  object \n",
      " 3   Region                           174532 non-null  object \n",
      " 4   Cropland_BA_hectares             174532 non-null  int64  \n",
      " 5   Forest_BA_hectares               174532 non-null  int64  \n",
      " 6   Grass_and_Shrubland_BA_hectares  174532 non-null  int64  \n",
      " 7   Wetlands_BA_hectares             174532 non-null  int64  \n",
      " 8   Settlement_BA_hectares           174532 non-null  int64  \n",
      " 9   Other_BA_hectares                174532 non-null  int64  \n",
      " 10  Latitude                         174532 non-null  float64\n",
      " 11  Longitude                        174532 non-null  float64\n",
      " 12  Total_hectares                   174532 non-null  int64  \n",
      "dtypes: float64(2), int64(9), object(2)\n",
      "memory usage: 18.6+ MB\n"
     ]
    }
   ],
   "source": [
    "df.info()"
   ]
  },
  {
   "cell_type": "code",
   "execution_count": null,
   "metadata": {
    "pycharm": {
     "name": "#%%\n"
    }
   },
   "outputs": [],
   "source": [
    "df['location'] = df['Region'] + ',' + df['Country']"
   ]
  },
  {
   "cell_type": "code",
   "execution_count": null,
   "metadata": {
    "pycharm": {
     "name": "#%%\n"
    }
   },
   "outputs": [],
   "source": [
    "%%time\n",
    "from geopy.geocoders import Nominatim\n",
    "from geopy.extra.rate_limiter import RateLimiter\n",
    "from tqdm import tqdm\n",
    "tqdm.pandas()\n",
    "pd.options.mode.chained_assignment = None\n",
    "geolocator = Nominatim(user_agent=\"myApp\", timeout = None)\n",
    "\n",
    "geocode = RateLimiter(geolocator.geocode,  timeout=None)\n",
    "\n",
    "df2[['location_lat', 'location_long']] = df2['location'].progress_apply(\n",
    "   geolocator.geocode).apply(lambda x: pd.Series(\n",
    "       [x.latitude, x.longitude], index=['location_lat', 'location_long'] )  if x != None else 'NF')\n"
   ]
  },
  {
   "cell_type": "code",
   "execution_count": null,
   "metadata": {
    "pycharm": {
     "name": "#%%\n"
    }
   },
   "outputs": [],
   "source": [
    "df.to_csv('Global_Wildfire_GWIS',index = False)"
   ]
  },
  {
   "cell_type": "code",
   "execution_count": null,
   "metadata": {
    "pycharm": {
     "name": "#%%\n"
    }
   },
   "outputs": [],
   "source": [
    "import pandas as pd\n",
    "df = pd.read_csv(\"Global_Wildfire_GWIS.csv\")\n",
    "df['location'] = df['Region'] + ',' + df['Country']\n",
    "df1 = df.iloc[:10000,:]\n",
    "df2 = df.iloc[10000:20000,:]\n",
    "df3 = df.iloc[20000:30000,:]\n",
    "df4 = df.iloc[30000:40000,:]\n",
    "df5 = df.iloc[40000:50000,:]\n",
    "df6 = df.iloc[50000:60000,:]\n",
    "df7 = df.iloc[60000:70000,:]\n",
    "df8 = df.iloc[70000:80000,:]\n",
    "df9 = df.iloc[80000:90000,:]\n",
    "df10 = df.iloc[90000:100000,:]\n",
    "df11 = df.iloc[100000:110000,:]\n",
    "df12 = df.iloc[110000:120000,:]\n",
    "df13 = df.iloc[120000:130000,:]\n",
    "df14 = df.iloc[130000:140000,:]\n",
    "df15 = df.iloc[140000:150000,:]\n",
    "df16 = df.iloc[150000:160000,:]\n",
    "df17 = df.iloc[160000:170000,:]\n",
    "df18 = df.iloc[170000:,:]"
   ]
  },
  {
   "cell_type": "code",
   "execution_count": null,
   "metadata": {
    "pycharm": {
     "name": "#%%\n"
    }
   },
   "outputs": [],
   "source": [
    "df.head()"
   ]
  },
  {
   "cell_type": "code",
   "execution_count": null,
   "metadata": {
    "pycharm": {
     "name": "#%%\n"
    }
   },
   "outputs": [],
   "source": [
    "!pip install geopy"
   ]
  },
  {
   "cell_type": "code",
   "execution_count": null,
   "metadata": {
    "pycharm": {
     "name": "#%%\n"
    }
   },
   "outputs": [],
   "source": [
    "%%time\n",
    "from geopy.geocoders import Nominatim\n",
    "from geopy.extra.rate_limiter import RateLimiter\n",
    "from tqdm import tqdm\n",
    "tqdm.pandas()\n",
    "pd.options.mode.chained_assignment = None\n",
    "geolocator = Nominatim(user_agent=\"myApp\", timeout = None)\n",
    "\n",
    "\n",
    "df18['response'] = df18['location'].progress_apply(geolocator.geocode)\n",
    "df18[['location_lat', 'location_long']] = df18['response'].progress_apply(lambda x: pd.Series(\n",
    "       [x.latitude, x.longitude], index=['location_lat', 'location_long'] )  if x != None else pd.Series(['NF','NF'], index=['location_lat', 'location_long']))\n",
    "df18.to_csv('18_Wildfire.csv', index = False)"
   ]
  },
  {
   "cell_type": "code",
   "execution_count": null,
   "metadata": {
    "pycharm": {
     "name": "#%%\n"
    }
   },
   "outputs": [],
   "source": [
    "%%time\n",
    "from geopy.geocoders import Nominatim\n",
    "from geopy.extra.rate_limiter import RateLimiter\n",
    "from tqdm import tqdm\n",
    "tqdm.pandas()\n",
    "pd.options.mode.chained_assignment = None\n",
    "geolocator = Nominatim(user_agent=\"myApp\", timeout = None)\n",
    "\n",
    "\n",
    "df1['response'] = df1['location'].progress_apply(geolocator.geocode)\n",
    "df1[['location_lat', 'location_long']] = df1['response'].progress_apply(lambda x: pd.Series(\n",
    "       [x.latitude, x.longitude], index=['location_lat', 'location_long'] )  if x != None else pd.Series(['NF','NF'], index=['location_lat', 'location_long']))\n",
    "df1.to_csv('1_Wildfire.csv', index = False)"
   ]
  },
  {
   "cell_type": "code",
   "execution_count": null,
   "metadata": {
    "pycharm": {
     "name": "#%%\n"
    }
   },
   "outputs": [],
   "source": [
    "%%time\n",
    "from geopy.geocoders import Nominatim\n",
    "from geopy.extra.rate_limiter import RateLimiter\n",
    "from tqdm import tqdm\n",
    "tqdm.pandas()\n",
    "pd.options.mode.chained_assignment = None\n",
    "geolocator = Nominatim(user_agent=\"myApp\", timeout = None)\n",
    "\n",
    "\n",
    "df2['response'] = df2['location'].progress_apply(geolocator.geocode)\n",
    "df2[['location_lat', 'location_long']] = df2['response'].progress_apply(lambda x: pd.Series(\n",
    "       [x.latitude, x.longitude], index=['location_lat', 'location_long'] )  if x != None else pd.Series(['NF','NF'], index=['location_lat', 'location_long']))\n",
    "df2.to_csv('2_Wildfire.csv', index = False)"
   ]
  },
  {
   "cell_type": "code",
   "execution_count": null,
   "metadata": {
    "pycharm": {
     "name": "#%%\n"
    }
   },
   "outputs": [],
   "source": [
    "%%time\n",
    "from geopy.geocoders import Nominatim\n",
    "from geopy.extra.rate_limiter import RateLimiter\n",
    "from tqdm import tqdm\n",
    "tqdm.pandas()\n",
    "pd.options.mode.chained_assignment = None\n",
    "geolocator = Nominatim(user_agent=\"myApp\", timeout = None)\n",
    "\n",
    "\n",
    "df3['response'] = df3['location'].progress_apply(geolocator.geocode)\n",
    "df3[['location_lat', 'location_long']] = df3['response'].progress_apply(lambda x: pd.Series(\n",
    "       [x.latitude, x.longitude], index=['location_lat', 'location_long'] )  if x != None else pd.Series(['NF','NF'], index=['location_lat', 'location_long']))\n",
    "df3.to_csv('3_Wildfire.csv', index = False)"
   ]
  },
  {
   "cell_type": "code",
   "execution_count": null,
   "metadata": {
    "pycharm": {
     "name": "#%%\n"
    }
   },
   "outputs": [],
   "source": [
    "%%time\n",
    "from geopy.geocoders import Nominatim\n",
    "from geopy.extra.rate_limiter import RateLimiter\n",
    "from tqdm import tqdm\n",
    "tqdm.pandas()\n",
    "pd.options.mode.chained_assignment = None\n",
    "geolocator = Nominatim(user_agent=\"myApp\", timeout = None)\n",
    "\n",
    "\n",
    "df4['response'] = df4['location'].progress_apply(geolocator.geocode)\n",
    "df4[['location_lat', 'location_long']] = df4['response'].progress_apply(lambda x: pd.Series(\n",
    "       [x.latitude, x.longitude], index=['location_lat', 'location_long'] )  if x != None else pd.Series(['NF','NF'], index=['location_lat', 'location_long']))\n",
    "df4.to_csv('4_Wildfire.csv', index = False)"
   ]
  },
  {
   "cell_type": "code",
   "execution_count": null,
   "metadata": {
    "pycharm": {
     "name": "#%%\n"
    }
   },
   "outputs": [],
   "source": [
    "%%time\n",
    "from geopy.geocoders import Nominatim\n",
    "from geopy.extra.rate_limiter import RateLimiter\n",
    "from tqdm import tqdm\n",
    "tqdm.pandas()\n",
    "pd.options.mode.chained_assignment = None\n",
    "geolocator = Nominatim(user_agent=\"myApp\", timeout = None)\n",
    "\n",
    "\n",
    "df5['response'] = df5['location'].progress_apply(geolocator.geocode)\n",
    "df5[['location_lat', 'location_long']] = df5['response'].progress_apply(lambda x: pd.Series(\n",
    "       [x.latitude, x.longitude], index=['location_lat', 'location_long'] )  if x != None else pd.Series(['NF','NF'], index=['location_lat', 'location_long']))\n",
    "df5.to_csv('5_Wildfire.csv', index = False)"
   ]
  },
  {
   "cell_type": "code",
   "execution_count": null,
   "metadata": {
    "pycharm": {
     "name": "#%%\n"
    }
   },
   "outputs": [],
   "source": [
    "%%time\n",
    "from geopy.geocoders import Nominatim\n",
    "from geopy.extra.rate_limiter import RateLimiter\n",
    "from tqdm import tqdm\n",
    "tqdm.pandas()\n",
    "pd.options.mode.chained_assignment = None\n",
    "geolocator = Nominatim(user_agent=\"myApp\", timeout = None)\n",
    "\n",
    "\n",
    "df6['response'] = df6['location'].progress_apply(geolocator.geocode)\n",
    "df6[['location_lat', 'location_long']] = df6['response'].progress_apply(lambda x: pd.Series(\n",
    "       [x.latitude, x.longitude], index=['location_lat', 'location_long'] )  if x != None else pd.Series(['NF','NF'], index=['location_lat', 'location_long']))\n",
    "df6.to_csv('6_Wildfire.csv', index = False)"
   ]
  },
  {
   "cell_type": "code",
   "execution_count": null,
   "metadata": {
    "pycharm": {
     "name": "#%%\n"
    }
   },
   "outputs": [],
   "source": [
    "%%time\n",
    "from geopy.geocoders import Nominatim\n",
    "from geopy.extra.rate_limiter import RateLimiter\n",
    "from tqdm import tqdm\n",
    "tqdm.pandas()\n",
    "pd.options.mode.chained_assignment = None\n",
    "geolocator = Nominatim(user_agent=\"myApp\", timeout = None)\n",
    "\n",
    "\n",
    "df7['response'] = df7['location'].progress_apply(geolocator.geocode)\n",
    "df7[['location_lat', 'location_long']] = df7['response'].progress_apply(lambda x: pd.Series(\n",
    "       [x.latitude, x.longitude], index=['location_lat', 'location_long'] )  if x != None else pd.Series(['NF','NF'], index=['location_lat', 'location_long']))\n",
    "df7.to_csv('7_Wildfire.csv', index = False)"
   ]
  },
  {
   "cell_type": "code",
   "execution_count": null,
   "metadata": {
    "pycharm": {
     "name": "#%%\n"
    }
   },
   "outputs": [],
   "source": [
    "%%time\n",
    "from geopy.geocoders import Nominatim\n",
    "from geopy.extra.rate_limiter import RateLimiter\n",
    "from tqdm import tqdm\n",
    "tqdm.pandas()\n",
    "pd.options.mode.chained_assignment = None\n",
    "geolocator = Nominatim(user_agent=\"myApp\", timeout = None)\n",
    "\n",
    "\n",
    "df8['response'] = df8['location'].progress_apply(geolocator.geocode)\n",
    "df8[['location_lat', 'location_long']] = df8['response'].progress_apply(lambda x: pd.Series(\n",
    "       [x.latitude, x.longitude], index=['location_lat', 'location_long'] )  if x != None else pd.Series(['NF','NF'], index=['location_lat', 'location_long']))\n",
    "df8.to_csv('8_Wildfire.csv', index = False)"
   ]
  },
  {
   "cell_type": "code",
   "execution_count": null,
   "metadata": {
    "pycharm": {
     "name": "#%%\n"
    }
   },
   "outputs": [],
   "source": [
    "%%time\n",
    "from geopy.geocoders import Nominatim\n",
    "from geopy.extra.rate_limiter import RateLimiter\n",
    "from tqdm import tqdm\n",
    "tqdm.pandas()\n",
    "pd.options.mode.chained_assignment = None\n",
    "geolocator = Nominatim(user_agent=\"myApp\", timeout = None)\n",
    "\n",
    "\n",
    "df9['response'] = df9['location'].progress_apply(geolocator.geocode)\n",
    "df9[['location_lat', 'location_long']] = df9['response'].progress_apply(lambda x: pd.Series(\n",
    "       [x.latitude, x.longitude], index=['location_lat', 'location_long'] )  if x != None else pd.Series(['NF','NF'], index=['location_lat', 'location_long']))\n",
    "df9.to_csv('9_Wildfire.csv', index = False)"
   ]
  },
  {
   "cell_type": "code",
   "execution_count": null,
   "metadata": {
    "pycharm": {
     "name": "#%%\n"
    }
   },
   "outputs": [],
   "source": [
    "%%time\n",
    "from geopy.geocoders import Nominatim\n",
    "from geopy.extra.rate_limiter import RateLimiter\n",
    "from tqdm import tqdm\n",
    "tqdm.pandas()\n",
    "pd.options.mode.chained_assignment = None\n",
    "geolocator = Nominatim(user_agent=\"myApp\", timeout = None)\n",
    "\n",
    "\n",
    "df10['response'] = df10['location'].progress_apply(geolocator.geocode)\n",
    "df10[['location_lat', 'location_long']] = df10['response'].progress_apply(lambda x: pd.Series(\n",
    "       [x.latitude, x.longitude], index=['location_lat', 'location_long'] )  if x != None else pd.Series(['NF','NF'], index=['location_lat', 'location_long']))\n",
    "df10.to_csv('10_Wildfire.csv', index = False)"
   ]
  },
  {
   "cell_type": "code",
   "execution_count": null,
   "metadata": {
    "pycharm": {
     "name": "#%%\n"
    }
   },
   "outputs": [],
   "source": [
    "%%time\n",
    "from geopy.geocoders import Nominatim\n",
    "from geopy.extra.rate_limiter import RateLimiter\n",
    "from tqdm import tqdm\n",
    "tqdm.pandas()\n",
    "pd.options.mode.chained_assignment = None\n",
    "geolocator = Nominatim(user_agent=\"myApp\", timeout = None)\n",
    "\n",
    "\n",
    "df11['response'] = df11['location'].progress_apply(geolocator.geocode)\n",
    "df11[['location_lat', 'location_long']] = df11['response'].progress_apply(lambda x: pd.Series(\n",
    "       [x.latitude, x.longitude], index=['location_lat', 'location_long'] )  if x != None else pd.Series(['NF','NF'], index=['location_lat', 'location_long']))\n",
    "df11.to_csv('11_Wildfire.csv', index = False)"
   ]
  },
  {
   "cell_type": "code",
   "execution_count": null,
   "metadata": {
    "pycharm": {
     "name": "#%%\n"
    }
   },
   "outputs": [],
   "source": [
    "%%time\n",
    "from geopy.geocoders import Nominatim\n",
    "from geopy.extra.rate_limiter import RateLimiter\n",
    "from tqdm import tqdm\n",
    "tqdm.pandas()\n",
    "pd.options.mode.chained_assignment = None\n",
    "geolocator = Nominatim(user_agent=\"myApp\", timeout = None)\n",
    "\n",
    "\n",
    "df12['response'] = df12['location'].progress_apply(geolocator.geocode)\n",
    "df12[['location_lat', 'location_long']] = df12['response'].progress_apply(lambda x: pd.Series(\n",
    "       [x.latitude, x.longitude], index=['location_lat', 'location_long'] )  if x != None else pd.Series(['NF','NF'], index=['location_lat', 'location_long']))\n",
    "df12.to_csv('12_Wildfire.csv', index = False)"
   ]
  },
  {
   "cell_type": "code",
   "execution_count": null,
   "metadata": {
    "pycharm": {
     "name": "#%%\n"
    }
   },
   "outputs": [],
   "source": [
    "%%time\n",
    "from geopy.geocoders import Nominatim\n",
    "from geopy.extra.rate_limiter import RateLimiter\n",
    "from tqdm import tqdm\n",
    "tqdm.pandas()\n",
    "pd.options.mode.chained_assignment = None\n",
    "geolocator = Nominatim(user_agent=\"myApp\", timeout = None)\n",
    "\n",
    "\n",
    "df13['response'] = df13['location'].progress_apply(geolocator.geocode)\n",
    "df13[['location_lat', 'location_long']] = df13['response'].progress_apply(lambda x: pd.Series(\n",
    "       [x.latitude, x.longitude], index=['location_lat', 'location_long'] )  if x != None else pd.Series(['NF','NF'], index=['location_lat', 'location_long']))\n",
    "df13.to_csv('13_Wildfire.csv', index = False)"
   ]
  },
  {
   "cell_type": "code",
   "execution_count": null,
   "metadata": {
    "pycharm": {
     "name": "#%%\n"
    }
   },
   "outputs": [],
   "source": [
    "%%time\n",
    "from geopy.geocoders import Nominatim\n",
    "from geopy.extra.rate_limiter import RateLimiter\n",
    "from tqdm import tqdm\n",
    "tqdm.pandas()\n",
    "pd.options.mode.chained_assignment = None\n",
    "geolocator = Nominatim(user_agent=\"myApp\", timeout = None)\n",
    "\n",
    "\n",
    "df14['response'] = df14['location'].progress_apply(geolocator.geocode)\n",
    "df14[['location_lat', 'location_long']] = df14['response'].progress_apply(lambda x: pd.Series(\n",
    "       [x.latitude, x.longitude], index=['location_lat', 'location_long'] )  if x != None else pd.Series(['NF','NF'], index=['location_lat', 'location_long']))\n",
    "df14.to_csv('14_Wildfire.csv', index = False)"
   ]
  },
  {
   "cell_type": "code",
   "execution_count": null,
   "metadata": {
    "pycharm": {
     "name": "#%%\n"
    }
   },
   "outputs": [],
   "source": [
    "%%time\n",
    "from geopy.geocoders import Nominatim\n",
    "from geopy.extra.rate_limiter import RateLimiter\n",
    "from tqdm import tqdm\n",
    "tqdm.pandas()\n",
    "pd.options.mode.chained_assignment = None\n",
    "geolocator = Nominatim(user_agent=\"myApp\", timeout = None)\n",
    "\n",
    "\n",
    "df15['response'] = df15['location'].progress_apply(geolocator.geocode)\n",
    "df15[['location_lat', 'location_long']] = df15['response'].progress_apply(lambda x: pd.Series(\n",
    "       [x.latitude, x.longitude], index=['location_lat', 'location_long'] )  if x != None else pd.Series(['NF','NF'], index=['location_lat', 'location_long']))\n",
    "df15.to_csv('15_Wildfire.csv', index = False)"
   ]
  },
  {
   "cell_type": "code",
   "execution_count": null,
   "metadata": {
    "pycharm": {
     "name": "#%%\n"
    }
   },
   "outputs": [],
   "source": [
    "%%time\n",
    "from geopy.geocoders import Nominatim\n",
    "from geopy.extra.rate_limiter import RateLimiter\n",
    "from tqdm import tqdm\n",
    "tqdm.pandas()\n",
    "pd.options.mode.chained_assignment = None\n",
    "geolocator = Nominatim(user_agent=\"myApp\", timeout = None)\n",
    "\n",
    "\n",
    "df16['response'] = df16['location'].progress_apply(geolocator.geocode)\n",
    "df16[['location_lat', 'location_long']] = df16['response'].progress_apply(lambda x: pd.Series(\n",
    "       [x.latitude, x.longitude], index=['location_lat', 'location_long'] )  if x != None else pd.Series(['NF','NF'], index=['location_lat', 'location_long']))\n",
    "df16.to_csv('16_Wildfire.csv', index = False)"
   ]
  },
  {
   "cell_type": "code",
   "execution_count": null,
   "metadata": {
    "pycharm": {
     "name": "#%%\n"
    }
   },
   "outputs": [],
   "source": [
    "%%time\n",
    "from geopy.geocoders import Nominatim\n",
    "from geopy.extra.rate_limiter import RateLimiter\n",
    "from tqdm import tqdm\n",
    "tqdm.pandas()\n",
    "pd.options.mode.chained_assignment = None\n",
    "geolocator = Nominatim(user_agent=\"myApp\", timeout = None)\n",
    "\n",
    "\n",
    "df17['response'] = df17['location'].progress_apply(geolocator.geocode)\n",
    "df17[['location_lat', 'location_long']] = df17['response'].progress_apply(lambda x: pd.Series(\n",
    "       [x.latitude, x.longitude], index=['location_lat', 'location_long'] )  if x != None else pd.Series(['NF','NF'], index=['location_lat', 'location_long']))\n",
    "df17.to_csv('17_Wildfire.csv', index = False)"
   ]
  },
  {
   "cell_type": "code",
   "execution_count": null,
   "metadata": {
    "pycharm": {
     "name": "#%%\n"
    }
   },
   "outputs": [],
   "source": [
    "frames = [df1, df2, df3,df4, df5, df6,df7, df8, df9,df10, df11, df12,df13, df14, df15,df16, df17, df18]\n",
    "\n",
    "result = pd.concat(frames)\n",
    "result.to_csv('final_Wildfire.csv', index = False)"
   ]
  },
  {
   "cell_type": "code",
   "execution_count": null,
   "metadata": {
    "pycharm": {
     "name": "#%%\n"
    }
   },
   "outputs": [],
   "source": [
    "result.info()"
   ]
  },
  {
   "cell_type": "code",
   "execution_count": null,
   "metadata": {
    "pycharm": {
     "name": "#%%\n"
    }
   },
   "outputs": [],
   "source": [
    "result.head()"
   ]
  },
  {
   "cell_type": "code",
   "execution_count": null,
   "metadata": {
    "pycharm": {
     "name": "#%%\n"
    }
   },
   "outputs": [],
   "source": [
    "from datetime import datetime\n",
    "import matplotlib.pyplot as plt\n",
    "from meteostat import Point, Daily, Monthly\n",
    "import pandas as pd"
   ]
  },
  {
   "cell_type": "code",
   "execution_count": null,
   "metadata": {
    "pycharm": {
     "name": "#%%\n"
    }
   },
   "outputs": [],
   "source": [
    "result = result[result['location_lat'] != 'NF']"
   ]
  },
  {
   "cell_type": "code",
   "execution_count": null,
   "metadata": {
    "pycharm": {
     "name": "#%%\n"
    }
   },
   "outputs": [],
   "source": [
    "result.info()"
   ]
  },
  {
   "cell_type": "code",
   "execution_count": null,
   "metadata": {
    "pycharm": {
     "name": "#%%\n"
    }
   },
   "outputs": [],
   "source": [
    "df_test = result"
   ]
  },
  {
   "cell_type": "code",
   "execution_count": null,
   "metadata": {
    "pycharm": {
     "name": "#%%\n"
    }
   },
   "outputs": [],
   "source": [
    "def getweather(s): \n",
    "    month = s['Month']\n",
    "    #day = s['day']\n",
    "    year = s['Year']\n",
    "    lat = s['location_lat']\n",
    "    lon = s['location_long']\n",
    "    \n",
    "    start = datetime(year, month, 1)\n",
    "    end = datetime(year, month, 27)\n",
    "    location = Point(lat, lon)\n",
    "    data = Monthly(location, start, end)\n",
    "    data = data.fetch()\n",
    "    \n",
    "    if not data.empty :\n",
    "        s['tavg'] = data['tavg'].values[0].tolist()\n",
    "        s['tmin'] = data.tmin.values[0].tolist()\n",
    "        s['tmax'] = data.tmax.values[0].tolist()\n",
    "        s['prcp'] = data.prcp.values[0].tolist()\n",
    "        #s['snow'] = data.snow.values[0].tolist()\n",
    "        #s['wdir'] = data.wdir.values[0].tolist()\n",
    "        s['wspd'] = data.wspd.values[0].tolist()\n",
    "        #s['wpgt'] = data.wpgt.values[0].tolist()\n",
    "        s['pres'] = data.pres.values[0].tolist()\n",
    "        s['tsun'] = data.tsun.values[0].tolist()\n",
    "    return s"
   ]
  },
  {
   "cell_type": "code",
   "execution_count": null,
   "metadata": {
    "pycharm": {
     "name": "#%%\n"
    }
   },
   "outputs": [],
   "source": [
    "%%time\n",
    "import warnings\n",
    "warnings.filterwarnings(\"ignore\")\n",
    "warnings.simplefilter(action='ignore', category=FutureWarning)\n",
    "\n",
    "#df_test['response'] = df_test.apply(lambda x: getweather(x.month, x.day, x.year, x.LATITUDE, x.LONGITUDE), axis=1)\n",
    "from tqdm import tqdm\n",
    "tqdm.pandas()\n",
    "pd.options.mode.chained_assignment = None\n",
    "\n",
    "df_test = df_test.progress_apply(getweather, axis=1)"
   ]
  },
  {
   "cell_type": "code",
   "execution_count": null,
   "metadata": {
    "pycharm": {
     "name": "#%%\n"
    }
   },
   "outputs": [],
   "source": [
    "df_test = df_test[df_test['tavg'].notna()]\n",
    "df_test.info()"
   ]
  },
  {
   "cell_type": "code",
   "execution_count": null,
   "metadata": {
    "pycharm": {
     "name": "#%%\n"
    }
   },
   "outputs": [],
   "source": [
    "df_test.to_csv('gwis_weather.csv', index = False)"
   ]
  },
  {
   "cell_type": "code",
   "execution_count": null,
   "metadata": {
    "pycharm": {
     "name": "#%%\n"
    }
   },
   "outputs": [],
   "source": [
    "df = pd.read_csv(\"GWIS_Wildfire_loc.csv\")"
   ]
  },
  {
   "cell_type": "code",
   "execution_count": null,
   "metadata": {
    "pycharm": {
     "name": "#%%\n"
    }
   },
   "outputs": [],
   "source": [
    "df.info()"
   ]
  },
  {
   "cell_type": "code",
   "execution_count": null,
   "metadata": {
    "pycharm": {
     "name": "#%%\n"
    }
   },
   "outputs": [],
   "source": [
    "df = df[df['location_lat'] != 'NF']"
   ]
  },
  {
   "cell_type": "code",
   "execution_count": null,
   "metadata": {
    "pycharm": {
     "name": "#%%\n"
    }
   },
   "outputs": [],
   "source": [
    "df.drop('Latitude', inplace=True, axis=1)\n",
    "df.drop('Longitude', inplace=True, axis=1)\n",
    "df.drop('location', inplace=True, axis=1)\n",
    "df.drop('response', inplace=True, axis=1)"
   ]
  },
  {
   "cell_type": "code",
   "execution_count": null,
   "metadata": {
    "pycharm": {
     "name": "#%%\n"
    }
   },
   "outputs": [],
   "source": [
    "df.info()"
   ]
  },
  {
   "cell_type": "code",
   "execution_count": null,
   "metadata": {
    "pycharm": {
     "name": "#%%\n"
    }
   },
   "outputs": [],
   "source": [
    "df.to_csv('Global_Wildfire_GWIS.csv', index = False)"
   ]
  },
  {
   "cell_type": "code",
   "execution_count": 29,
   "metadata": {
    "pycharm": {
     "name": "#%%\n"
    }
   },
   "outputs": [],
   "source": [
    "frames = [df1, df2, df3,df4, df5, df6,df7, df8, df9,df10, df11, df12,df13, df14, df15,df16, df17, df18]\n",
    "\n",
    "result = pd.concat(frames)\n",
    "result.to_csv('final_Wildfire.csv', index = False)"
   ]
  },
  {
   "cell_type": "code",
   "execution_count": 30,
   "metadata": {
    "pycharm": {
     "name": "#%%\n"
    }
   },
   "outputs": [
    {
     "name": "stdout",
     "output_type": "stream",
     "text": [
      "<class 'pandas.core.frame.DataFrame'>\n",
      "RangeIndex: 174532 entries, 0 to 174531\n",
      "Data columns (total 17 columns):\n",
      " #   Column                           Non-Null Count   Dtype  \n",
      "---  ------                           --------------   -----  \n",
      " 0   Year                             174532 non-null  int64  \n",
      " 1   Month                            174532 non-null  int64  \n",
      " 2   Country                          174532 non-null  object \n",
      " 3   Region                           174532 non-null  object \n",
      " 4   Cropland_BA_hectares             174532 non-null  int64  \n",
      " 5   Forest_BA_hectares               174532 non-null  int64  \n",
      " 6   Grass_and_Shrubland_BA_hectares  174532 non-null  int64  \n",
      " 7   Wetlands_BA_hectares             174532 non-null  int64  \n",
      " 8   Settlement_BA_hectares           174532 non-null  int64  \n",
      " 9   Other_BA_hectares                174532 non-null  int64  \n",
      " 10  Latitude                         174532 non-null  float64\n",
      " 11  Longitude                        174532 non-null  float64\n",
      " 12  Total_hectares                   174532 non-null  int64  \n",
      " 13  location                         174532 non-null  object \n",
      " 14  response                         169831 non-null  object \n",
      " 15  location_lat                     174532 non-null  object \n",
      " 16  location_long                    174532 non-null  object \n",
      "dtypes: float64(2), int64(9), object(6)\n",
      "memory usage: 22.6+ MB\n"
     ]
    }
   ],
   "source": [
    "result.info()"
   ]
  },
  {
   "cell_type": "code",
   "execution_count": 31,
   "metadata": {
    "pycharm": {
     "name": "#%%\n"
    }
   },
   "outputs": [
    {
     "data": {
      "text/html": [
       "<div>\n",
       "<style scoped>\n",
       "    .dataframe tbody tr th:only-of-type {\n",
       "        vertical-align: middle;\n",
       "    }\n",
       "\n",
       "    .dataframe tbody tr th {\n",
       "        vertical-align: top;\n",
       "    }\n",
       "\n",
       "    .dataframe thead th {\n",
       "        text-align: right;\n",
       "    }\n",
       "</style>\n",
       "<table border=\"1\" class=\"dataframe\">\n",
       "  <thead>\n",
       "    <tr style=\"text-align: right;\">\n",
       "      <th></th>\n",
       "      <th>Year</th>\n",
       "      <th>Month</th>\n",
       "      <th>Country</th>\n",
       "      <th>Region</th>\n",
       "      <th>Cropland_BA_hectares</th>\n",
       "      <th>Forest_BA_hectares</th>\n",
       "      <th>Grass_and_Shrubland_BA_hectares</th>\n",
       "      <th>Wetlands_BA_hectares</th>\n",
       "      <th>Settlement_BA_hectares</th>\n",
       "      <th>Other_BA_hectares</th>\n",
       "      <th>Latitude</th>\n",
       "      <th>Longitude</th>\n",
       "      <th>Total_hectares</th>\n",
       "      <th>location</th>\n",
       "      <th>response</th>\n",
       "      <th>location_lat</th>\n",
       "      <th>location_long</th>\n",
       "    </tr>\n",
       "  </thead>\n",
       "  <tbody>\n",
       "    <tr>\n",
       "      <th>0</th>\n",
       "      <td>2002</td>\n",
       "      <td>3</td>\n",
       "      <td>Afghanistan</td>\n",
       "      <td>Balkh</td>\n",
       "      <td>129</td>\n",
       "      <td>0</td>\n",
       "      <td>0</td>\n",
       "      <td>0</td>\n",
       "      <td>0</td>\n",
       "      <td>0</td>\n",
       "      <td>33.93911</td>\n",
       "      <td>67.709953</td>\n",
       "      <td>129</td>\n",
       "      <td>Balkh,Afghanistan</td>\n",
       "      <td>(بلخ, ولسوالی بلخ, ولایت بلخ, افغانستان, (36.7...</td>\n",
       "      <td>36.758126</td>\n",
       "      <td>66.898083</td>\n",
       "    </tr>\n",
       "    <tr>\n",
       "      <th>1</th>\n",
       "      <td>2002</td>\n",
       "      <td>8</td>\n",
       "      <td>Afghanistan</td>\n",
       "      <td>Badghis</td>\n",
       "      <td>0</td>\n",
       "      <td>0</td>\n",
       "      <td>64</td>\n",
       "      <td>0</td>\n",
       "      <td>0</td>\n",
       "      <td>365</td>\n",
       "      <td>33.93911</td>\n",
       "      <td>67.709953</td>\n",
       "      <td>429</td>\n",
       "      <td>Badghis,Afghanistan</td>\n",
       "      <td>(ولایت بادغیس, افغانستان, (35.0, 63.75))</td>\n",
       "      <td>35.0</td>\n",
       "      <td>63.75</td>\n",
       "    </tr>\n",
       "    <tr>\n",
       "      <th>2</th>\n",
       "      <td>2002</td>\n",
       "      <td>8</td>\n",
       "      <td>Afghanistan</td>\n",
       "      <td>Faryab</td>\n",
       "      <td>129</td>\n",
       "      <td>0</td>\n",
       "      <td>14618</td>\n",
       "      <td>0</td>\n",
       "      <td>0</td>\n",
       "      <td>16786</td>\n",
       "      <td>33.93911</td>\n",
       "      <td>67.709953</td>\n",
       "      <td>31533</td>\n",
       "      <td>Faryab,Afghanistan</td>\n",
       "      <td>(ولایت فاریاب, افغانستان, (35.9261784, 64.6237...</td>\n",
       "      <td>35.926178</td>\n",
       "      <td>64.623776</td>\n",
       "    </tr>\n",
       "    <tr>\n",
       "      <th>3</th>\n",
       "      <td>2002</td>\n",
       "      <td>8</td>\n",
       "      <td>Afghanistan</td>\n",
       "      <td>Hirat</td>\n",
       "      <td>0</td>\n",
       "      <td>0</td>\n",
       "      <td>64</td>\n",
       "      <td>0</td>\n",
       "      <td>0</td>\n",
       "      <td>86</td>\n",
       "      <td>33.93911</td>\n",
       "      <td>67.709953</td>\n",
       "      <td>150</td>\n",
       "      <td>Hirat,Afghanistan</td>\n",
       "      <td>(هرات, ولایت هرات, 3001, افغانستان, (34.350827...</td>\n",
       "      <td>34.350827</td>\n",
       "      <td>62.2164</td>\n",
       "    </tr>\n",
       "    <tr>\n",
       "      <th>4</th>\n",
       "      <td>2003</td>\n",
       "      <td>1</td>\n",
       "      <td>Afghanistan</td>\n",
       "      <td>Jawzjan</td>\n",
       "      <td>644</td>\n",
       "      <td>0</td>\n",
       "      <td>107</td>\n",
       "      <td>322</td>\n",
       "      <td>0</td>\n",
       "      <td>21</td>\n",
       "      <td>33.93911</td>\n",
       "      <td>67.709953</td>\n",
       "      <td>1094</td>\n",
       "      <td>Jawzjan,Afghanistan</td>\n",
       "      <td>(ولایت جوزجان, افغانستان, (36.9665706, 65.9560...</td>\n",
       "      <td>36.966571</td>\n",
       "      <td>65.956023</td>\n",
       "    </tr>\n",
       "  </tbody>\n",
       "</table>\n",
       "</div>"
      ],
      "text/plain": [
       "   Year  Month      Country   Region  Cropland_BA_hectares  \\\n",
       "0  2002      3  Afghanistan    Balkh                   129   \n",
       "1  2002      8  Afghanistan  Badghis                     0   \n",
       "2  2002      8  Afghanistan   Faryab                   129   \n",
       "3  2002      8  Afghanistan    Hirat                     0   \n",
       "4  2003      1  Afghanistan  Jawzjan                   644   \n",
       "\n",
       "   Forest_BA_hectares  Grass_and_Shrubland_BA_hectares  Wetlands_BA_hectares  \\\n",
       "0                   0                                0                     0   \n",
       "1                   0                               64                     0   \n",
       "2                   0                            14618                     0   \n",
       "3                   0                               64                     0   \n",
       "4                   0                              107                   322   \n",
       "\n",
       "   Settlement_BA_hectares  Other_BA_hectares  Latitude  Longitude  \\\n",
       "0                       0                  0  33.93911  67.709953   \n",
       "1                       0                365  33.93911  67.709953   \n",
       "2                       0              16786  33.93911  67.709953   \n",
       "3                       0                 86  33.93911  67.709953   \n",
       "4                       0                 21  33.93911  67.709953   \n",
       "\n",
       "   Total_hectares             location  \\\n",
       "0             129    Balkh,Afghanistan   \n",
       "1             429  Badghis,Afghanistan   \n",
       "2           31533   Faryab,Afghanistan   \n",
       "3             150    Hirat,Afghanistan   \n",
       "4            1094  Jawzjan,Afghanistan   \n",
       "\n",
       "                                            response location_lat  \\\n",
       "0  (بلخ, ولسوالی بلخ, ولایت بلخ, افغانستان, (36.7...    36.758126   \n",
       "1           (ولایت بادغیس, افغانستان, (35.0, 63.75))         35.0   \n",
       "2  (ولایت فاریاب, افغانستان, (35.9261784, 64.6237...    35.926178   \n",
       "3  (هرات, ولایت هرات, 3001, افغانستان, (34.350827...    34.350827   \n",
       "4  (ولایت جوزجان, افغانستان, (36.9665706, 65.9560...    36.966571   \n",
       "\n",
       "  location_long  \n",
       "0     66.898083  \n",
       "1         63.75  \n",
       "2     64.623776  \n",
       "3       62.2164  \n",
       "4     65.956023  "
      ]
     },
     "execution_count": 31,
     "metadata": {},
     "output_type": "execute_result"
    }
   ],
   "source": [
    "result.head()"
   ]
  },
  {
   "cell_type": "code",
   "execution_count": 32,
   "metadata": {
    "pycharm": {
     "name": "#%%\n"
    }
   },
   "outputs": [],
   "source": [
    "from datetime import datetime\n",
    "import matplotlib.pyplot as plt\n",
    "from meteostat import Point, Daily, Monthly\n",
    "import pandas as pd"
   ]
  },
  {
   "cell_type": "code",
   "execution_count": 44,
   "metadata": {
    "pycharm": {
     "name": "#%%\n"
    }
   },
   "outputs": [],
   "source": [
    "result = result[result['location_lat'] != 'NF']"
   ]
  },
  {
   "cell_type": "code",
   "execution_count": 1,
   "metadata": {
    "pycharm": {
     "name": "#%%\n"
    }
   },
   "outputs": [
    {
     "ename": "NameError",
     "evalue": "name 'result' is not defined",
     "output_type": "error",
     "traceback": [
      "\u001b[0;31m---------------------------------------------------------------------------\u001b[0m",
      "\u001b[0;31mNameError\u001b[0m                                 Traceback (most recent call last)",
      "Input \u001b[0;32mIn [1]\u001b[0m, in \u001b[0;36m<cell line: 1>\u001b[0;34m()\u001b[0m\n\u001b[0;32m----> 1\u001b[0m \u001b[43mresult\u001b[49m\u001b[38;5;241m.\u001b[39minfo()\n",
      "\u001b[0;31mNameError\u001b[0m: name 'result' is not defined"
     ]
    }
   ],
   "source": [
    "result.info()"
   ]
  },
  {
   "cell_type": "code",
   "execution_count": 46,
   "metadata": {
    "pycharm": {
     "name": "#%%\n"
    }
   },
   "outputs": [],
   "source": [
    "df_test = result"
   ]
  },
  {
   "cell_type": "code",
   "execution_count": 48,
   "metadata": {
    "pycharm": {
     "name": "#%%\n"
    }
   },
   "outputs": [],
   "source": [
    "def getweather(s): \n",
    "    month = s['Month']\n",
    "    #day = s['day']\n",
    "    year = s['Year']\n",
    "    lat = s['location_lat']\n",
    "    lon = s['location_long']\n",
    "    \n",
    "    start = datetime(year, month, 1)\n",
    "    end = datetime(year, month, 27)\n",
    "    location = Point(lat, lon)\n",
    "    data = Monthly(location, start, end)\n",
    "    data = data.fetch()\n",
    "    \n",
    "    if not data.empty :\n",
    "        s['tavg'] = data['tavg'].values[0].tolist()\n",
    "        s['tmin'] = data.tmin.values[0].tolist()\n",
    "        s['tmax'] = data.tmax.values[0].tolist()\n",
    "        s['prcp'] = data.prcp.values[0].tolist()\n",
    "        #s['snow'] = data.snow.values[0].tolist()\n",
    "        #s['wdir'] = data.wdir.values[0].tolist()\n",
    "        s['wspd'] = data.wspd.values[0].tolist()\n",
    "        #s['wpgt'] = data.wpgt.values[0].tolist()\n",
    "        s['pres'] = data.pres.values[0].tolist()\n",
    "        s['tsun'] = data.tsun.values[0].tolist()\n",
    "    return s"
   ]
  },
  {
   "cell_type": "code",
   "execution_count": 49,
   "metadata": {
    "pycharm": {
     "name": "#%%\n"
    },
    "scrolled": true
   },
   "outputs": [
    {
     "name": "stderr",
     "output_type": "stream",
     "text": [
      "100%|██████████| 169831/169831 [2:32:42<00:00, 18.53it/s]   "
     ]
    },
    {
     "name": "stdout",
     "output_type": "stream",
     "text": [
      "Wall time: 2h 32min 42s\n"
     ]
    },
    {
     "name": "stderr",
     "output_type": "stream",
     "text": [
      "\n"
     ]
    }
   ],
   "source": [
    "%%time\n",
    "import warnings\n",
    "warnings.filterwarnings(\"ignore\")\n",
    "warnings.simplefilter(action='ignore', category=FutureWarning)\n",
    "\n",
    "#df_test['response'] = df_test.apply(lambda x: getweather(x.month, x.day, x.year, x.LATITUDE, x.LONGITUDE), axis=1)\n",
    "from tqdm import tqdm\n",
    "tqdm.pandas()\n",
    "pd.options.mode.chained_assignment = None\n",
    "\n",
    "df_test = df_test.progress_apply(getweather, axis=1)"
   ]
  },
  {
   "cell_type": "code",
   "execution_count": 50,
   "metadata": {
    "pycharm": {
     "name": "#%%\n"
    }
   },
   "outputs": [
    {
     "name": "stdout",
     "output_type": "stream",
     "text": [
      "<class 'pandas.core.frame.DataFrame'>\n",
      "Int64Index: 39613 entries, 82 to 174511\n",
      "Data columns (total 24 columns):\n",
      " #   Column                           Non-Null Count  Dtype  \n",
      "---  ------                           --------------  -----  \n",
      " 0   Country                          39613 non-null  object \n",
      " 1   Cropland_BA_hectares             39613 non-null  int64  \n",
      " 2   Forest_BA_hectares               39613 non-null  int64  \n",
      " 3   Grass_and_Shrubland_BA_hectares  39613 non-null  int64  \n",
      " 4   Latitude                         39613 non-null  float64\n",
      " 5   Longitude                        39613 non-null  float64\n",
      " 6   Month                            39613 non-null  int64  \n",
      " 7   Other_BA_hectares                39613 non-null  int64  \n",
      " 8   Region                           39613 non-null  object \n",
      " 9   Settlement_BA_hectares           39613 non-null  int64  \n",
      " 10  Total_hectares                   39613 non-null  int64  \n",
      " 11  Wetlands_BA_hectares             39613 non-null  int64  \n",
      " 12  Year                             39613 non-null  int64  \n",
      " 13  location                         39613 non-null  object \n",
      " 14  location_lat                     39613 non-null  float64\n",
      " 15  location_long                    39613 non-null  float64\n",
      " 16  prcp                             29579 non-null  float64\n",
      " 17  pres                             21273 non-null  float64\n",
      " 18  response                         39613 non-null  object \n",
      " 19  tavg                             39613 non-null  float64\n",
      " 20  tmax                             30970 non-null  float64\n",
      " 21  tmin                             29052 non-null  float64\n",
      " 22  tsun                             16438 non-null  float64\n",
      " 23  wspd                             4951 non-null   float64\n",
      "dtypes: float64(11), int64(9), object(4)\n",
      "memory usage: 7.6+ MB\n"
     ]
    }
   ],
   "source": [
    "df_test = df_test[df_test['tavg'].notna()]\n",
    "df_test.info()"
   ]
  },
  {
   "cell_type": "code",
   "execution_count": 51,
   "metadata": {
    "pycharm": {
     "name": "#%%\n"
    }
   },
   "outputs": [],
   "source": [
    "df_test.to_csv('gwis_weather.csv', index = False)"
   ]
  },
  {
   "cell_type": "code",
   "execution_count": 3,
   "metadata": {
    "pycharm": {
     "name": "#%%\n"
    }
   },
   "outputs": [
    {
     "name": "stderr",
     "output_type": "stream",
     "text": [
      "/var/folders/3l/yzh9j02x7bxd463cl1x0_2lh0000gn/T/ipykernel_64631/420518831.py:1: DtypeWarning: Columns (15,16) have mixed types. Specify dtype option on import or set low_memory=False.\n",
      "  df = pd.read_csv(\"GWIS_Wildfire_loc.csv\")\n"
     ]
    }
   ],
   "source": [
    "df = pd.read_csv(\"GWIS_Wildfire_loc.csv\")"
   ]
  },
  {
   "cell_type": "code",
   "execution_count": 4,
   "metadata": {
    "pycharm": {
     "name": "#%%\n"
    }
   },
   "outputs": [
    {
     "name": "stdout",
     "output_type": "stream",
     "text": [
      "<class 'pandas.core.frame.DataFrame'>\n",
      "RangeIndex: 174532 entries, 0 to 174531\n",
      "Data columns (total 17 columns):\n",
      " #   Column                           Non-Null Count   Dtype  \n",
      "---  ------                           --------------   -----  \n",
      " 0   Year                             174532 non-null  int64  \n",
      " 1   Month                            174532 non-null  int64  \n",
      " 2   Country                          174532 non-null  object \n",
      " 3   Region                           174532 non-null  object \n",
      " 4   Cropland_BA_hectares             174532 non-null  int64  \n",
      " 5   Forest_BA_hectares               174532 non-null  int64  \n",
      " 6   Grass_and_Shrubland_BA_hectares  174532 non-null  int64  \n",
      " 7   Wetlands_BA_hectares             174532 non-null  int64  \n",
      " 8   Settlement_BA_hectares           174532 non-null  int64  \n",
      " 9   Other_BA_hectares                174532 non-null  int64  \n",
      " 10  Latitude                         174532 non-null  float64\n",
      " 11  Longitude                        174532 non-null  float64\n",
      " 12  Total_hectares                   174532 non-null  int64  \n",
      " 13  location                         174532 non-null  object \n",
      " 14  response                         169831 non-null  object \n",
      " 15  location_lat                     174532 non-null  object \n",
      " 16  location_long                    174532 non-null  object \n",
      "dtypes: float64(2), int64(9), object(6)\n",
      "memory usage: 22.6+ MB\n"
     ]
    }
   ],
   "source": [
    "df.info()"
   ]
  },
  {
   "cell_type": "code",
   "execution_count": 5,
   "metadata": {
    "pycharm": {
     "name": "#%%\n"
    }
   },
   "outputs": [],
   "source": [
    "df = df[df['location_lat'] != 'NF']"
   ]
  },
  {
   "cell_type": "code",
   "execution_count": 6,
   "metadata": {
    "pycharm": {
     "name": "#%%\n"
    }
   },
   "outputs": [],
   "source": [
    "df.drop('Latitude', inplace=True, axis=1)\n",
    "df.drop('Longitude', inplace=True, axis=1)\n",
    "df.drop('location', inplace=True, axis=1)\n",
    "df.drop('response', inplace=True, axis=1)"
   ]
  },
  {
   "cell_type": "code",
   "execution_count": 6,
   "metadata": {
    "pycharm": {
     "name": "#%%\n"
    }
   },
   "outputs": [
    {
     "name": "stdout",
     "output_type": "stream",
     "text": [
      "<class 'pandas.core.frame.DataFrame'>\n",
      "RangeIndex: 169831 entries, 0 to 169830\n",
      "Data columns (total 13 columns):\n",
      " #   Column                           Non-Null Count   Dtype  \n",
      "---  ------                           --------------   -----  \n",
      " 0   Year                             169831 non-null  int64  \n",
      " 1   Month                            169831 non-null  int64  \n",
      " 2   Country                          169831 non-null  object \n",
      " 3   Region                           169831 non-null  object \n",
      " 4   Cropland_BA_hectares             169831 non-null  int64  \n",
      " 5   Forest_BA_hectares               169831 non-null  int64  \n",
      " 6   Grass_and_Shrubland_BA_hectares  169831 non-null  int64  \n",
      " 7   Wetlands_BA_hectares             169831 non-null  int64  \n",
      " 8   Settlement_BA_hectares           169831 non-null  int64  \n",
      " 9   Other_BA_hectares                169831 non-null  int64  \n",
      " 10  Total_hectares                   169831 non-null  int64  \n",
      " 11  location_lat                     169831 non-null  float64\n",
      " 12  location_long                    169831 non-null  float64\n",
      "dtypes: float64(2), int64(9), object(2)\n",
      "memory usage: 16.8+ MB\n"
     ]
    }
   ],
   "source": [
    "df.info()"
   ]
  },
  {
   "cell_type": "code",
   "execution_count": 14,
   "metadata": {},
   "outputs": [
    {
     "ename": "KeyError",
     "evalue": "'longitude'",
     "output_type": "error",
     "traceback": [
      "\u001b[0;31m---------------------------------------------------------------------------\u001b[0m",
      "\u001b[0;31mKeyError\u001b[0m                                  Traceback (most recent call last)",
      "File \u001b[0;32m~/miniconda3/lib/python3.9/site-packages/pandas/core/indexes/base.py:3621\u001b[0m, in \u001b[0;36mIndex.get_loc\u001b[0;34m(self, key, method, tolerance)\u001b[0m\n\u001b[1;32m   3620\u001b[0m \u001b[38;5;28;01mtry\u001b[39;00m:\n\u001b[0;32m-> 3621\u001b[0m     \u001b[38;5;28;01mreturn\u001b[39;00m \u001b[38;5;28;43mself\u001b[39;49m\u001b[38;5;241;43m.\u001b[39;49m\u001b[43m_engine\u001b[49m\u001b[38;5;241;43m.\u001b[39;49m\u001b[43mget_loc\u001b[49m\u001b[43m(\u001b[49m\u001b[43mcasted_key\u001b[49m\u001b[43m)\u001b[49m\n\u001b[1;32m   3622\u001b[0m \u001b[38;5;28;01mexcept\u001b[39;00m \u001b[38;5;167;01mKeyError\u001b[39;00m \u001b[38;5;28;01mas\u001b[39;00m err:\n",
      "File \u001b[0;32m~/miniconda3/lib/python3.9/site-packages/pandas/_libs/index.pyx:136\u001b[0m, in \u001b[0;36mpandas._libs.index.IndexEngine.get_loc\u001b[0;34m()\u001b[0m\n",
      "File \u001b[0;32m~/miniconda3/lib/python3.9/site-packages/pandas/_libs/index.pyx:163\u001b[0m, in \u001b[0;36mpandas._libs.index.IndexEngine.get_loc\u001b[0;34m()\u001b[0m\n",
      "File \u001b[0;32mpandas/_libs/hashtable_class_helper.pxi:5198\u001b[0m, in \u001b[0;36mpandas._libs.hashtable.PyObjectHashTable.get_item\u001b[0;34m()\u001b[0m\n",
      "File \u001b[0;32mpandas/_libs/hashtable_class_helper.pxi:5206\u001b[0m, in \u001b[0;36mpandas._libs.hashtable.PyObjectHashTable.get_item\u001b[0;34m()\u001b[0m\n",
      "\u001b[0;31mKeyError\u001b[0m: 'longitude'",
      "\nThe above exception was the direct cause of the following exception:\n",
      "\u001b[0;31mKeyError\u001b[0m                                  Traceback (most recent call last)",
      "Input \u001b[0;32mIn [14]\u001b[0m, in \u001b[0;36m<cell line: 11>\u001b[0;34m()\u001b[0m\n\u001b[1;32m      8\u001b[0m     x2,y2 \u001b[38;5;241m=\u001b[39m pyproj\u001b[38;5;241m.\u001b[39mtransform(inProj,outProj,row[\u001b[38;5;124m'\u001b[39m\u001b[38;5;124mlongitude\u001b[39m\u001b[38;5;124m'\u001b[39m],row[\u001b[38;5;124m'\u001b[39m\u001b[38;5;124mlatitude\u001b[39m\u001b[38;5;124m'\u001b[39m])\n\u001b[1;32m      9\u001b[0m     \u001b[38;5;28;01mreturn\u001b[39;00m pd\u001b[38;5;241m.\u001b[39mSeries([x2, y2])\n\u001b[0;32m---> 11\u001b[0m df \u001b[38;5;241m=\u001b[39m df\u001b[38;5;241m.\u001b[39mjoin(\u001b[43mdf\u001b[49m\u001b[38;5;241;43m.\u001b[39;49m\u001b[43mapply\u001b[49m\u001b[43m(\u001b[49m\u001b[43mconvertCoords\u001b[49m\u001b[43m,\u001b[49m\u001b[43m \u001b[49m\u001b[43maxis\u001b[49m\u001b[38;5;241;43m=\u001b[39;49m\u001b[38;5;241;43m1\u001b[39;49m\u001b[43m)\u001b[49m)\n",
      "File \u001b[0;32m~/miniconda3/lib/python3.9/site-packages/pandas/core/frame.py:8833\u001b[0m, in \u001b[0;36mDataFrame.apply\u001b[0;34m(self, func, axis, raw, result_type, args, **kwargs)\u001b[0m\n\u001b[1;32m   8822\u001b[0m \u001b[38;5;28;01mfrom\u001b[39;00m \u001b[38;5;21;01mpandas\u001b[39;00m\u001b[38;5;21;01m.\u001b[39;00m\u001b[38;5;21;01mcore\u001b[39;00m\u001b[38;5;21;01m.\u001b[39;00m\u001b[38;5;21;01mapply\u001b[39;00m \u001b[38;5;28;01mimport\u001b[39;00m frame_apply\n\u001b[1;32m   8824\u001b[0m op \u001b[38;5;241m=\u001b[39m frame_apply(\n\u001b[1;32m   8825\u001b[0m     \u001b[38;5;28mself\u001b[39m,\n\u001b[1;32m   8826\u001b[0m     func\u001b[38;5;241m=\u001b[39mfunc,\n\u001b[0;32m   (...)\u001b[0m\n\u001b[1;32m   8831\u001b[0m     kwargs\u001b[38;5;241m=\u001b[39mkwargs,\n\u001b[1;32m   8832\u001b[0m )\n\u001b[0;32m-> 8833\u001b[0m \u001b[38;5;28;01mreturn\u001b[39;00m \u001b[43mop\u001b[49m\u001b[38;5;241;43m.\u001b[39;49m\u001b[43mapply\u001b[49m\u001b[43m(\u001b[49m\u001b[43m)\u001b[49m\u001b[38;5;241m.\u001b[39m__finalize__(\u001b[38;5;28mself\u001b[39m, method\u001b[38;5;241m=\u001b[39m\u001b[38;5;124m\"\u001b[39m\u001b[38;5;124mapply\u001b[39m\u001b[38;5;124m\"\u001b[39m)\n",
      "File \u001b[0;32m~/miniconda3/lib/python3.9/site-packages/pandas/core/apply.py:727\u001b[0m, in \u001b[0;36mFrameApply.apply\u001b[0;34m(self)\u001b[0m\n\u001b[1;32m    724\u001b[0m \u001b[38;5;28;01melif\u001b[39;00m \u001b[38;5;28mself\u001b[39m\u001b[38;5;241m.\u001b[39mraw:\n\u001b[1;32m    725\u001b[0m     \u001b[38;5;28;01mreturn\u001b[39;00m \u001b[38;5;28mself\u001b[39m\u001b[38;5;241m.\u001b[39mapply_raw()\n\u001b[0;32m--> 727\u001b[0m \u001b[38;5;28;01mreturn\u001b[39;00m \u001b[38;5;28;43mself\u001b[39;49m\u001b[38;5;241;43m.\u001b[39;49m\u001b[43mapply_standard\u001b[49m\u001b[43m(\u001b[49m\u001b[43m)\u001b[49m\n",
      "File \u001b[0;32m~/miniconda3/lib/python3.9/site-packages/pandas/core/apply.py:851\u001b[0m, in \u001b[0;36mFrameApply.apply_standard\u001b[0;34m(self)\u001b[0m\n\u001b[1;32m    850\u001b[0m \u001b[38;5;28;01mdef\u001b[39;00m \u001b[38;5;21mapply_standard\u001b[39m(\u001b[38;5;28mself\u001b[39m):\n\u001b[0;32m--> 851\u001b[0m     results, res_index \u001b[38;5;241m=\u001b[39m \u001b[38;5;28;43mself\u001b[39;49m\u001b[38;5;241;43m.\u001b[39;49m\u001b[43mapply_series_generator\u001b[49m\u001b[43m(\u001b[49m\u001b[43m)\u001b[49m\n\u001b[1;32m    853\u001b[0m     \u001b[38;5;66;03m# wrap results\u001b[39;00m\n\u001b[1;32m    854\u001b[0m     \u001b[38;5;28;01mreturn\u001b[39;00m \u001b[38;5;28mself\u001b[39m\u001b[38;5;241m.\u001b[39mwrap_results(results, res_index)\n",
      "File \u001b[0;32m~/miniconda3/lib/python3.9/site-packages/pandas/core/apply.py:867\u001b[0m, in \u001b[0;36mFrameApply.apply_series_generator\u001b[0;34m(self)\u001b[0m\n\u001b[1;32m    864\u001b[0m \u001b[38;5;28;01mwith\u001b[39;00m option_context(\u001b[38;5;124m\"\u001b[39m\u001b[38;5;124mmode.chained_assignment\u001b[39m\u001b[38;5;124m\"\u001b[39m, \u001b[38;5;28;01mNone\u001b[39;00m):\n\u001b[1;32m    865\u001b[0m     \u001b[38;5;28;01mfor\u001b[39;00m i, v \u001b[38;5;129;01min\u001b[39;00m \u001b[38;5;28menumerate\u001b[39m(series_gen):\n\u001b[1;32m    866\u001b[0m         \u001b[38;5;66;03m# ignore SettingWithCopy here in case the user mutates\u001b[39;00m\n\u001b[0;32m--> 867\u001b[0m         results[i] \u001b[38;5;241m=\u001b[39m \u001b[38;5;28;43mself\u001b[39;49m\u001b[38;5;241;43m.\u001b[39;49m\u001b[43mf\u001b[49m\u001b[43m(\u001b[49m\u001b[43mv\u001b[49m\u001b[43m)\u001b[49m\n\u001b[1;32m    868\u001b[0m         \u001b[38;5;28;01mif\u001b[39;00m \u001b[38;5;28misinstance\u001b[39m(results[i], ABCSeries):\n\u001b[1;32m    869\u001b[0m             \u001b[38;5;66;03m# If we have a view on v, we need to make a copy because\u001b[39;00m\n\u001b[1;32m    870\u001b[0m             \u001b[38;5;66;03m#  series_generator will swap out the underlying data\u001b[39;00m\n\u001b[1;32m    871\u001b[0m             results[i] \u001b[38;5;241m=\u001b[39m results[i]\u001b[38;5;241m.\u001b[39mcopy(deep\u001b[38;5;241m=\u001b[39m\u001b[38;5;28;01mFalse\u001b[39;00m)\n",
      "Input \u001b[0;32mIn [14]\u001b[0m, in \u001b[0;36mconvertCoords\u001b[0;34m(row)\u001b[0m\n\u001b[1;32m      7\u001b[0m \u001b[38;5;28;01mdef\u001b[39;00m \u001b[38;5;21mconvertCoords\u001b[39m(row):\n\u001b[0;32m----> 8\u001b[0m     x2,y2 \u001b[38;5;241m=\u001b[39m pyproj\u001b[38;5;241m.\u001b[39mtransform(inProj,outProj,\u001b[43mrow\u001b[49m\u001b[43m[\u001b[49m\u001b[38;5;124;43m'\u001b[39;49m\u001b[38;5;124;43mlongitude\u001b[39;49m\u001b[38;5;124;43m'\u001b[39;49m\u001b[43m]\u001b[49m,row[\u001b[38;5;124m'\u001b[39m\u001b[38;5;124mlatitude\u001b[39m\u001b[38;5;124m'\u001b[39m])\n\u001b[1;32m      9\u001b[0m     \u001b[38;5;28;01mreturn\u001b[39;00m pd\u001b[38;5;241m.\u001b[39mSeries([x2, y2])\n",
      "File \u001b[0;32m~/miniconda3/lib/python3.9/site-packages/pandas/core/series.py:958\u001b[0m, in \u001b[0;36mSeries.__getitem__\u001b[0;34m(self, key)\u001b[0m\n\u001b[1;32m    955\u001b[0m     \u001b[38;5;28;01mreturn\u001b[39;00m \u001b[38;5;28mself\u001b[39m\u001b[38;5;241m.\u001b[39m_values[key]\n\u001b[1;32m    957\u001b[0m \u001b[38;5;28;01melif\u001b[39;00m key_is_scalar:\n\u001b[0;32m--> 958\u001b[0m     \u001b[38;5;28;01mreturn\u001b[39;00m \u001b[38;5;28;43mself\u001b[39;49m\u001b[38;5;241;43m.\u001b[39;49m\u001b[43m_get_value\u001b[49m\u001b[43m(\u001b[49m\u001b[43mkey\u001b[49m\u001b[43m)\u001b[49m\n\u001b[1;32m    960\u001b[0m \u001b[38;5;28;01mif\u001b[39;00m is_hashable(key):\n\u001b[1;32m    961\u001b[0m     \u001b[38;5;66;03m# Otherwise index.get_value will raise InvalidIndexError\u001b[39;00m\n\u001b[1;32m    962\u001b[0m     \u001b[38;5;28;01mtry\u001b[39;00m:\n\u001b[1;32m    963\u001b[0m         \u001b[38;5;66;03m# For labels that don't resolve as scalars like tuples and frozensets\u001b[39;00m\n",
      "File \u001b[0;32m~/miniconda3/lib/python3.9/site-packages/pandas/core/series.py:1069\u001b[0m, in \u001b[0;36mSeries._get_value\u001b[0;34m(self, label, takeable)\u001b[0m\n\u001b[1;32m   1066\u001b[0m     \u001b[38;5;28;01mreturn\u001b[39;00m \u001b[38;5;28mself\u001b[39m\u001b[38;5;241m.\u001b[39m_values[label]\n\u001b[1;32m   1068\u001b[0m \u001b[38;5;66;03m# Similar to Index.get_value, but we do not fall back to positional\u001b[39;00m\n\u001b[0;32m-> 1069\u001b[0m loc \u001b[38;5;241m=\u001b[39m \u001b[38;5;28;43mself\u001b[39;49m\u001b[38;5;241;43m.\u001b[39;49m\u001b[43mindex\u001b[49m\u001b[38;5;241;43m.\u001b[39;49m\u001b[43mget_loc\u001b[49m\u001b[43m(\u001b[49m\u001b[43mlabel\u001b[49m\u001b[43m)\u001b[49m\n\u001b[1;32m   1070\u001b[0m \u001b[38;5;28;01mreturn\u001b[39;00m \u001b[38;5;28mself\u001b[39m\u001b[38;5;241m.\u001b[39mindex\u001b[38;5;241m.\u001b[39m_get_values_for_loc(\u001b[38;5;28mself\u001b[39m, loc, label)\n",
      "File \u001b[0;32m~/miniconda3/lib/python3.9/site-packages/pandas/core/indexes/base.py:3623\u001b[0m, in \u001b[0;36mIndex.get_loc\u001b[0;34m(self, key, method, tolerance)\u001b[0m\n\u001b[1;32m   3621\u001b[0m     \u001b[38;5;28;01mreturn\u001b[39;00m \u001b[38;5;28mself\u001b[39m\u001b[38;5;241m.\u001b[39m_engine\u001b[38;5;241m.\u001b[39mget_loc(casted_key)\n\u001b[1;32m   3622\u001b[0m \u001b[38;5;28;01mexcept\u001b[39;00m \u001b[38;5;167;01mKeyError\u001b[39;00m \u001b[38;5;28;01mas\u001b[39;00m err:\n\u001b[0;32m-> 3623\u001b[0m     \u001b[38;5;28;01mraise\u001b[39;00m \u001b[38;5;167;01mKeyError\u001b[39;00m(key) \u001b[38;5;28;01mfrom\u001b[39;00m \u001b[38;5;21;01merr\u001b[39;00m\n\u001b[1;32m   3624\u001b[0m \u001b[38;5;28;01mexcept\u001b[39;00m \u001b[38;5;167;01mTypeError\u001b[39;00m:\n\u001b[1;32m   3625\u001b[0m     \u001b[38;5;66;03m# If we have a listlike key, _check_indexing_error will raise\u001b[39;00m\n\u001b[1;32m   3626\u001b[0m     \u001b[38;5;66;03m#  InvalidIndexError. Otherwise we fall through and re-raise\u001b[39;00m\n\u001b[1;32m   3627\u001b[0m     \u001b[38;5;66;03m#  the TypeError.\u001b[39;00m\n\u001b[1;32m   3628\u001b[0m     \u001b[38;5;28mself\u001b[39m\u001b[38;5;241m.\u001b[39m_check_indexing_error(key)\n",
      "\u001b[0;31mKeyError\u001b[0m: 'longitude'"
     ]
    }
   ],
   "source": [
    "from pyproj import Proj, transform\n",
    "import pyproj\n",
    "\n",
    "inProj = Proj('epsg:4326')\n",
    "outProj = Proj('epsg:3857')\n",
    "\n",
    "def convertCoords(row):\n",
    "    x2,y2 = pyproj.transform(inProj,outProj,row['location_long'],row['location_lat'])\n",
    "    return pd.Series([x2, y2])\n",
    "\n",
    "df = df.join(df.apply(convertCoords, axis=1))"
   ]
  },
  {
   "cell_type": "code",
   "execution_count": 8,
   "metadata": {},
   "outputs": [
    {
     "data": {
      "text/html": [
       "<div>\n",
       "<style scoped>\n",
       "    .dataframe tbody tr th:only-of-type {\n",
       "        vertical-align: middle;\n",
       "    }\n",
       "\n",
       "    .dataframe tbody tr th {\n",
       "        vertical-align: top;\n",
       "    }\n",
       "\n",
       "    .dataframe thead th {\n",
       "        text-align: right;\n",
       "    }\n",
       "</style>\n",
       "<table border=\"1\" class=\"dataframe\">\n",
       "  <thead>\n",
       "    <tr style=\"text-align: right;\">\n",
       "      <th></th>\n",
       "      <th>Year</th>\n",
       "      <th>Month</th>\n",
       "      <th>Country</th>\n",
       "      <th>Region</th>\n",
       "      <th>Cropland_BA_hectares</th>\n",
       "      <th>Forest_BA_hectares</th>\n",
       "      <th>Grass_and_Shrubland_BA_hectares</th>\n",
       "      <th>Wetlands_BA_hectares</th>\n",
       "      <th>Settlement_BA_hectares</th>\n",
       "      <th>Other_BA_hectares</th>\n",
       "      <th>Total_hectares</th>\n",
       "      <th>location_lat</th>\n",
       "      <th>location_long</th>\n",
       "    </tr>\n",
       "  </thead>\n",
       "  <tbody>\n",
       "    <tr>\n",
       "      <th>0</th>\n",
       "      <td>2002</td>\n",
       "      <td>3</td>\n",
       "      <td>Afghanistan</td>\n",
       "      <td>Balkh</td>\n",
       "      <td>129</td>\n",
       "      <td>0</td>\n",
       "      <td>0</td>\n",
       "      <td>0</td>\n",
       "      <td>0</td>\n",
       "      <td>0</td>\n",
       "      <td>129</td>\n",
       "      <td>7.447060e+06</td>\n",
       "      <td>4.405446e+06</td>\n",
       "    </tr>\n",
       "    <tr>\n",
       "      <th>1</th>\n",
       "      <td>2002</td>\n",
       "      <td>8</td>\n",
       "      <td>Afghanistan</td>\n",
       "      <td>Badghis</td>\n",
       "      <td>0</td>\n",
       "      <td>0</td>\n",
       "      <td>64</td>\n",
       "      <td>0</td>\n",
       "      <td>0</td>\n",
       "      <td>365</td>\n",
       "      <td>429</td>\n",
       "      <td>7.096618e+06</td>\n",
       "      <td>4.163881e+06</td>\n",
       "    </tr>\n",
       "    <tr>\n",
       "      <th>2</th>\n",
       "      <td>2002</td>\n",
       "      <td>8</td>\n",
       "      <td>Afghanistan</td>\n",
       "      <td>Faryab</td>\n",
       "      <td>129</td>\n",
       "      <td>0</td>\n",
       "      <td>14618</td>\n",
       "      <td>0</td>\n",
       "      <td>0</td>\n",
       "      <td>16786</td>\n",
       "      <td>31533</td>\n",
       "      <td>7.193886e+06</td>\n",
       "      <td>4.290468e+06</td>\n",
       "    </tr>\n",
       "    <tr>\n",
       "      <th>3</th>\n",
       "      <td>2002</td>\n",
       "      <td>8</td>\n",
       "      <td>Afghanistan</td>\n",
       "      <td>Hirat</td>\n",
       "      <td>0</td>\n",
       "      <td>0</td>\n",
       "      <td>64</td>\n",
       "      <td>0</td>\n",
       "      <td>0</td>\n",
       "      <td>86</td>\n",
       "      <td>150</td>\n",
       "      <td>6.925898e+06</td>\n",
       "      <td>4.076007e+06</td>\n",
       "    </tr>\n",
       "    <tr>\n",
       "      <th>4</th>\n",
       "      <td>2003</td>\n",
       "      <td>1</td>\n",
       "      <td>Afghanistan</td>\n",
       "      <td>Jawzjan</td>\n",
       "      <td>644</td>\n",
       "      <td>0</td>\n",
       "      <td>107</td>\n",
       "      <td>322</td>\n",
       "      <td>0</td>\n",
       "      <td>21</td>\n",
       "      <td>1094</td>\n",
       "      <td>7.342191e+06</td>\n",
       "      <td>4.434448e+06</td>\n",
       "    </tr>\n",
       "  </tbody>\n",
       "</table>\n",
       "</div>"
      ],
      "text/plain": [
       "   Year  Month      Country   Region  Cropland_BA_hectares  \\\n",
       "0  2002      3  Afghanistan    Balkh                   129   \n",
       "1  2002      8  Afghanistan  Badghis                     0   \n",
       "2  2002      8  Afghanistan   Faryab                   129   \n",
       "3  2002      8  Afghanistan    Hirat                     0   \n",
       "4  2003      1  Afghanistan  Jawzjan                   644   \n",
       "\n",
       "   Forest_BA_hectares  Grass_and_Shrubland_BA_hectares  Wetlands_BA_hectares  \\\n",
       "0                   0                                0                     0   \n",
       "1                   0                               64                     0   \n",
       "2                   0                            14618                     0   \n",
       "3                   0                               64                     0   \n",
       "4                   0                              107                   322   \n",
       "\n",
       "   Settlement_BA_hectares  Other_BA_hectares  Total_hectares  location_lat  \\\n",
       "0                       0                  0             129  7.447060e+06   \n",
       "1                       0                365             429  7.096618e+06   \n",
       "2                       0              16786           31533  7.193886e+06   \n",
       "3                       0                 86             150  6.925898e+06   \n",
       "4                       0                 21            1094  7.342191e+06   \n",
       "\n",
       "   location_long  \n",
       "0   4.405446e+06  \n",
       "1   4.163881e+06  \n",
       "2   4.290468e+06  \n",
       "3   4.076007e+06  \n",
       "4   4.434448e+06  "
      ]
     },
     "execution_count": 8,
     "metadata": {},
     "output_type": "execute_result"
    }
   ],
   "source": [
    "df.head()"
   ]
  },
  {
   "cell_type": "code",
   "execution_count": 9,
   "metadata": {
    "pycharm": {
     "name": "#%%\n"
    }
   },
   "outputs": [],
   "source": [
    "df.to_csv('Global_Wildfire_GWIS_new.csv', index = False)"
   ]
  }
 ],
 "metadata": {
  "kernelspec": {
   "display_name": "Python 3 (ipykernel)",
   "language": "python",
   "name": "python3"
  },
  "language_info": {
   "codemirror_mode": {
    "name": "ipython",
    "version": 3
   },
   "file_extension": ".py",
   "mimetype": "text/x-python",
   "name": "python",
   "nbconvert_exporter": "python",
   "pygments_lexer": "ipython3",
   "version": "3.9.7"
  }
 },
 "nbformat": 4,
 "nbformat_minor": 1
}
