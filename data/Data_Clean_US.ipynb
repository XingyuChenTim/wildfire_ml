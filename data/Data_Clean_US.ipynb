{
 "cells": [
  {
   "cell_type": "code",
   "execution_count": 2,
   "metadata": {
    "pycharm": {
     "name": "#%%\n"
    }
   },
   "outputs": [
    {
     "ename": "SyntaxError",
     "evalue": "invalid syntax (3095011831.py, line 2)",
     "output_type": "error",
     "traceback": [
      "\u001B[0;36m  Input \u001B[0;32mIn [2]\u001B[0;36m\u001B[0m\n\u001B[0;31m    The 2021-2022 Boulder County fires (Marshall Fire) is reported on 30 December 2021 and ended on January 1, 2022. The wildfire has destroyed 1,084 Buildings and burned 6,026 acres. The damage and lost for our Boulder community, accompanied by Middle Fork Fire, demand our attention.\u001B[0m\n\u001B[0m        ^\u001B[0m\n\u001B[0;31mSyntaxError\u001B[0m\u001B[0;31m:\u001B[0m invalid syntax\n"
     ]
    }
   ],
   "source": [
    "## 1. Motivation\n",
    "The 2021-2022 Boulder County fires (Marshall Fire) is reported on 30 December 2021 and ended on January 1, 2022. The wildfire has destroyed 1,084 Buildings and burned 6,026 acres. The damage and lost for our Boulder community, accompanied by Middle Fork Fire, demand our attention.\n",
    "\n",
    "The general motivatio\n",
    "n of building data model for this project is to do exploratory data analysis on the history of wildfires in the U.S., see how they’ve changed over time and build a data model to predict the cause of a wildfire based on location, time, and etc."
   ]
  },
  {
   "cell_type": "code",
   "execution_count": 4,
   "metadata": {
    "pycharm": {
     "name": "#%%\n"
    }
   },
   "outputs": [],
   "source": [
    "# Load required library for project\n",
    "import pandas as pd\n",
    "import numpy as np\n",
    "import matplotlib.pyplot as plt\n",
    "import seaborn as sns\n",
    "from sklearn import preprocessing\n",
    "from sklearn.preprocessing import StandardScaler\n",
    "from sklearn.model_selection import train_test_split\n",
    "from sklearn.ensemble import RandomForestClassifier\n",
    "from sklearn import metrics\n",
    "import sqlite3\n",
    "\n"
   ]
  },
  {
   "cell_type": "markdown",
   "metadata": {
    "pycharm": {
     "name": "#%% md\n"
    }
   },
   "source": [
    "## 2. Data Resource and Explanation of Variables\n",
    "The dataset used for this report was found via the US Department of Agriculture. It provides information on 2,166,753 wildfires in the U.S. from 1992-2018, with a variety of information including spacial, cause, size, discovery/containment dates and different classifications.  \n",
    "\n",
    "Thanks to [**U.S. DEPARTMENT OF AGRICULTURE**](https://www.fs.usda.gov/rds/archive/Catalog/RDS-2013-0009.5) for providing the dataset.\n",
    "\n",
    "The data for this project was obtained via the websites mentioned above and compiled into one sqlite file to be read into jupiter notebook.\n",
    "\n",
    "The description for each variable inside the dataset can be found a dataset published on the [**Kaggle** dataset website](https://www.kaggle.com/rtatman/188-million-us-wildfires). This website provides the yearly wildfire data for the United States."
   ]
  },
  {
   "cell_type": "code",
   "execution_count": null,
   "metadata": {
    "pycharm": {
     "name": "#%%\n"
    }
   },
   "outputs": [],
   "source": [
    "# Read sqlite query results into a pandas DataFrame\n",
    "con = sqlite3.connect(\"FPA_FOD_20210617.sqlite\")\n",
    "df = pd.read_sql_query(\"SELECT NWCG_GENERAL_CAUSE, FIRE_SIZE, DISCOVERY_DATE, STATE, \"\n",
    "                       \"FIPS_CODE, FIPS_NAME, LATITUDE, LONGITUDE, \"\n",
    "                       \"FIRE_SIZE_CLASS, CONT_DATE, FIRE_YEAR, FIRE_NAME, \"\n",
    "                       \"NWCG_REPORTING_UNIT_NAME FROM Fires\", con)\n",
    "con.close()\n",
    "print(df.info())"
   ]
  },
  {
   "cell_type": "code",
   "execution_count": null,
   "metadata": {
    "pycharm": {
     "name": "#%%\n"
    }
   },
   "outputs": [],
   "source": [
    "# Filter useless cause\n",
    "df = df[df['NWCG_GENERAL_CAUSE'] != 'Missing data/not specified/undetermined']\n",
    "df = df[df['NWCG_GENERAL_CAUSE'] != 'Other causes']"
   ]
  },
  {
   "cell_type": "code",
   "execution_count": null,
   "metadata": {
    "pycharm": {
     "name": "#%%\n"
    }
   },
   "outputs": [],
   "source": [
    "df.head()"
   ]
  },
  {
   "cell_type": "code",
   "execution_count": null,
   "metadata": {
    "pycharm": {
     "name": "#%%\n"
    }
   },
   "outputs": [],
   "source": [
    "from datetime import datetime\n",
    "import matplotlib.pyplot as plt\n",
    "from meteostat import Point, Daily, Monthly\n",
    "import pandas as pd"
   ]
  },
  {
   "cell_type": "code",
   "execution_count": null,
   "metadata": {
    "pycharm": {
     "name": "#%%\n"
    }
   },
   "outputs": [],
   "source": [
    "df_test = df"
   ]
  },
  {
   "cell_type": "code",
   "execution_count": null,
   "metadata": {
    "pycharm": {
     "name": "#%%\n"
    }
   },
   "outputs": [],
   "source": [
    "df_test['DISCOVERY_DATE'] = pd.to_datetime(df_test['DISCOVERY_DATE'])\n",
    "df_test['month'] = df_test['DISCOVERY_DATE'].dt.month\n",
    "df_test['day'] = df_test['DISCOVERY_DATE'].dt.day\n",
    "df_test['year'] = df_test['DISCOVERY_DATE'].dt.year\n"
   ]
  },
  {
   "cell_type": "code",
   "execution_count": null,
   "metadata": {
    "pycharm": {
     "name": "#%%\n"
    }
   },
   "outputs": [],
   "source": [
    "df_test.info()"
   ]
  },
  {
   "cell_type": "code",
   "execution_count": null,
   "metadata": {
    "pycharm": {
     "name": "#%%\n"
    }
   },
   "outputs": [],
   "source": [
    "def getweather(s): \n",
    "    month = s['month']\n",
    "    day = s['day']\n",
    "    year = s['year']\n",
    "    lat = s['LATITUDE']\n",
    "    lon = s['LONGITUDE']\n",
    "    \n",
    "    start = datetime(year, month, day)\n",
    "    end = datetime(year, month, day)\n",
    "    location = Point(lat, lon)\n",
    "    data = Daily(location, start, end)\n",
    "    data = data.fetch()\n",
    "    \n",
    "    if not data.empty :\n",
    "        s['tavg'] = data['tavg'].values[0].tolist()\n",
    "        s['tmin'] = data.tmin.values[0].tolist()\n",
    "        s['tmax'] = data.tmax.values[0].tolist()\n",
    "        s['prcp'] = data.prcp.values[0].tolist()\n",
    "        s['snow'] = data.snow.values[0].tolist()\n",
    "        s['wdir'] = data.wdir.values[0].tolist()\n",
    "        s['wspd'] = data.wspd.values[0].tolist()\n",
    "        s['wpgt'] = data.wpgt.values[0].tolist()\n",
    "        s['pres'] = data.pres.values[0].tolist()\n",
    "        s['tsun'] = data.tsun.values[0].tolist()\n",
    "    return s"
   ]
  },
  {
   "cell_type": "code",
   "execution_count": null,
   "metadata": {
    "pycharm": {
     "name": "#%%\n"
    }
   },
   "outputs": [],
   "source": [
    "%%time\n",
    "import warnings\n",
    "warnings.filterwarnings(\"ignore\")\n",
    "warnings.simplefilter(action='ignore', category=FutureWarning)\n",
    "\n",
    "#df_test['response'] = df_test.apply(lambda x: getweather(x.month, x.day, x.year, x.LATITUDE, x.LONGITUDE), axis=1)\n",
    "from tqdm import tqdm\n",
    "tqdm.pandas()\n",
    "pd.options.mode.chained_assignment = None\n",
    "\n",
    "df_test = df_test.progress_apply(getweather, axis=1)"
   ]
  },
  {
   "cell_type": "code",
   "execution_count": null,
   "metadata": {
    "pycharm": {
     "name": "#%%\n"
    }
   },
   "outputs": [],
   "source": [
    "df_test = df_test[df_test['tavg'].notna()]\n",
    "df_test.info()"
   ]
  },
  {
   "cell_type": "code",
   "execution_count": null,
   "metadata": {
    "pycharm": {
     "name": "#%%\n"
    }
   },
   "outputs": [],
   "source": [
    "df_test.to_csv('us_weather.csv', index = False)"
   ]
  },
  {
   "cell_type": "code",
   "execution_count": null,
   "metadata": {
    "pycharm": {
     "name": "#%%\n"
    }
   },
   "outputs": [],
   "source": [
    "df_test.drop('wpgt', inplace=True, axis = 1)\n",
    "df_test.drop('tsun', inplace=True, axis = 1)\n",
    "df_test.drop('snow', inplace=True, axis = 1)\n",
    "df_test.drop('wdir', inplace=True, axis = 1)"
   ]
  },
  {
   "cell_type": "code",
   "execution_count": null,
   "metadata": {
    "pycharm": {
     "name": "#%%\n"
    }
   },
   "outputs": [],
   "source": [
    "df_test.info()"
   ]
  },
  {
   "cell_type": "code",
   "execution_count": null,
   "metadata": {
    "pycharm": {
     "name": "#%%\n"
    }
   },
   "outputs": [],
   "source": [
    "df_ml = df_test"
   ]
  },
  {
   "cell_type": "code",
   "execution_count": null,
   "metadata": {
    "pycharm": {
     "name": "#%%\n"
    }
   },
   "outputs": [],
   "source": [
    "df_ml.info()"
   ]
  },
  {
   "cell_type": "code",
   "execution_count": null,
   "metadata": {
    "pycharm": {
     "name": "#%%\n"
    }
   },
   "outputs": [],
   "source": [
    "df_ml.drop('NWCG_REPORTING_UNIT_NAME', inplace=True, axis = 1)\n",
    "df_ml.drop('FIRE_SIZE_CLASS', inplace=True, axis = 1)\n",
    "df_ml.drop('FIRE_NAME', inplace=True, axis = 1)\n",
    "df_ml.drop('FIRE_YEAR', inplace=True, axis = 1)"
   ]
  },
  {
   "cell_type": "code",
   "execution_count": null,
   "metadata": {
    "pycharm": {
     "name": "#%%\n"
    }
   },
   "outputs": [],
   "source": [
    "df_ml.head()"
   ]
  },
  {
   "cell_type": "code",
   "execution_count": null,
   "metadata": {
    "pycharm": {
     "name": "#%%\n"
    }
   },
   "outputs": [],
   "source": [
    "df_ml.drop('FIPS_NAME', inplace=True, axis = 1)\n",
    "df_ml.drop('FIPS_CODE', inplace=True, axis = 1)"
   ]
  },
  {
   "cell_type": "code",
   "execution_count": null,
   "metadata": {
    "pycharm": {
     "name": "#%%\n"
    }
   },
   "outputs": [],
   "source": [
    "df_ml.drop('CONT_DATE', inplace=True, axis = 1)\n",
    "df_ml.drop('DISCOVERY_DATE', inplace=True, axis = 1)"
   ]
  },
  {
   "cell_type": "code",
   "execution_count": null,
   "metadata": {
    "pycharm": {
     "name": "#%%\n"
    }
   },
   "outputs": [],
   "source": [
    "df_ml.head()"
   ]
  },
  {
   "cell_type": "code",
   "execution_count": null,
   "metadata": {
    "pycharm": {
     "name": "#%%\n"
    }
   },
   "outputs": [],
   "source": [
    "df_ml = df_ml[df_ml['FIRE_SIZE'] < 100]"
   ]
  },
  {
   "cell_type": "code",
   "execution_count": null,
   "metadata": {
    "pycharm": {
     "name": "#%%\n"
    }
   },
   "outputs": [],
   "source": [
    "df_ml.info()"
   ]
  },
  {
   "cell_type": "code",
   "execution_count": null,
   "metadata": {
    "pycharm": {
     "name": "#%%\n"
    }
   },
   "outputs": [],
   "source": [
    "df_ml.drop('year', inplace=True, axis = 1)"
   ]
  },
  {
   "cell_type": "code",
   "execution_count": null,
   "metadata": {
    "pycharm": {
     "name": "#%%\n"
    }
   },
   "outputs": [],
   "source": [
    "tem = df_ml.dropna()\n",
    "tem.info()"
   ]
  },
  {
   "cell_type": "code",
   "execution_count": null,
   "metadata": {
    "pycharm": {
     "name": "#%%\n"
    }
   },
   "outputs": [],
   "source": [
    "tem.to_csv('tem_weather.csv', index = False)"
   ]
  },
  {
   "cell_type": "code",
   "execution_count": 19,
   "metadata": {
    "pycharm": {
     "name": "#%%\n"
    }
   },
   "outputs": [],
   "source": [
    "df_test = df"
   ]
  },
  {
   "cell_type": "code",
   "execution_count": 20,
   "metadata": {
    "pycharm": {
     "name": "#%%\n"
    }
   },
   "outputs": [],
   "source": [
    "df_test['DISCOVERY_DATE'] = pd.to_datetime(df_test['DISCOVERY_DATE'])\n",
    "df_test['month'] = df_test['DISCOVERY_DATE'].dt.month\n",
    "df_test['day'] = df_test['DISCOVERY_DATE'].dt.day\n",
    "df_test['year'] = df_test['DISCOVERY_DATE'].dt.year\n"
   ]
  },
  {
   "cell_type": "code",
   "execution_count": 21,
   "metadata": {
    "pycharm": {
     "name": "#%%\n"
    }
   },
   "outputs": [
    {
     "name": "stdout",
     "output_type": "stream",
     "text": [
      "<class 'pandas.core.frame.DataFrame'>\n",
      "Int64Index: 1609552 entries, 0 to 2166726\n",
      "Data columns (total 16 columns):\n",
      " #   Column                    Non-Null Count    Dtype         \n",
      "---  ------                    --------------    -----         \n",
      " 0   NWCG_GENERAL_CAUSE        1609552 non-null  object        \n",
      " 1   FIRE_SIZE                 1609552 non-null  float64       \n",
      " 2   DISCOVERY_DATE            1609552 non-null  datetime64[ns]\n",
      " 3   STATE                     1609552 non-null  object        \n",
      " 4   FIPS_CODE                 1092313 non-null  object        \n",
      " 5   FIPS_NAME                 1092312 non-null  object        \n",
      " 6   LATITUDE                  1609552 non-null  float64       \n",
      " 7   LONGITUDE                 1609552 non-null  float64       \n",
      " 8   FIRE_SIZE_CLASS           1609552 non-null  object        \n",
      " 9   CONT_DATE                 1014951 non-null  object        \n",
      " 10  FIRE_YEAR                 1609552 non-null  int64         \n",
      " 11  FIRE_NAME                 940703 non-null   object        \n",
      " 12  NWCG_REPORTING_UNIT_NAME  1609552 non-null  object        \n",
      " 13  month                     1609552 non-null  int64         \n",
      " 14  day                       1609552 non-null  int64         \n",
      " 15  year                      1609552 non-null  int64         \n",
      "dtypes: datetime64[ns](1), float64(3), int64(4), object(8)\n",
      "memory usage: 208.8+ MB\n"
     ]
    }
   ],
   "source": [
    "df_test.info()"
   ]
  },
  {
   "cell_type": "code",
   "execution_count": 22,
   "metadata": {
    "pycharm": {
     "name": "#%%\n"
    }
   },
   "outputs": [],
   "source": [
    "def getweather(s): \n",
    "    month = s['month']\n",
    "    day = s['day']\n",
    "    year = s['year']\n",
    "    lat = s['LATITUDE']\n",
    "    lon = s['LONGITUDE']\n",
    "    \n",
    "    start = datetime(year, month, day)\n",
    "    end = datetime(year, month, day)\n",
    "    location = Point(lat, lon)\n",
    "    data = Daily(location, start, end)\n",
    "    data = data.fetch()\n",
    "    \n",
    "    if not data.empty :\n",
    "        s['tavg'] = data['tavg'].values[0].tolist()\n",
    "        s['tmin'] = data.tmin.values[0].tolist()\n",
    "        s['tmax'] = data.tmax.values[0].tolist()\n",
    "        s['prcp'] = data.prcp.values[0].tolist()\n",
    "        s['snow'] = data.snow.values[0].tolist()\n",
    "        s['wdir'] = data.wdir.values[0].tolist()\n",
    "        s['wspd'] = data.wspd.values[0].tolist()\n",
    "        s['wpgt'] = data.wpgt.values[0].tolist()\n",
    "        s['pres'] = data.pres.values[0].tolist()\n",
    "        s['tsun'] = data.tsun.values[0].tolist()\n",
    "    return s"
   ]
  },
  {
   "cell_type": "code",
   "execution_count": 23,
   "metadata": {
    "pycharm": {
     "name": "#%%\n"
    }
   },
   "outputs": [
    {
     "name": "stderr",
     "output_type": "stream",
     "text": [
      "100%|██████████| 1609552/1609552 [35:29:26<00:00, 12.60it/s]    "
     ]
    },
    {
     "name": "stdout",
     "output_type": "stream",
     "text": [
      "Wall time: 1d 11h 29min 26s\n"
     ]
    },
    {
     "name": "stderr",
     "output_type": "stream",
     "text": [
      "\n"
     ]
    }
   ],
   "source": [
    "%%time\n",
    "import warnings\n",
    "warnings.filterwarnings(\"ignore\")\n",
    "warnings.simplefilter(action='ignore', category=FutureWarning)\n",
    "\n",
    "#df_test['response'] = df_test.apply(lambda x: getweather(x.month, x.day, x.year, x.LATITUDE, x.LONGITUDE), axis=1)\n",
    "from tqdm import tqdm\n",
    "tqdm.pandas()\n",
    "pd.options.mode.chained_assignment = None\n",
    "\n",
    "df_test = df_test.progress_apply(getweather, axis=1)"
   ]
  },
  {
   "cell_type": "code",
   "execution_count": 24,
   "metadata": {
    "pycharm": {
     "name": "#%%\n"
    }
   },
   "outputs": [
    {
     "name": "stdout",
     "output_type": "stream",
     "text": [
      "<class 'pandas.core.frame.DataFrame'>\n",
      "Int64Index: 582976 entries, 5 to 2166726\n",
      "Data columns (total 26 columns):\n",
      " #   Column                    Non-Null Count   Dtype         \n",
      "---  ------                    --------------   -----         \n",
      " 0   CONT_DATE                 361911 non-null  object        \n",
      " 1   DISCOVERY_DATE            582976 non-null  datetime64[ns]\n",
      " 2   FIPS_CODE                 472186 non-null  object        \n",
      " 3   FIPS_NAME                 472186 non-null  object        \n",
      " 4   FIRE_NAME                 349320 non-null  object        \n",
      " 5   FIRE_SIZE                 582976 non-null  float64       \n",
      " 6   FIRE_SIZE_CLASS           582976 non-null  object        \n",
      " 7   FIRE_YEAR                 582976 non-null  int64         \n",
      " 8   LATITUDE                  582976 non-null  float64       \n",
      " 9   LONGITUDE                 582976 non-null  float64       \n",
      " 10  NWCG_GENERAL_CAUSE        582976 non-null  object        \n",
      " 11  NWCG_REPORTING_UNIT_NAME  582976 non-null  object        \n",
      " 12  STATE                     582976 non-null  object        \n",
      " 13  day                       582976 non-null  int64         \n",
      " 14  month                     582976 non-null  int64         \n",
      " 15  prcp                      381246 non-null  float64       \n",
      " 16  pres                      409825 non-null  float64       \n",
      " 17  snow                      165114 non-null  float64       \n",
      " 18  tavg                      582976 non-null  float64       \n",
      " 19  tmax                      582023 non-null  float64       \n",
      " 20  tmin                      582057 non-null  float64       \n",
      " 21  tsun                      49832 non-null   float64       \n",
      " 22  wdir                      128167 non-null  float64       \n",
      " 23  wpgt                      23217 non-null   float64       \n",
      " 24  wspd                      569688 non-null  float64       \n",
      " 25  year                      582976 non-null  int64         \n",
      "dtypes: datetime64[ns](1), float64(13), int64(4), object(8)\n",
      "memory usage: 120.1+ MB\n"
     ]
    }
   ],
   "source": [
    "df_test = df_test[df_test['tavg'].notna()]\n",
    "df_test.info()"
   ]
  },
  {
   "cell_type": "code",
   "execution_count": 30,
   "metadata": {
    "pycharm": {
     "name": "#%%\n"
    }
   },
   "outputs": [],
   "source": [
    "df_test.to_csv('us_weather.csv', index = False)"
   ]
  },
  {
   "cell_type": "code",
   "execution_count": 26,
   "metadata": {
    "pycharm": {
     "name": "#%%\n"
    }
   },
   "outputs": [],
   "source": [
    "df_test.drop('wpgt', inplace=True, axis = 1)\n",
    "df_test.drop('tsun', inplace=True, axis = 1)\n",
    "df_test.drop('snow', inplace=True, axis = 1)\n",
    "df_test.drop('wdir', inplace=True, axis = 1)"
   ]
  },
  {
   "cell_type": "code",
   "execution_count": 29,
   "metadata": {
    "pycharm": {
     "name": "#%%\n"
    }
   },
   "outputs": [
    {
     "name": "stdout",
     "output_type": "stream",
     "text": [
      "<class 'pandas.core.frame.DataFrame'>\n",
      "Int64Index: 582976 entries, 5 to 2166726\n",
      "Data columns (total 22 columns):\n",
      " #   Column                    Non-Null Count   Dtype         \n",
      "---  ------                    --------------   -----         \n",
      " 0   CONT_DATE                 361911 non-null  object        \n",
      " 1   DISCOVERY_DATE            582976 non-null  datetime64[ns]\n",
      " 2   FIPS_CODE                 472186 non-null  object        \n",
      " 3   FIPS_NAME                 472186 non-null  object        \n",
      " 4   FIRE_NAME                 349320 non-null  object        \n",
      " 5   FIRE_SIZE                 582976 non-null  float64       \n",
      " 6   FIRE_SIZE_CLASS           582976 non-null  object        \n",
      " 7   FIRE_YEAR                 582976 non-null  int64         \n",
      " 8   LATITUDE                  582976 non-null  float64       \n",
      " 9   LONGITUDE                 582976 non-null  float64       \n",
      " 10  NWCG_GENERAL_CAUSE        582976 non-null  object        \n",
      " 11  NWCG_REPORTING_UNIT_NAME  582976 non-null  object        \n",
      " 12  STATE                     582976 non-null  object        \n",
      " 13  day                       582976 non-null  int64         \n",
      " 14  month                     582976 non-null  int64         \n",
      " 15  prcp                      381246 non-null  float64       \n",
      " 16  pres                      409825 non-null  float64       \n",
      " 17  tavg                      582976 non-null  float64       \n",
      " 18  tmax                      582023 non-null  float64       \n",
      " 19  tmin                      582057 non-null  float64       \n",
      " 20  wspd                      569688 non-null  float64       \n",
      " 21  year                      582976 non-null  int64         \n",
      "dtypes: datetime64[ns](1), float64(9), int64(4), object(8)\n",
      "memory usage: 102.3+ MB\n"
     ]
    }
   ],
   "source": [
    "df_test.info()"
   ]
  },
  {
   "cell_type": "code",
   "execution_count": 31,
   "metadata": {
    "pycharm": {
     "name": "#%%\n"
    }
   },
   "outputs": [],
   "source": [
    "df_ml = df_test"
   ]
  },
  {
   "cell_type": "code",
   "execution_count": 32,
   "metadata": {
    "pycharm": {
     "name": "#%%\n"
    }
   },
   "outputs": [
    {
     "name": "stdout",
     "output_type": "stream",
     "text": [
      "<class 'pandas.core.frame.DataFrame'>\n",
      "Int64Index: 582976 entries, 5 to 2166726\n",
      "Data columns (total 22 columns):\n",
      " #   Column                    Non-Null Count   Dtype         \n",
      "---  ------                    --------------   -----         \n",
      " 0   CONT_DATE                 361911 non-null  object        \n",
      " 1   DISCOVERY_DATE            582976 non-null  datetime64[ns]\n",
      " 2   FIPS_CODE                 472186 non-null  object        \n",
      " 3   FIPS_NAME                 472186 non-null  object        \n",
      " 4   FIRE_NAME                 349320 non-null  object        \n",
      " 5   FIRE_SIZE                 582976 non-null  float64       \n",
      " 6   FIRE_SIZE_CLASS           582976 non-null  object        \n",
      " 7   FIRE_YEAR                 582976 non-null  int64         \n",
      " 8   LATITUDE                  582976 non-null  float64       \n",
      " 9   LONGITUDE                 582976 non-null  float64       \n",
      " 10  NWCG_GENERAL_CAUSE        582976 non-null  object        \n",
      " 11  NWCG_REPORTING_UNIT_NAME  582976 non-null  object        \n",
      " 12  STATE                     582976 non-null  object        \n",
      " 13  day                       582976 non-null  int64         \n",
      " 14  month                     582976 non-null  int64         \n",
      " 15  prcp                      381246 non-null  float64       \n",
      " 16  pres                      409825 non-null  float64       \n",
      " 17  tavg                      582976 non-null  float64       \n",
      " 18  tmax                      582023 non-null  float64       \n",
      " 19  tmin                      582057 non-null  float64       \n",
      " 20  wspd                      569688 non-null  float64       \n",
      " 21  year                      582976 non-null  int64         \n",
      "dtypes: datetime64[ns](1), float64(9), int64(4), object(8)\n",
      "memory usage: 102.3+ MB\n"
     ]
    }
   ],
   "source": [
    "df_ml.info()"
   ]
  },
  {
   "cell_type": "code",
   "execution_count": 33,
   "metadata": {
    "pycharm": {
     "name": "#%%\n"
    }
   },
   "outputs": [],
   "source": [
    "df_ml.drop('NWCG_REPORTING_UNIT_NAME', inplace=True, axis = 1)\n",
    "df_ml.drop('FIRE_SIZE_CLASS', inplace=True, axis = 1)\n",
    "df_ml.drop('FIRE_NAME', inplace=True, axis = 1)\n",
    "df_ml.drop('FIRE_YEAR', inplace=True, axis = 1)"
   ]
  },
  {
   "cell_type": "code",
   "execution_count": 34,
   "metadata": {
    "pycharm": {
     "name": "#%%\n"
    }
   },
   "outputs": [
    {
     "data": {
      "text/html": [
       "<div>\n",
       "<style scoped>\n",
       "    .dataframe tbody tr th:only-of-type {\n",
       "        vertical-align: middle;\n",
       "    }\n",
       "\n",
       "    .dataframe tbody tr th {\n",
       "        vertical-align: top;\n",
       "    }\n",
       "\n",
       "    .dataframe thead th {\n",
       "        text-align: right;\n",
       "    }\n",
       "</style>\n",
       "<table border=\"1\" class=\"dataframe\">\n",
       "  <thead>\n",
       "    <tr style=\"text-align: right;\">\n",
       "      <th></th>\n",
       "      <th>CONT_DATE</th>\n",
       "      <th>DISCOVERY_DATE</th>\n",
       "      <th>FIPS_CODE</th>\n",
       "      <th>FIPS_NAME</th>\n",
       "      <th>FIRE_SIZE</th>\n",
       "      <th>LATITUDE</th>\n",
       "      <th>LONGITUDE</th>\n",
       "      <th>NWCG_GENERAL_CAUSE</th>\n",
       "      <th>STATE</th>\n",
       "      <th>day</th>\n",
       "      <th>month</th>\n",
       "      <th>prcp</th>\n",
       "      <th>pres</th>\n",
       "      <th>tavg</th>\n",
       "      <th>tmax</th>\n",
       "      <th>tmin</th>\n",
       "      <th>wspd</th>\n",
       "      <th>year</th>\n",
       "    </tr>\n",
       "  </thead>\n",
       "  <tbody>\n",
       "    <tr>\n",
       "      <th>5</th>\n",
       "      <td>7/1/2004 0:00</td>\n",
       "      <td>2004-06-30</td>\n",
       "      <td>06005</td>\n",
       "      <td>Amador County</td>\n",
       "      <td>0.1</td>\n",
       "      <td>38.635278</td>\n",
       "      <td>-120.103611</td>\n",
       "      <td>Natural</td>\n",
       "      <td>CA</td>\n",
       "      <td>30</td>\n",
       "      <td>6</td>\n",
       "      <td>NaN</td>\n",
       "      <td>1017.2</td>\n",
       "      <td>11.7</td>\n",
       "      <td>21.7</td>\n",
       "      <td>4.4</td>\n",
       "      <td>7.9</td>\n",
       "      <td>2004</td>\n",
       "    </tr>\n",
       "    <tr>\n",
       "      <th>6</th>\n",
       "      <td>7/2/2004 0:00</td>\n",
       "      <td>2004-07-01</td>\n",
       "      <td>06017</td>\n",
       "      <td>El Dorado County</td>\n",
       "      <td>0.1</td>\n",
       "      <td>38.688333</td>\n",
       "      <td>-120.153333</td>\n",
       "      <td>Natural</td>\n",
       "      <td>CA</td>\n",
       "      <td>1</td>\n",
       "      <td>7</td>\n",
       "      <td>NaN</td>\n",
       "      <td>1019.2</td>\n",
       "      <td>11.9</td>\n",
       "      <td>20.0</td>\n",
       "      <td>3.3</td>\n",
       "      <td>6.6</td>\n",
       "      <td>2004</td>\n",
       "    </tr>\n",
       "    <tr>\n",
       "      <th>10</th>\n",
       "      <td>7/3/2004 0:00</td>\n",
       "      <td>2004-07-02</td>\n",
       "      <td>06017</td>\n",
       "      <td>El Dorado County</td>\n",
       "      <td>0.1</td>\n",
       "      <td>38.691667</td>\n",
       "      <td>-120.159722</td>\n",
       "      <td>Natural</td>\n",
       "      <td>CA</td>\n",
       "      <td>2</td>\n",
       "      <td>7</td>\n",
       "      <td>NaN</td>\n",
       "      <td>1019.4</td>\n",
       "      <td>13.5</td>\n",
       "      <td>23.3</td>\n",
       "      <td>3.3</td>\n",
       "      <td>10.2</td>\n",
       "      <td>2004</td>\n",
       "    </tr>\n",
       "    <tr>\n",
       "      <th>14</th>\n",
       "      <td>10/3/2004 0:00</td>\n",
       "      <td>2004-10-03</td>\n",
       "      <td>06017</td>\n",
       "      <td>El Dorado County</td>\n",
       "      <td>0.2</td>\n",
       "      <td>38.675833</td>\n",
       "      <td>-120.279722</td>\n",
       "      <td>Natural</td>\n",
       "      <td>CA</td>\n",
       "      <td>3</td>\n",
       "      <td>10</td>\n",
       "      <td>NaN</td>\n",
       "      <td>1022.8</td>\n",
       "      <td>9.1</td>\n",
       "      <td>20.6</td>\n",
       "      <td>-1.1</td>\n",
       "      <td>4.8</td>\n",
       "      <td>2004</td>\n",
       "    </tr>\n",
       "    <tr>\n",
       "      <th>17</th>\n",
       "      <td>10/17/2004 0:00</td>\n",
       "      <td>2004-10-13</td>\n",
       "      <td>06017</td>\n",
       "      <td>El Dorado County</td>\n",
       "      <td>7700.0</td>\n",
       "      <td>38.780000</td>\n",
       "      <td>-120.260000</td>\n",
       "      <td>Power generation/transmission/distribution</td>\n",
       "      <td>CA</td>\n",
       "      <td>13</td>\n",
       "      <td>10</td>\n",
       "      <td>NaN</td>\n",
       "      <td>1023.4</td>\n",
       "      <td>9.4</td>\n",
       "      <td>19.4</td>\n",
       "      <td>-0.6</td>\n",
       "      <td>8.6</td>\n",
       "      <td>2004</td>\n",
       "    </tr>\n",
       "  </tbody>\n",
       "</table>\n",
       "</div>"
      ],
      "text/plain": [
       "          CONT_DATE DISCOVERY_DATE FIPS_CODE         FIPS_NAME  FIRE_SIZE  \\\n",
       "5     7/1/2004 0:00     2004-06-30     06005     Amador County        0.1   \n",
       "6     7/2/2004 0:00     2004-07-01     06017  El Dorado County        0.1   \n",
       "10    7/3/2004 0:00     2004-07-02     06017  El Dorado County        0.1   \n",
       "14   10/3/2004 0:00     2004-10-03     06017  El Dorado County        0.2   \n",
       "17  10/17/2004 0:00     2004-10-13     06017  El Dorado County     7700.0   \n",
       "\n",
       "     LATITUDE   LONGITUDE                          NWCG_GENERAL_CAUSE STATE  \\\n",
       "5   38.635278 -120.103611                                     Natural    CA   \n",
       "6   38.688333 -120.153333                                     Natural    CA   \n",
       "10  38.691667 -120.159722                                     Natural    CA   \n",
       "14  38.675833 -120.279722                                     Natural    CA   \n",
       "17  38.780000 -120.260000  Power generation/transmission/distribution    CA   \n",
       "\n",
       "    day  month  prcp    pres  tavg  tmax  tmin  wspd  year  \n",
       "5    30      6   NaN  1017.2  11.7  21.7   4.4   7.9  2004  \n",
       "6     1      7   NaN  1019.2  11.9  20.0   3.3   6.6  2004  \n",
       "10    2      7   NaN  1019.4  13.5  23.3   3.3  10.2  2004  \n",
       "14    3     10   NaN  1022.8   9.1  20.6  -1.1   4.8  2004  \n",
       "17   13     10   NaN  1023.4   9.4  19.4  -0.6   8.6  2004  "
      ]
     },
     "execution_count": 34,
     "metadata": {},
     "output_type": "execute_result"
    }
   ],
   "source": [
    "df_ml.head()"
   ]
  },
  {
   "cell_type": "code",
   "execution_count": 35,
   "metadata": {
    "pycharm": {
     "name": "#%%\n"
    }
   },
   "outputs": [],
   "source": [
    "df_ml.drop('FIPS_NAME', inplace=True, axis = 1)\n",
    "df_ml.drop('FIPS_CODE', inplace=True, axis = 1)"
   ]
  },
  {
   "cell_type": "code",
   "execution_count": 39,
   "metadata": {
    "pycharm": {
     "name": "#%%\n"
    }
   },
   "outputs": [],
   "source": [
    "df_ml.drop('CONT_DATE', inplace=True, axis = 1)\n",
    "df_ml.drop('DISCOVERY_DATE', inplace=True, axis = 1)"
   ]
  },
  {
   "cell_type": "code",
   "execution_count": 40,
   "metadata": {
    "pycharm": {
     "name": "#%%\n"
    }
   },
   "outputs": [
    {
     "data": {
      "text/html": [
       "<div>\n",
       "<style scoped>\n",
       "    .dataframe tbody tr th:only-of-type {\n",
       "        vertical-align: middle;\n",
       "    }\n",
       "\n",
       "    .dataframe tbody tr th {\n",
       "        vertical-align: top;\n",
       "    }\n",
       "\n",
       "    .dataframe thead th {\n",
       "        text-align: right;\n",
       "    }\n",
       "</style>\n",
       "<table border=\"1\" class=\"dataframe\">\n",
       "  <thead>\n",
       "    <tr style=\"text-align: right;\">\n",
       "      <th></th>\n",
       "      <th>FIRE_SIZE</th>\n",
       "      <th>LATITUDE</th>\n",
       "      <th>LONGITUDE</th>\n",
       "      <th>NWCG_GENERAL_CAUSE</th>\n",
       "      <th>STATE</th>\n",
       "      <th>day</th>\n",
       "      <th>month</th>\n",
       "      <th>prcp</th>\n",
       "      <th>pres</th>\n",
       "      <th>tavg</th>\n",
       "      <th>tmax</th>\n",
       "      <th>tmin</th>\n",
       "      <th>wspd</th>\n",
       "      <th>year</th>\n",
       "    </tr>\n",
       "  </thead>\n",
       "  <tbody>\n",
       "    <tr>\n",
       "      <th>5</th>\n",
       "      <td>0.1</td>\n",
       "      <td>38.635278</td>\n",
       "      <td>-120.103611</td>\n",
       "      <td>Natural</td>\n",
       "      <td>CA</td>\n",
       "      <td>30</td>\n",
       "      <td>6</td>\n",
       "      <td>NaN</td>\n",
       "      <td>1017.2</td>\n",
       "      <td>11.7</td>\n",
       "      <td>21.7</td>\n",
       "      <td>4.4</td>\n",
       "      <td>7.9</td>\n",
       "      <td>2004</td>\n",
       "    </tr>\n",
       "    <tr>\n",
       "      <th>6</th>\n",
       "      <td>0.1</td>\n",
       "      <td>38.688333</td>\n",
       "      <td>-120.153333</td>\n",
       "      <td>Natural</td>\n",
       "      <td>CA</td>\n",
       "      <td>1</td>\n",
       "      <td>7</td>\n",
       "      <td>NaN</td>\n",
       "      <td>1019.2</td>\n",
       "      <td>11.9</td>\n",
       "      <td>20.0</td>\n",
       "      <td>3.3</td>\n",
       "      <td>6.6</td>\n",
       "      <td>2004</td>\n",
       "    </tr>\n",
       "    <tr>\n",
       "      <th>10</th>\n",
       "      <td>0.1</td>\n",
       "      <td>38.691667</td>\n",
       "      <td>-120.159722</td>\n",
       "      <td>Natural</td>\n",
       "      <td>CA</td>\n",
       "      <td>2</td>\n",
       "      <td>7</td>\n",
       "      <td>NaN</td>\n",
       "      <td>1019.4</td>\n",
       "      <td>13.5</td>\n",
       "      <td>23.3</td>\n",
       "      <td>3.3</td>\n",
       "      <td>10.2</td>\n",
       "      <td>2004</td>\n",
       "    </tr>\n",
       "    <tr>\n",
       "      <th>14</th>\n",
       "      <td>0.2</td>\n",
       "      <td>38.675833</td>\n",
       "      <td>-120.279722</td>\n",
       "      <td>Natural</td>\n",
       "      <td>CA</td>\n",
       "      <td>3</td>\n",
       "      <td>10</td>\n",
       "      <td>NaN</td>\n",
       "      <td>1022.8</td>\n",
       "      <td>9.1</td>\n",
       "      <td>20.6</td>\n",
       "      <td>-1.1</td>\n",
       "      <td>4.8</td>\n",
       "      <td>2004</td>\n",
       "    </tr>\n",
       "    <tr>\n",
       "      <th>17</th>\n",
       "      <td>7700.0</td>\n",
       "      <td>38.780000</td>\n",
       "      <td>-120.260000</td>\n",
       "      <td>Power generation/transmission/distribution</td>\n",
       "      <td>CA</td>\n",
       "      <td>13</td>\n",
       "      <td>10</td>\n",
       "      <td>NaN</td>\n",
       "      <td>1023.4</td>\n",
       "      <td>9.4</td>\n",
       "      <td>19.4</td>\n",
       "      <td>-0.6</td>\n",
       "      <td>8.6</td>\n",
       "      <td>2004</td>\n",
       "    </tr>\n",
       "  </tbody>\n",
       "</table>\n",
       "</div>"
      ],
      "text/plain": [
       "    FIRE_SIZE   LATITUDE   LONGITUDE  \\\n",
       "5         0.1  38.635278 -120.103611   \n",
       "6         0.1  38.688333 -120.153333   \n",
       "10        0.1  38.691667 -120.159722   \n",
       "14        0.2  38.675833 -120.279722   \n",
       "17     7700.0  38.780000 -120.260000   \n",
       "\n",
       "                            NWCG_GENERAL_CAUSE STATE  day  month  prcp  \\\n",
       "5                                      Natural    CA   30      6   NaN   \n",
       "6                                      Natural    CA    1      7   NaN   \n",
       "10                                     Natural    CA    2      7   NaN   \n",
       "14                                     Natural    CA    3     10   NaN   \n",
       "17  Power generation/transmission/distribution    CA   13     10   NaN   \n",
       "\n",
       "      pres  tavg  tmax  tmin  wspd  year  \n",
       "5   1017.2  11.7  21.7   4.4   7.9  2004  \n",
       "6   1019.2  11.9  20.0   3.3   6.6  2004  \n",
       "10  1019.4  13.5  23.3   3.3  10.2  2004  \n",
       "14  1022.8   9.1  20.6  -1.1   4.8  2004  \n",
       "17  1023.4   9.4  19.4  -0.6   8.6  2004  "
      ]
     },
     "execution_count": 40,
     "metadata": {},
     "output_type": "execute_result"
    }
   ],
   "source": [
    "df_ml.head()"
   ]
  },
  {
   "cell_type": "code",
   "execution_count": 42,
   "metadata": {
    "pycharm": {
     "name": "#%%\n"
    }
   },
   "outputs": [],
   "source": [
    "df_ml = df_ml[df_ml['FIRE_SIZE'] < 100]"
   ]
  },
  {
   "cell_type": "code",
   "execution_count": 44,
   "metadata": {
    "pycharm": {
     "name": "#%%\n"
    }
   },
   "outputs": [
    {
     "name": "stdout",
     "output_type": "stream",
     "text": [
      "<class 'pandas.core.frame.DataFrame'>\n",
      "Int64Index: 570785 entries, 5 to 2166698\n",
      "Data columns (total 14 columns):\n",
      " #   Column              Non-Null Count   Dtype  \n",
      "---  ------              --------------   -----  \n",
      " 0   FIRE_SIZE           570785 non-null  float64\n",
      " 1   LATITUDE            570785 non-null  float64\n",
      " 2   LONGITUDE           570785 non-null  float64\n",
      " 3   NWCG_GENERAL_CAUSE  570785 non-null  object \n",
      " 4   STATE               570785 non-null  object \n",
      " 5   day                 570785 non-null  int64  \n",
      " 6   month               570785 non-null  int64  \n",
      " 7   prcp                373629 non-null  float64\n",
      " 8   pres                401640 non-null  float64\n",
      " 9   tavg                570785 non-null  float64\n",
      " 10  tmax                569845 non-null  float64\n",
      " 11  tmin                569878 non-null  float64\n",
      " 12  wspd                557804 non-null  float64\n",
      " 13  year                570785 non-null  int64  \n",
      "dtypes: float64(9), int64(3), object(2)\n",
      "memory usage: 65.3+ MB\n"
     ]
    }
   ],
   "source": [
    "df_ml.info()"
   ]
  },
  {
   "cell_type": "code",
   "execution_count": 48,
   "metadata": {
    "pycharm": {
     "name": "#%%\n"
    }
   },
   "outputs": [],
   "source": [
    "df_ml.drop('year', inplace=True, axis = 1)"
   ]
  },
  {
   "cell_type": "code",
   "execution_count": 49,
   "metadata": {
    "pycharm": {
     "name": "#%%\n"
    }
   },
   "outputs": [
    {
     "name": "stdout",
     "output_type": "stream",
     "text": [
      "<class 'pandas.core.frame.DataFrame'>\n",
      "Int64Index: 321577 entries, 35 to 2166661\n",
      "Data columns (total 13 columns):\n",
      " #   Column              Non-Null Count   Dtype  \n",
      "---  ------              --------------   -----  \n",
      " 0   FIRE_SIZE           321577 non-null  float64\n",
      " 1   LATITUDE            321577 non-null  float64\n",
      " 2   LONGITUDE           321577 non-null  float64\n",
      " 3   NWCG_GENERAL_CAUSE  321577 non-null  object \n",
      " 4   STATE               321577 non-null  object \n",
      " 5   day                 321577 non-null  int64  \n",
      " 6   month               321577 non-null  int64  \n",
      " 7   prcp                321577 non-null  float64\n",
      " 8   pres                321577 non-null  float64\n",
      " 9   tavg                321577 non-null  float64\n",
      " 10  tmax                321577 non-null  float64\n",
      " 11  tmin                321577 non-null  float64\n",
      " 12  wspd                321577 non-null  float64\n",
      "dtypes: float64(9), int64(2), object(2)\n",
      "memory usage: 34.3+ MB\n"
     ]
    }
   ],
   "source": [
    "tem = df_ml.dropna()\n",
    "tem.info()"
   ]
  },
  {
   "cell_type": "code",
   "execution_count": 50,
   "metadata": {
    "pycharm": {
     "name": "#%%\n"
    }
   },
   "outputs": [],
   "source": [
    "tem.to_csv('tem_weather.csv', index = False)"
   ]
  },
  {
   "cell_type": "code",
   "execution_count": null,
   "outputs": [],
   "source": [
    "df = pd.read_csv('US_Wildfire.csv')"
   ],
   "metadata": {
    "collapsed": false,
    "pycharm": {
     "name": "#%%\n"
    }
   }
  },
  {
   "cell_type": "code",
   "execution_count": null,
   "outputs": [],
   "source": [
    "df.info()"
   ],
   "metadata": {
    "collapsed": false,
    "pycharm": {
     "name": "#%%\n"
    }
   }
  },
  {
   "cell_type": "code",
   "execution_count": null,
   "outputs": [],
   "source": [
    "df[-year]"
   ],
   "metadata": {
    "collapsed": false,
    "pycharm": {
     "name": "#%%\n"
    }
   }
  },
  {
   "cell_type": "code",
   "execution_count": 5,
   "metadata": {
    "pycharm": {
     "name": "#%%\n"
    }
   },
   "outputs": [],
   "source": [
    "df = pd.read_csv('US_Wildfire.csv')"
   ]
  },
  {
   "cell_type": "code",
   "execution_count": 7,
   "metadata": {
    "pycharm": {
     "name": "#%%\n"
    }
   },
   "outputs": [
    {
     "name": "stdout",
     "output_type": "stream",
     "text": [
      "<class 'pandas.core.frame.DataFrame'>\n",
      "RangeIndex: 582976 entries, 0 to 582975\n",
      "Data columns (total 22 columns):\n",
      " #   Column                    Non-Null Count   Dtype  \n",
      "---  ------                    --------------   -----  \n",
      " 0   CONT_DATE                 361911 non-null  object \n",
      " 1   DISCOVERY_DATE            582976 non-null  object \n",
      " 2   FIPS_CODE                 472186 non-null  float64\n",
      " 3   FIPS_NAME                 472186 non-null  object \n",
      " 4   FIRE_NAME                 338615 non-null  object \n",
      " 5   FIRE_SIZE                 582976 non-null  float64\n",
      " 6   FIRE_SIZE_CLASS           582976 non-null  object \n",
      " 7   FIRE_YEAR                 582976 non-null  int64  \n",
      " 8   LATITUDE                  582976 non-null  float64\n",
      " 9   LONGITUDE                 582976 non-null  float64\n",
      " 10  NWCG_GENERAL_CAUSE        582976 non-null  object \n",
      " 11  NWCG_REPORTING_UNIT_NAME  582976 non-null  object \n",
      " 12  STATE                     582976 non-null  object \n",
      " 13  day                       582976 non-null  int64  \n",
      " 14  month                     582976 non-null  int64  \n",
      " 15  prcp                      381246 non-null  float64\n",
      " 16  pres                      409825 non-null  float64\n",
      " 17  tavg                      582976 non-null  float64\n",
      " 18  tmax                      582023 non-null  float64\n",
      " 19  tmin                      582057 non-null  float64\n",
      " 20  wspd                      569688 non-null  float64\n",
      " 21  year                      582976 non-null  int64  \n",
      "dtypes: float64(10), int64(4), object(8)\n",
      "memory usage: 97.9+ MB\n"
     ]
    }
   ],
   "source": [
    "df.info()"
   ]
  },
  {
   "cell_type": "code",
   "execution_count": 8,
   "metadata": {
    "pycharm": {
     "name": "#%%\n"
    }
   },
   "outputs": [
    {
     "ename": "NameError",
     "evalue": "name 'year' is not defined",
     "output_type": "error",
     "traceback": [
      "\u001B[0;31m---------------------------------------------------------------------------\u001B[0m",
      "\u001B[0;31mNameError\u001B[0m                                 Traceback (most recent call last)",
      "Input \u001B[0;32mIn [8]\u001B[0m, in \u001B[0;36m<cell line: 1>\u001B[0;34m()\u001B[0m\n\u001B[0;32m----> 1\u001B[0m df[\u001B[38;5;241m-\u001B[39m\u001B[43myear\u001B[49m]\n",
      "\u001B[0;31mNameError\u001B[0m: name 'year' is not defined"
     ]
    }
   ],
   "source": [
    "df[-year]"
   ]
  }
 ],
 "metadata": {
  "kernelspec": {
   "display_name": "Python 3 (ipykernel)",
   "language": "python",
   "name": "python3"
  },
  "language_info": {
   "codemirror_mode": {
    "name": "ipython",
    "version": 3
   },
   "file_extension": ".py",
   "mimetype": "text/x-python",
   "name": "python",
   "nbconvert_exporter": "python",
   "pygments_lexer": "ipython3",
   "version": "3.9.7"
  }
 },
 "nbformat": 4,
 "nbformat_minor": 1
}